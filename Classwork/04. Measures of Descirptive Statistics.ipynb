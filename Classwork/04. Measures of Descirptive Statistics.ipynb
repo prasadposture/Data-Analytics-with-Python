{
 "cells": [
  {
   "cell_type": "markdown",
   "id": "146214dc",
   "metadata": {},
   "source": [
    "# Measures of Descriptive Statistics"
   ]
  },
  {
   "cell_type": "markdown",
   "id": "b9919dd4",
   "metadata": {},
   "source": [
    "### `import` libraries"
   ]
  },
  {
   "cell_type": "code",
   "execution_count": 1,
   "id": "cc87c2be",
   "metadata": {},
   "outputs": [],
   "source": [
    "import pandas as pd\n",
    "import matplotlib.pyplot as plt\n",
    "%matplotlib inline\n",
    "import warnings\n",
    "warnings.filterwarnings(\"ignore\")"
   ]
  },
  {
   "cell_type": "code",
   "execution_count": 2,
   "id": "cf68f039",
   "metadata": {},
   "outputs": [
    {
     "data": {
      "text/html": [
       "<div>\n",
       "<style scoped>\n",
       "    .dataframe tbody tr th:only-of-type {\n",
       "        vertical-align: middle;\n",
       "    }\n",
       "\n",
       "    .dataframe tbody tr th {\n",
       "        vertical-align: top;\n",
       "    }\n",
       "\n",
       "    .dataframe thead th {\n",
       "        text-align: right;\n",
       "    }\n",
       "</style>\n",
       "<table border=\"1\" class=\"dataframe\">\n",
       "  <thead>\n",
       "    <tr style=\"text-align: right;\">\n",
       "      <th></th>\n",
       "      <th>Time from Start to Finish (seconds)</th>\n",
       "      <th>Q1</th>\n",
       "      <th>Q2</th>\n",
       "      <th>Q2_OTHER_TEXT</th>\n",
       "      <th>Q3</th>\n",
       "      <th>Q4</th>\n",
       "      <th>Q5</th>\n",
       "      <th>Q5_OTHER_TEXT</th>\n",
       "      <th>Q6</th>\n",
       "      <th>Q7</th>\n",
       "      <th>...</th>\n",
       "      <th>Q34_Part_4</th>\n",
       "      <th>Q34_Part_5</th>\n",
       "      <th>Q34_Part_6</th>\n",
       "      <th>Q34_Part_7</th>\n",
       "      <th>Q34_Part_8</th>\n",
       "      <th>Q34_Part_9</th>\n",
       "      <th>Q34_Part_10</th>\n",
       "      <th>Q34_Part_11</th>\n",
       "      <th>Q34_Part_12</th>\n",
       "      <th>Q34_OTHER_TEXT</th>\n",
       "    </tr>\n",
       "  </thead>\n",
       "  <tbody>\n",
       "    <tr>\n",
       "      <th>0</th>\n",
       "      <td>Duration (in seconds)</td>\n",
       "      <td>What is your age (# years)?</td>\n",
       "      <td>What is your gender? - Selected Choice</td>\n",
       "      <td>What is your gender? - Prefer to self-describe...</td>\n",
       "      <td>In which country do you currently reside?</td>\n",
       "      <td>What is the highest level of formal education ...</td>\n",
       "      <td>Select the title most similar to your current ...</td>\n",
       "      <td>Select the title most similar to your current ...</td>\n",
       "      <td>What is the size of the company where you are ...</td>\n",
       "      <td>Approximately how many individuals are respons...</td>\n",
       "      <td>...</td>\n",
       "      <td>Which of the following relational database pro...</td>\n",
       "      <td>Which of the following relational database pro...</td>\n",
       "      <td>Which of the following relational database pro...</td>\n",
       "      <td>Which of the following relational database pro...</td>\n",
       "      <td>Which of the following relational database pro...</td>\n",
       "      <td>Which of the following relational database pro...</td>\n",
       "      <td>Which of the following relational database pro...</td>\n",
       "      <td>Which of the following relational database pro...</td>\n",
       "      <td>Which of the following relational database pro...</td>\n",
       "      <td>Which of the following relational database pro...</td>\n",
       "    </tr>\n",
       "    <tr>\n",
       "      <th>1</th>\n",
       "      <td>510</td>\n",
       "      <td>22-24</td>\n",
       "      <td>Male</td>\n",
       "      <td>-1</td>\n",
       "      <td>France</td>\n",
       "      <td>Master’s degree</td>\n",
       "      <td>Software Engineer</td>\n",
       "      <td>-1</td>\n",
       "      <td>1000-9,999 employees</td>\n",
       "      <td>0</td>\n",
       "      <td>...</td>\n",
       "      <td>NaN</td>\n",
       "      <td>NaN</td>\n",
       "      <td>NaN</td>\n",
       "      <td>NaN</td>\n",
       "      <td>NaN</td>\n",
       "      <td>NaN</td>\n",
       "      <td>NaN</td>\n",
       "      <td>NaN</td>\n",
       "      <td>NaN</td>\n",
       "      <td>-1</td>\n",
       "    </tr>\n",
       "    <tr>\n",
       "      <th>2</th>\n",
       "      <td>423</td>\n",
       "      <td>40-44</td>\n",
       "      <td>Male</td>\n",
       "      <td>-1</td>\n",
       "      <td>India</td>\n",
       "      <td>Professional degree</td>\n",
       "      <td>Software Engineer</td>\n",
       "      <td>-1</td>\n",
       "      <td>&gt; 10,000 employees</td>\n",
       "      <td>20+</td>\n",
       "      <td>...</td>\n",
       "      <td>NaN</td>\n",
       "      <td>NaN</td>\n",
       "      <td>NaN</td>\n",
       "      <td>NaN</td>\n",
       "      <td>NaN</td>\n",
       "      <td>NaN</td>\n",
       "      <td>NaN</td>\n",
       "      <td>NaN</td>\n",
       "      <td>NaN</td>\n",
       "      <td>-1</td>\n",
       "    </tr>\n",
       "    <tr>\n",
       "      <th>3</th>\n",
       "      <td>83</td>\n",
       "      <td>55-59</td>\n",
       "      <td>Female</td>\n",
       "      <td>-1</td>\n",
       "      <td>Germany</td>\n",
       "      <td>Professional degree</td>\n",
       "      <td>NaN</td>\n",
       "      <td>-1</td>\n",
       "      <td>NaN</td>\n",
       "      <td>NaN</td>\n",
       "      <td>...</td>\n",
       "      <td>NaN</td>\n",
       "      <td>NaN</td>\n",
       "      <td>NaN</td>\n",
       "      <td>NaN</td>\n",
       "      <td>NaN</td>\n",
       "      <td>NaN</td>\n",
       "      <td>NaN</td>\n",
       "      <td>NaN</td>\n",
       "      <td>NaN</td>\n",
       "      <td>-1</td>\n",
       "    </tr>\n",
       "    <tr>\n",
       "      <th>4</th>\n",
       "      <td>391</td>\n",
       "      <td>40-44</td>\n",
       "      <td>Male</td>\n",
       "      <td>-1</td>\n",
       "      <td>Australia</td>\n",
       "      <td>Master’s degree</td>\n",
       "      <td>Other</td>\n",
       "      <td>0</td>\n",
       "      <td>&gt; 10,000 employees</td>\n",
       "      <td>20+</td>\n",
       "      <td>...</td>\n",
       "      <td>NaN</td>\n",
       "      <td>NaN</td>\n",
       "      <td>NaN</td>\n",
       "      <td>NaN</td>\n",
       "      <td>NaN</td>\n",
       "      <td>Azure SQL Database</td>\n",
       "      <td>NaN</td>\n",
       "      <td>NaN</td>\n",
       "      <td>NaN</td>\n",
       "      <td>-1</td>\n",
       "    </tr>\n",
       "  </tbody>\n",
       "</table>\n",
       "<p>5 rows × 246 columns</p>\n",
       "</div>"
      ],
      "text/plain": [
       "  Time from Start to Finish (seconds)                           Q1  \\\n",
       "0               Duration (in seconds)  What is your age (# years)?   \n",
       "1                                 510                        22-24   \n",
       "2                                 423                        40-44   \n",
       "3                                  83                        55-59   \n",
       "4                                 391                        40-44   \n",
       "\n",
       "                                       Q2  \\\n",
       "0  What is your gender? - Selected Choice   \n",
       "1                                    Male   \n",
       "2                                    Male   \n",
       "3                                  Female   \n",
       "4                                    Male   \n",
       "\n",
       "                                       Q2_OTHER_TEXT  \\\n",
       "0  What is your gender? - Prefer to self-describe...   \n",
       "1                                                 -1   \n",
       "2                                                 -1   \n",
       "3                                                 -1   \n",
       "4                                                 -1   \n",
       "\n",
       "                                          Q3  \\\n",
       "0  In which country do you currently reside?   \n",
       "1                                     France   \n",
       "2                                      India   \n",
       "3                                    Germany   \n",
       "4                                  Australia   \n",
       "\n",
       "                                                  Q4  \\\n",
       "0  What is the highest level of formal education ...   \n",
       "1                                    Master’s degree   \n",
       "2                                Professional degree   \n",
       "3                                Professional degree   \n",
       "4                                    Master’s degree   \n",
       "\n",
       "                                                  Q5  \\\n",
       "0  Select the title most similar to your current ...   \n",
       "1                                  Software Engineer   \n",
       "2                                  Software Engineer   \n",
       "3                                                NaN   \n",
       "4                                              Other   \n",
       "\n",
       "                                       Q5_OTHER_TEXT  \\\n",
       "0  Select the title most similar to your current ...   \n",
       "1                                                 -1   \n",
       "2                                                 -1   \n",
       "3                                                 -1   \n",
       "4                                                  0   \n",
       "\n",
       "                                                  Q6  \\\n",
       "0  What is the size of the company where you are ...   \n",
       "1                               1000-9,999 employees   \n",
       "2                                 > 10,000 employees   \n",
       "3                                                NaN   \n",
       "4                                 > 10,000 employees   \n",
       "\n",
       "                                                  Q7  ...  \\\n",
       "0  Approximately how many individuals are respons...  ...   \n",
       "1                                                  0  ...   \n",
       "2                                                20+  ...   \n",
       "3                                                NaN  ...   \n",
       "4                                                20+  ...   \n",
       "\n",
       "                                          Q34_Part_4  \\\n",
       "0  Which of the following relational database pro...   \n",
       "1                                                NaN   \n",
       "2                                                NaN   \n",
       "3                                                NaN   \n",
       "4                                                NaN   \n",
       "\n",
       "                                          Q34_Part_5  \\\n",
       "0  Which of the following relational database pro...   \n",
       "1                                                NaN   \n",
       "2                                                NaN   \n",
       "3                                                NaN   \n",
       "4                                                NaN   \n",
       "\n",
       "                                          Q34_Part_6  \\\n",
       "0  Which of the following relational database pro...   \n",
       "1                                                NaN   \n",
       "2                                                NaN   \n",
       "3                                                NaN   \n",
       "4                                                NaN   \n",
       "\n",
       "                                          Q34_Part_7  \\\n",
       "0  Which of the following relational database pro...   \n",
       "1                                                NaN   \n",
       "2                                                NaN   \n",
       "3                                                NaN   \n",
       "4                                                NaN   \n",
       "\n",
       "                                          Q34_Part_8  \\\n",
       "0  Which of the following relational database pro...   \n",
       "1                                                NaN   \n",
       "2                                                NaN   \n",
       "3                                                NaN   \n",
       "4                                                NaN   \n",
       "\n",
       "                                          Q34_Part_9  \\\n",
       "0  Which of the following relational database pro...   \n",
       "1                                                NaN   \n",
       "2                                                NaN   \n",
       "3                                                NaN   \n",
       "4                                 Azure SQL Database   \n",
       "\n",
       "                                         Q34_Part_10  \\\n",
       "0  Which of the following relational database pro...   \n",
       "1                                                NaN   \n",
       "2                                                NaN   \n",
       "3                                                NaN   \n",
       "4                                                NaN   \n",
       "\n",
       "                                         Q34_Part_11  \\\n",
       "0  Which of the following relational database pro...   \n",
       "1                                                NaN   \n",
       "2                                                NaN   \n",
       "3                                                NaN   \n",
       "4                                                NaN   \n",
       "\n",
       "                                         Q34_Part_12  \\\n",
       "0  Which of the following relational database pro...   \n",
       "1                                                NaN   \n",
       "2                                                NaN   \n",
       "3                                                NaN   \n",
       "4                                                NaN   \n",
       "\n",
       "                                      Q34_OTHER_TEXT  \n",
       "0  Which of the following relational database pro...  \n",
       "1                                                 -1  \n",
       "2                                                 -1  \n",
       "3                                                 -1  \n",
       "4                                                 -1  \n",
       "\n",
       "[5 rows x 246 columns]"
      ]
     },
     "execution_count": 2,
     "metadata": {},
     "output_type": "execute_result"
    }
   ],
   "source": [
    "df=pd.read_csv('kaggle_clean.csv')\n",
    "df.head()"
   ]
  },
  {
   "cell_type": "markdown",
   "id": "afe962fd",
   "metadata": {},
   "source": [
    "We can see two potential headers in here"
   ]
  },
  {
   "cell_type": "code",
   "execution_count": 3,
   "id": "bbb0002c",
   "metadata": {},
   "outputs": [
    {
     "data": {
      "text/html": [
       "<div>\n",
       "<style scoped>\n",
       "    .dataframe tbody tr th:only-of-type {\n",
       "        vertical-align: middle;\n",
       "    }\n",
       "\n",
       "    .dataframe tbody tr th {\n",
       "        vertical-align: top;\n",
       "    }\n",
       "\n",
       "    .dataframe thead tr th {\n",
       "        text-align: left;\n",
       "    }\n",
       "</style>\n",
       "<table border=\"1\" class=\"dataframe\">\n",
       "  <thead>\n",
       "    <tr>\n",
       "      <th></th>\n",
       "      <th>Time from Start to Finish (seconds)</th>\n",
       "      <th>Q1</th>\n",
       "      <th>Q2</th>\n",
       "      <th>Q2_OTHER_TEXT</th>\n",
       "      <th>Q3</th>\n",
       "      <th>Q4</th>\n",
       "      <th>Q5</th>\n",
       "      <th>Q5_OTHER_TEXT</th>\n",
       "      <th>Q6</th>\n",
       "      <th>Q7</th>\n",
       "      <th>...</th>\n",
       "      <th>Q34_Part_4</th>\n",
       "      <th>Q34_Part_5</th>\n",
       "      <th>Q34_Part_6</th>\n",
       "      <th>Q34_Part_7</th>\n",
       "      <th>Q34_Part_8</th>\n",
       "      <th>Q34_Part_9</th>\n",
       "      <th>Q34_Part_10</th>\n",
       "      <th>Q34_Part_11</th>\n",
       "      <th>Q34_Part_12</th>\n",
       "      <th>Q34_OTHER_TEXT</th>\n",
       "    </tr>\n",
       "    <tr>\n",
       "      <th></th>\n",
       "      <th>Duration (in seconds)</th>\n",
       "      <th>What is your age (# years)?</th>\n",
       "      <th>What is your gender? - Selected Choice</th>\n",
       "      <th>What is your gender? - Prefer to self-describe - Text</th>\n",
       "      <th>In which country do you currently reside?</th>\n",
       "      <th>What is the highest level of formal education that you have attained or plan to attain within the next 2 years?</th>\n",
       "      <th>Select the title most similar to your current role (or most recent title if retired): - Selected Choice</th>\n",
       "      <th>Select the title most similar to your current role (or most recent title if retired): - Other - Text</th>\n",
       "      <th>What is the size of the company where you are employed?</th>\n",
       "      <th>Approximately how many individuals are responsible for data science workloads at your place of business?</th>\n",
       "      <th>...</th>\n",
       "      <th>Which of the following relational database products do you use on a regular basis? (Select all that apply) - Selected Choice - Microsoft SQL Server</th>\n",
       "      <th>Which of the following relational database products do you use on a regular basis? (Select all that apply) - Selected Choice - Oracle Database</th>\n",
       "      <th>Which of the following relational database products do you use on a regular basis? (Select all that apply) - Selected Choice - Microsoft Access</th>\n",
       "      <th>Which of the following relational database products do you use on a regular basis? (Select all that apply) - Selected Choice - AWS Relational Database Service</th>\n",
       "      <th>Which of the following relational database products do you use on a regular basis? (Select all that apply) - Selected Choice - AWS DynamoDB</th>\n",
       "      <th>Which of the following relational database products do you use on a regular basis? (Select all that apply) - Selected Choice - Azure SQL Database</th>\n",
       "      <th>Which of the following relational database products do you use on a regular basis? (Select all that apply) - Selected Choice - Google Cloud SQL</th>\n",
       "      <th>Which of the following relational database products do you use on a regular basis? (Select all that apply) - Selected Choice - None</th>\n",
       "      <th>Which of the following relational database products do you use on a regular basis? (Select all that apply) - Selected Choice - Other</th>\n",
       "      <th>Which of the following relational database products do you use on a regular basis? (Select all that apply) - Other - Text</th>\n",
       "    </tr>\n",
       "  </thead>\n",
       "  <tbody>\n",
       "    <tr>\n",
       "      <th>0</th>\n",
       "      <td>510</td>\n",
       "      <td>22-24</td>\n",
       "      <td>Male</td>\n",
       "      <td>-1</td>\n",
       "      <td>France</td>\n",
       "      <td>Master’s degree</td>\n",
       "      <td>Software Engineer</td>\n",
       "      <td>-1</td>\n",
       "      <td>1000-9,999 employees</td>\n",
       "      <td>0</td>\n",
       "      <td>...</td>\n",
       "      <td>NaN</td>\n",
       "      <td>NaN</td>\n",
       "      <td>NaN</td>\n",
       "      <td>NaN</td>\n",
       "      <td>NaN</td>\n",
       "      <td>NaN</td>\n",
       "      <td>NaN</td>\n",
       "      <td>NaN</td>\n",
       "      <td>NaN</td>\n",
       "      <td>-1</td>\n",
       "    </tr>\n",
       "    <tr>\n",
       "      <th>1</th>\n",
       "      <td>423</td>\n",
       "      <td>40-44</td>\n",
       "      <td>Male</td>\n",
       "      <td>-1</td>\n",
       "      <td>India</td>\n",
       "      <td>Professional degree</td>\n",
       "      <td>Software Engineer</td>\n",
       "      <td>-1</td>\n",
       "      <td>&gt; 10,000 employees</td>\n",
       "      <td>20+</td>\n",
       "      <td>...</td>\n",
       "      <td>NaN</td>\n",
       "      <td>NaN</td>\n",
       "      <td>NaN</td>\n",
       "      <td>NaN</td>\n",
       "      <td>NaN</td>\n",
       "      <td>NaN</td>\n",
       "      <td>NaN</td>\n",
       "      <td>NaN</td>\n",
       "      <td>NaN</td>\n",
       "      <td>-1</td>\n",
       "    </tr>\n",
       "    <tr>\n",
       "      <th>2</th>\n",
       "      <td>83</td>\n",
       "      <td>55-59</td>\n",
       "      <td>Female</td>\n",
       "      <td>-1</td>\n",
       "      <td>Germany</td>\n",
       "      <td>Professional degree</td>\n",
       "      <td>NaN</td>\n",
       "      <td>-1</td>\n",
       "      <td>NaN</td>\n",
       "      <td>NaN</td>\n",
       "      <td>...</td>\n",
       "      <td>NaN</td>\n",
       "      <td>NaN</td>\n",
       "      <td>NaN</td>\n",
       "      <td>NaN</td>\n",
       "      <td>NaN</td>\n",
       "      <td>NaN</td>\n",
       "      <td>NaN</td>\n",
       "      <td>NaN</td>\n",
       "      <td>NaN</td>\n",
       "      <td>-1</td>\n",
       "    </tr>\n",
       "    <tr>\n",
       "      <th>3</th>\n",
       "      <td>391</td>\n",
       "      <td>40-44</td>\n",
       "      <td>Male</td>\n",
       "      <td>-1</td>\n",
       "      <td>Australia</td>\n",
       "      <td>Master’s degree</td>\n",
       "      <td>Other</td>\n",
       "      <td>0</td>\n",
       "      <td>&gt; 10,000 employees</td>\n",
       "      <td>20+</td>\n",
       "      <td>...</td>\n",
       "      <td>NaN</td>\n",
       "      <td>NaN</td>\n",
       "      <td>NaN</td>\n",
       "      <td>NaN</td>\n",
       "      <td>NaN</td>\n",
       "      <td>Azure SQL Database</td>\n",
       "      <td>NaN</td>\n",
       "      <td>NaN</td>\n",
       "      <td>NaN</td>\n",
       "      <td>-1</td>\n",
       "    </tr>\n",
       "    <tr>\n",
       "      <th>4</th>\n",
       "      <td>392</td>\n",
       "      <td>22-24</td>\n",
       "      <td>Male</td>\n",
       "      <td>-1</td>\n",
       "      <td>India</td>\n",
       "      <td>Bachelor’s degree</td>\n",
       "      <td>Other</td>\n",
       "      <td>1</td>\n",
       "      <td>0-49 employees</td>\n",
       "      <td>0</td>\n",
       "      <td>...</td>\n",
       "      <td>NaN</td>\n",
       "      <td>NaN</td>\n",
       "      <td>NaN</td>\n",
       "      <td>NaN</td>\n",
       "      <td>NaN</td>\n",
       "      <td>NaN</td>\n",
       "      <td>NaN</td>\n",
       "      <td>NaN</td>\n",
       "      <td>NaN</td>\n",
       "      <td>-1</td>\n",
       "    </tr>\n",
       "  </tbody>\n",
       "</table>\n",
       "<p>5 rows × 246 columns</p>\n",
       "</div>"
      ],
      "text/plain": [
       "  Time from Start to Finish (seconds)                          Q1  \\\n",
       "                Duration (in seconds) What is your age (# years)?   \n",
       "0                                 510                       22-24   \n",
       "1                                 423                       40-44   \n",
       "2                                  83                       55-59   \n",
       "3                                 391                       40-44   \n",
       "4                                 392                       22-24   \n",
       "\n",
       "                                      Q2  \\\n",
       "  What is your gender? - Selected Choice   \n",
       "0                                   Male   \n",
       "1                                   Male   \n",
       "2                                 Female   \n",
       "3                                   Male   \n",
       "4                                   Male   \n",
       "\n",
       "                                          Q2_OTHER_TEXT  \\\n",
       "  What is your gender? - Prefer to self-describe - Text   \n",
       "0                                                 -1      \n",
       "1                                                 -1      \n",
       "2                                                 -1      \n",
       "3                                                 -1      \n",
       "4                                                 -1      \n",
       "\n",
       "                                         Q3  \\\n",
       "  In which country do you currently reside?   \n",
       "0                                    France   \n",
       "1                                     India   \n",
       "2                                   Germany   \n",
       "3                                 Australia   \n",
       "4                                     India   \n",
       "\n",
       "                                                                                                               Q4  \\\n",
       "  What is the highest level of formal education that you have attained or plan to attain within the next 2 years?   \n",
       "0                                    Master’s degree                                                                \n",
       "1                                Professional degree                                                                \n",
       "2                                Professional degree                                                                \n",
       "3                                    Master’s degree                                                                \n",
       "4                                  Bachelor’s degree                                                                \n",
       "\n",
       "                                                                                                       Q5  \\\n",
       "  Select the title most similar to your current role (or most recent title if retired): - Selected Choice   \n",
       "0                                  Software Engineer                                                        \n",
       "1                                  Software Engineer                                                        \n",
       "2                                                NaN                                                        \n",
       "3                                              Other                                                        \n",
       "4                                              Other                                                        \n",
       "\n",
       "                                                                                         Q5_OTHER_TEXT  \\\n",
       "  Select the title most similar to your current role (or most recent title if retired): - Other - Text   \n",
       "0                                                 -1                                                     \n",
       "1                                                 -1                                                     \n",
       "2                                                 -1                                                     \n",
       "3                                                  0                                                     \n",
       "4                                                  1                                                     \n",
       "\n",
       "                                                       Q6  \\\n",
       "  What is the size of the company where you are employed?   \n",
       "0                               1000-9,999 employees        \n",
       "1                                 > 10,000 employees        \n",
       "2                                                NaN        \n",
       "3                                 > 10,000 employees        \n",
       "4                                     0-49 employees        \n",
       "\n",
       "                                                                                                        Q7  \\\n",
       "  Approximately how many individuals are responsible for data science workloads at your place of business?   \n",
       "0                                                  0                                                         \n",
       "1                                                20+                                                         \n",
       "2                                                NaN                                                         \n",
       "3                                                20+                                                         \n",
       "4                                                  0                                                         \n",
       "\n",
       "   ...  \\\n",
       "   ...   \n",
       "0  ...   \n",
       "1  ...   \n",
       "2  ...   \n",
       "3  ...   \n",
       "4  ...   \n",
       "\n",
       "                                                                                                                                           Q34_Part_4  \\\n",
       "  Which of the following relational database products do you use on a regular basis? (Select all that apply) - Selected Choice - Microsoft SQL Server   \n",
       "0                                                NaN                                                                                                    \n",
       "1                                                NaN                                                                                                    \n",
       "2                                                NaN                                                                                                    \n",
       "3                                                NaN                                                                                                    \n",
       "4                                                NaN                                                                                                    \n",
       "\n",
       "                                                                                                                                      Q34_Part_5  \\\n",
       "  Which of the following relational database products do you use on a regular basis? (Select all that apply) - Selected Choice - Oracle Database   \n",
       "0                                                NaN                                                                                               \n",
       "1                                                NaN                                                                                               \n",
       "2                                                NaN                                                                                               \n",
       "3                                                NaN                                                                                               \n",
       "4                                                NaN                                                                                               \n",
       "\n",
       "                                                                                                                                       Q34_Part_6  \\\n",
       "  Which of the following relational database products do you use on a regular basis? (Select all that apply) - Selected Choice - Microsoft Access   \n",
       "0                                                NaN                                                                                                \n",
       "1                                                NaN                                                                                                \n",
       "2                                                NaN                                                                                                \n",
       "3                                                NaN                                                                                                \n",
       "4                                                NaN                                                                                                \n",
       "\n",
       "                                                                                                                                                      Q34_Part_7  \\\n",
       "  Which of the following relational database products do you use on a regular basis? (Select all that apply) - Selected Choice - AWS Relational Database Service   \n",
       "0                                                NaN                                                                                                               \n",
       "1                                                NaN                                                                                                               \n",
       "2                                                NaN                                                                                                               \n",
       "3                                                NaN                                                                                                               \n",
       "4                                                NaN                                                                                                               \n",
       "\n",
       "                                                                                                                                   Q34_Part_8  \\\n",
       "  Which of the following relational database products do you use on a regular basis? (Select all that apply) - Selected Choice - AWS DynamoDB   \n",
       "0                                                NaN                                                                                            \n",
       "1                                                NaN                                                                                            \n",
       "2                                                NaN                                                                                            \n",
       "3                                                NaN                                                                                            \n",
       "4                                                NaN                                                                                            \n",
       "\n",
       "                                                                                                                                         Q34_Part_9  \\\n",
       "  Which of the following relational database products do you use on a regular basis? (Select all that apply) - Selected Choice - Azure SQL Database   \n",
       "0                                                NaN                                                                                                  \n",
       "1                                                NaN                                                                                                  \n",
       "2                                                NaN                                                                                                  \n",
       "3                                 Azure SQL Database                                                                                                  \n",
       "4                                                NaN                                                                                                  \n",
       "\n",
       "                                                                                                                                      Q34_Part_10  \\\n",
       "  Which of the following relational database products do you use on a regular basis? (Select all that apply) - Selected Choice - Google Cloud SQL   \n",
       "0                                                NaN                                                                                                \n",
       "1                                                NaN                                                                                                \n",
       "2                                                NaN                                                                                                \n",
       "3                                                NaN                                                                                                \n",
       "4                                                NaN                                                                                                \n",
       "\n",
       "                                                                                                                          Q34_Part_11  \\\n",
       "  Which of the following relational database products do you use on a regular basis? (Select all that apply) - Selected Choice - None   \n",
       "0                                                NaN                                                                                    \n",
       "1                                                NaN                                                                                    \n",
       "2                                                NaN                                                                                    \n",
       "3                                                NaN                                                                                    \n",
       "4                                                NaN                                                                                    \n",
       "\n",
       "                                                                                                                           Q34_Part_12  \\\n",
       "  Which of the following relational database products do you use on a regular basis? (Select all that apply) - Selected Choice - Other   \n",
       "0                                                NaN                                                                                     \n",
       "1                                                NaN                                                                                     \n",
       "2                                                NaN                                                                                     \n",
       "3                                                NaN                                                                                     \n",
       "4                                                NaN                                                                                     \n",
       "\n",
       "                                                                                                             Q34_OTHER_TEXT  \n",
       "  Which of the following relational database products do you use on a regular basis? (Select all that apply) - Other - Text  \n",
       "0                                                 -1                                                                         \n",
       "1                                                 -1                                                                         \n",
       "2                                                 -1                                                                         \n",
       "3                                                 -1                                                                         \n",
       "4                                                 -1                                                                         \n",
       "\n",
       "[5 rows x 246 columns]"
      ]
     },
     "execution_count": 3,
     "metadata": {},
     "output_type": "execute_result"
    }
   ],
   "source": [
    "df=pd.read_csv('kaggle_clean.csv',header=[0,1])\n",
    "df.head()"
   ]
  },
  {
   "cell_type": "code",
   "execution_count": 4,
   "id": "c94f7cc9",
   "metadata": {},
   "outputs": [
    {
     "data": {
      "text/plain": [
       "(19419, 246)"
      ]
     },
     "execution_count": 4,
     "metadata": {},
     "output_type": "execute_result"
    }
   ],
   "source": [
    "df.shape"
   ]
  },
  {
   "cell_type": "code",
   "execution_count": 5,
   "id": "57c3b807",
   "metadata": {},
   "outputs": [
    {
     "data": {
      "text/plain": [
       "MultiIndex([('Time from Start to Finish (seconds)', ...),\n",
       "            (                                 'Q1', ...),\n",
       "            (                                 'Q2', ...),\n",
       "            (                      'Q2_OTHER_TEXT', ...),\n",
       "            (                                 'Q3', ...),\n",
       "            (                                 'Q4', ...),\n",
       "            (                                 'Q5', ...),\n",
       "            (                      'Q5_OTHER_TEXT', ...),\n",
       "            (                                 'Q6', ...),\n",
       "            (                                 'Q7', ...),\n",
       "            ...\n",
       "            (                         'Q34_Part_4', ...),\n",
       "            (                         'Q34_Part_5', ...),\n",
       "            (                         'Q34_Part_6', ...),\n",
       "            (                         'Q34_Part_7', ...),\n",
       "            (                         'Q34_Part_8', ...),\n",
       "            (                         'Q34_Part_9', ...),\n",
       "            (                        'Q34_Part_10', ...),\n",
       "            (                        'Q34_Part_11', ...),\n",
       "            (                        'Q34_Part_12', ...),\n",
       "            (                     'Q34_OTHER_TEXT', ...)],\n",
       "           length=246)"
      ]
     },
     "execution_count": 5,
     "metadata": {},
     "output_type": "execute_result"
    }
   ],
   "source": [
    "df.columns"
   ]
  },
  {
   "cell_type": "code",
   "execution_count": 6,
   "id": "f958bfb9",
   "metadata": {},
   "outputs": [
    {
     "data": {
      "text/html": [
       "<div>\n",
       "<style scoped>\n",
       "    .dataframe tbody tr th:only-of-type {\n",
       "        vertical-align: middle;\n",
       "    }\n",
       "\n",
       "    .dataframe tbody tr th {\n",
       "        vertical-align: top;\n",
       "    }\n",
       "\n",
       "    .dataframe thead th {\n",
       "        text-align: right;\n",
       "    }\n",
       "</style>\n",
       "<table border=\"1\" class=\"dataframe\">\n",
       "  <thead>\n",
       "    <tr style=\"text-align: right;\">\n",
       "      <th></th>\n",
       "      <th>What is your age (# years)?</th>\n",
       "    </tr>\n",
       "  </thead>\n",
       "  <tbody>\n",
       "    <tr>\n",
       "      <th>0</th>\n",
       "      <td>22-24</td>\n",
       "    </tr>\n",
       "    <tr>\n",
       "      <th>1</th>\n",
       "      <td>40-44</td>\n",
       "    </tr>\n",
       "    <tr>\n",
       "      <th>2</th>\n",
       "      <td>55-59</td>\n",
       "    </tr>\n",
       "    <tr>\n",
       "      <th>3</th>\n",
       "      <td>40-44</td>\n",
       "    </tr>\n",
       "    <tr>\n",
       "      <th>4</th>\n",
       "      <td>22-24</td>\n",
       "    </tr>\n",
       "    <tr>\n",
       "      <th>...</th>\n",
       "      <td>...</td>\n",
       "    </tr>\n",
       "    <tr>\n",
       "      <th>19414</th>\n",
       "      <td>50-54</td>\n",
       "    </tr>\n",
       "    <tr>\n",
       "      <th>19415</th>\n",
       "      <td>18-21</td>\n",
       "    </tr>\n",
       "    <tr>\n",
       "      <th>19416</th>\n",
       "      <td>35-39</td>\n",
       "    </tr>\n",
       "    <tr>\n",
       "      <th>19417</th>\n",
       "      <td>25-29</td>\n",
       "    </tr>\n",
       "    <tr>\n",
       "      <th>19418</th>\n",
       "      <td>50-54</td>\n",
       "    </tr>\n",
       "  </tbody>\n",
       "</table>\n",
       "<p>19419 rows × 1 columns</p>\n",
       "</div>"
      ],
      "text/plain": [
       "      What is your age (# years)?\n",
       "0                           22-24\n",
       "1                           40-44\n",
       "2                           55-59\n",
       "3                           40-44\n",
       "4                           22-24\n",
       "...                           ...\n",
       "19414                       50-54\n",
       "19415                       18-21\n",
       "19416                       35-39\n",
       "19417                       25-29\n",
       "19418                       50-54\n",
       "\n",
       "[19419 rows x 1 columns]"
      ]
     },
     "execution_count": 6,
     "metadata": {},
     "output_type": "execute_result"
    }
   ],
   "source": [
    "df['Q1']"
   ]
  },
  {
   "cell_type": "code",
   "execution_count": 7,
   "id": "c2a7bfc7",
   "metadata": {},
   "outputs": [
    {
     "data": {
      "text/plain": [
       "0        22-24\n",
       "1        40-44\n",
       "2        55-59\n",
       "3        40-44\n",
       "4        22-24\n",
       "         ...  \n",
       "19414    50-54\n",
       "19415    18-21\n",
       "19416    35-39\n",
       "19417    25-29\n",
       "19418    50-54\n",
       "Name: (Q1, What is your age (# years)?), Length: 19419, dtype: object"
      ]
     },
     "execution_count": 7,
     "metadata": {},
     "output_type": "execute_result"
    }
   ],
   "source": [
    "df['Q1','What is your age (# years)?']"
   ]
  },
  {
   "cell_type": "markdown",
   "id": "15b2a031",
   "metadata": {},
   "source": [
    "keeping the first level of indexing on the dataframe and the second level only for reference"
   ]
  },
  {
   "cell_type": "code",
   "execution_count": 8,
   "id": "10ceb9d3",
   "metadata": {},
   "outputs": [
    {
     "data": {
      "text/plain": [
       "{'Time from Start to Finish (seconds)': 'Duration (in seconds)',\n",
       " 'Q1': 'What is your age (# years)?',\n",
       " 'Q2': 'What is your gender? - Selected Choice',\n",
       " 'Q2_OTHER_TEXT': 'What is your gender? - Prefer to self-describe - Text',\n",
       " 'Q3': 'In which country do you currently reside?',\n",
       " 'Q4': 'What is the highest level of formal education that you have attained or plan to attain within the next 2 years?',\n",
       " 'Q5': 'Select the title most similar to your current role (or most recent title if retired): - Selected Choice',\n",
       " 'Q5_OTHER_TEXT': 'Select the title most similar to your current role (or most recent title if retired): - Other - Text',\n",
       " 'Q6': 'What is the size of the company where you are employed?',\n",
       " 'Q7': 'Approximately how many individuals are responsible for data science workloads at your place of business?',\n",
       " 'Q8': 'Does your current employer incorporate machine learning methods into their business?',\n",
       " 'Q9_Part_1': 'Select any activities that make up an important part of your role at work: (Select all that apply) - Selected Choice - Analyze and understand data to influence product or business decisions',\n",
       " 'Q9_Part_2': 'Select any activities that make up an important part of your role at work: (Select all that apply) - Selected Choice - Build and/or run the data infrastructure that my business uses for storing, analyzing, and operationalizing data',\n",
       " 'Q9_Part_3': 'Select any activities that make up an important part of your role at work: (Select all that apply) - Selected Choice - Build prototypes to explore applying machine learning to new areas',\n",
       " 'Q9_Part_4': 'Select any activities that make up an important part of your role at work: (Select all that apply) - Selected Choice - Build and/or run a machine learning service that operationally improves my product or workflows',\n",
       " 'Q9_Part_5': 'Select any activities that make up an important part of your role at work: (Select all that apply) - Selected Choice - Experimentation and iteration to improve existing ML models',\n",
       " 'Q9_Part_6': 'Select any activities that make up an important part of your role at work: (Select all that apply) - Selected Choice - Do research that advances the state of the art of machine learning',\n",
       " 'Q9_Part_7': 'Select any activities that make up an important part of your role at work: (Select all that apply) - Selected Choice - None of these activities are an important part of my role at work',\n",
       " 'Q9_Part_8': 'Select any activities that make up an important part of your role at work: (Select all that apply) - Selected Choice - Other',\n",
       " 'Q9_OTHER_TEXT': 'Select any activities that make up an important part of your role at work: (Select all that apply) - Other - Text',\n",
       " 'Q10': 'What is your current yearly compensation (approximate $USD)?',\n",
       " 'Q11': 'Approximately how much money have you spent on machine learning and/or cloud computing products at your work in the past 5 years?',\n",
       " 'Q12_Part_1': 'Who/what are your favorite media sources that report on data science topics? (Select all that apply) - Selected Choice - Twitter (data science influencers)',\n",
       " 'Q12_Part_2': 'Who/what are your favorite media sources that report on data science topics? (Select all that apply) - Selected Choice - Hacker News (https://news.ycombinator.com/)',\n",
       " 'Q12_Part_3': 'Who/what are your favorite media sources that report on data science topics? (Select all that apply) - Selected Choice - Reddit (r/machinelearning, r/datascience, etc)',\n",
       " 'Q12_Part_4': 'Who/what are your favorite media sources that report on data science topics? (Select all that apply) - Selected Choice - Kaggle (forums, blog, social media, etc)',\n",
       " 'Q12_Part_5': 'Who/what are your favorite media sources that report on data science topics? (Select all that apply) - Selected Choice - Course Forums (forums.fast.ai, etc)',\n",
       " 'Q12_Part_6': 'Who/what are your favorite media sources that report on data science topics? (Select all that apply) - Selected Choice - YouTube (Cloud AI Adventures, Siraj Raval, etc)',\n",
       " 'Q12_Part_7': 'Who/what are your favorite media sources that report on data science topics? (Select all that apply) - Selected Choice - Podcasts (Chai Time Data Science, Linear Digressions, etc)',\n",
       " 'Q12_Part_8': 'Who/what are your favorite media sources that report on data science topics? (Select all that apply) - Selected Choice - Blogs (Towards Data Science, Medium, Analytics Vidhya, KDnuggets etc)',\n",
       " 'Q12_Part_9': 'Who/what are your favorite media sources that report on data science topics? (Select all that apply) - Selected Choice - Journal Publications (traditional publications, preprint journals, etc)',\n",
       " 'Q12_Part_10': 'Who/what are your favorite media sources that report on data science topics? (Select all that apply) - Selected Choice - Slack Communities (ods.ai, kagglenoobs, etc)',\n",
       " 'Q12_Part_11': 'Who/what are your favorite media sources that report on data science topics? (Select all that apply) - Selected Choice - None',\n",
       " 'Q12_Part_12': 'Who/what are your favorite media sources that report on data science topics? (Select all that apply) - Selected Choice - Other',\n",
       " 'Q12_OTHER_TEXT': 'Who/what are your favorite media sources that report on data science topics? (Select all that apply) - Other - Text',\n",
       " 'Q13_Part_1': 'On which platforms have you begun or completed data science courses? (Select all that apply) - Selected Choice - Udacity',\n",
       " 'Q13_Part_2': 'On which platforms have you begun or completed data science courses? (Select all that apply) - Selected Choice - Coursera',\n",
       " 'Q13_Part_3': 'On which platforms have you begun or completed data science courses? (Select all that apply) - Selected Choice - edX',\n",
       " 'Q13_Part_4': 'On which platforms have you begun or completed data science courses? (Select all that apply) - Selected Choice - DataCamp',\n",
       " 'Q13_Part_5': 'On which platforms have you begun or completed data science courses? (Select all that apply) - Selected Choice - DataQuest',\n",
       " 'Q13_Part_6': 'On which platforms have you begun or completed data science courses? (Select all that apply) - Selected Choice - Kaggle Courses (i.e. Kaggle Learn)',\n",
       " 'Q13_Part_7': 'On which platforms have you begun or completed data science courses? (Select all that apply) - Selected Choice - Fast.ai',\n",
       " 'Q13_Part_8': 'On which platforms have you begun or completed data science courses? (Select all that apply) - Selected Choice - Udemy',\n",
       " 'Q13_Part_9': 'On which platforms have you begun or completed data science courses? (Select all that apply) - Selected Choice - LinkedIn Learning',\n",
       " 'Q13_Part_10': 'On which platforms have you begun or completed data science courses? (Select all that apply) - Selected Choice - University Courses (resulting in a university degree)',\n",
       " 'Q13_Part_11': 'On which platforms have you begun or completed data science courses? (Select all that apply) - Selected Choice - None',\n",
       " 'Q13_Part_12': 'On which platforms have you begun or completed data science courses? (Select all that apply) - Selected Choice - Other',\n",
       " 'Q13_OTHER_TEXT': 'On which platforms have you begun or completed data science courses? (Select all that apply) - Other - Text',\n",
       " 'Q14': 'What is the primary tool that you use at work or school to analyze data? (Include text response) - Selected Choice',\n",
       " 'Q14_Part_1_TEXT': 'What is the primary tool that you use at work or school to analyze data? (Include text response) - Basic statistical software (Microsoft Excel, Google Sheets, etc.) - Text',\n",
       " 'Q14_Part_2_TEXT': 'What is the primary tool that you use at work or school to analyze data? (Include text response) - Advanced statistical software (SPSS, SAS, etc.) - Text',\n",
       " 'Q14_Part_3_TEXT': 'What is the primary tool that you use at work or school to analyze data? (Include text response) - Business intelligence software (Salesforce, Tableau, Spotfire, etc.) - Text',\n",
       " 'Q14_Part_4_TEXT': 'What is the primary tool that you use at work or school to analyze data? (Include text response) - Local development environments (RStudio, JupyterLab, etc.) - Text',\n",
       " 'Q14_Part_5_TEXT': 'What is the primary tool that you use at work or school to analyze data? (Include text response) - Cloud-based data software & APIs (AWS, GCP, Azure, etc.) - Text',\n",
       " 'Q14_OTHER_TEXT': 'What is the primary tool that you use at work or school to analyze data? (Include text response) - Other - Text',\n",
       " 'Q15': 'How long have you been writing code to analyze data (at work or at school)?',\n",
       " 'Q16_Part_1': \"Which of the following integrated development environments (IDE's) do you use on a regular basis?  (Select all that apply) - Selected Choice - Jupyter (JupyterLab, Jupyter Notebooks, etc) \",\n",
       " 'Q16_Part_2': \"Which of the following integrated development environments (IDE's) do you use on a regular basis?  (Select all that apply) - Selected Choice -  RStudio \",\n",
       " 'Q16_Part_3': \"Which of the following integrated development environments (IDE's) do you use on a regular basis?  (Select all that apply) - Selected Choice -  PyCharm \",\n",
       " 'Q16_Part_4': \"Which of the following integrated development environments (IDE's) do you use on a regular basis?  (Select all that apply) - Selected Choice -  Atom \",\n",
       " 'Q16_Part_5': \"Which of the following integrated development environments (IDE's) do you use on a regular basis?  (Select all that apply) - Selected Choice -  MATLAB \",\n",
       " 'Q16_Part_6': \"Which of the following integrated development environments (IDE's) do you use on a regular basis?  (Select all that apply) - Selected Choice -  Visual Studio / Visual Studio Code \",\n",
       " 'Q16_Part_7': \"Which of the following integrated development environments (IDE's) do you use on a regular basis?  (Select all that apply) - Selected Choice -   Spyder  \",\n",
       " 'Q16_Part_8': \"Which of the following integrated development environments (IDE's) do you use on a regular basis?  (Select all that apply) - Selected Choice -   Vim / Emacs  \",\n",
       " 'Q16_Part_9': \"Which of the following integrated development environments (IDE's) do you use on a regular basis?  (Select all that apply) - Selected Choice -   Notepad++  \",\n",
       " 'Q16_Part_10': \"Which of the following integrated development environments (IDE's) do you use on a regular basis?  (Select all that apply) - Selected Choice -   Sublime Text  \",\n",
       " 'Q16_Part_11': \"Which of the following integrated development environments (IDE's) do you use on a regular basis?  (Select all that apply) - Selected Choice - None\",\n",
       " 'Q16_Part_12': \"Which of the following integrated development environments (IDE's) do you use on a regular basis?  (Select all that apply) - Selected Choice - Other\",\n",
       " 'Q16_OTHER_TEXT': \"Which of the following integrated development environments (IDE's) do you use on a regular basis?  (Select all that apply) - Other - Text\",\n",
       " 'Q17_Part_1': 'Which of the following hosted notebook products do you use on a regular basis?  (Select all that apply) - Selected Choice -  Kaggle Notebooks (Kernels) ',\n",
       " 'Q17_Part_2': 'Which of the following hosted notebook products do you use on a regular basis?  (Select all that apply) - Selected Choice -  Google Colab ',\n",
       " 'Q17_Part_3': 'Which of the following hosted notebook products do you use on a regular basis?  (Select all that apply) - Selected Choice -  Microsoft Azure Notebooks ',\n",
       " 'Q17_Part_4': 'Which of the following hosted notebook products do you use on a regular basis?  (Select all that apply) - Selected Choice -  Google Cloud Notebook Products (AI Platform, Datalab, etc) ',\n",
       " 'Q17_Part_5': 'Which of the following hosted notebook products do you use on a regular basis?  (Select all that apply) - Selected Choice -  Paperspace / Gradient ',\n",
       " 'Q17_Part_6': 'Which of the following hosted notebook products do you use on a regular basis?  (Select all that apply) - Selected Choice -  FloydHub ',\n",
       " 'Q17_Part_7': 'Which of the following hosted notebook products do you use on a regular basis?  (Select all that apply) - Selected Choice -  Binder / JupyterHub ',\n",
       " 'Q17_Part_8': 'Which of the following hosted notebook products do you use on a regular basis?  (Select all that apply) - Selected Choice -  IBM Watson Studio ',\n",
       " 'Q17_Part_9': 'Which of the following hosted notebook products do you use on a regular basis?  (Select all that apply) - Selected Choice - Code Ocean ',\n",
       " 'Q17_Part_10': 'Which of the following hosted notebook products do you use on a regular basis?  (Select all that apply) - Selected Choice - AWS Notebook Products (EMR Notebooks, Sagemaker Notebooks, etc) ',\n",
       " 'Q17_Part_11': 'Which of the following hosted notebook products do you use on a regular basis?  (Select all that apply) - Selected Choice - None',\n",
       " 'Q17_Part_12': 'Which of the following hosted notebook products do you use on a regular basis?  (Select all that apply) - Selected Choice - Other',\n",
       " 'Q17_OTHER_TEXT': 'Which of the following hosted notebook products do you use on a regular basis?  (Select all that apply) - Other - Text',\n",
       " 'Q18_Part_1': 'What programming languages do you use on a regular basis? (Select all that apply) - Selected Choice - Python',\n",
       " 'Q18_Part_2': 'What programming languages do you use on a regular basis? (Select all that apply) - Selected Choice - R',\n",
       " 'Q18_Part_3': 'What programming languages do you use on a regular basis? (Select all that apply) - Selected Choice - SQL',\n",
       " 'Q18_Part_4': 'What programming languages do you use on a regular basis? (Select all that apply) - Selected Choice - C',\n",
       " 'Q18_Part_5': 'What programming languages do you use on a regular basis? (Select all that apply) - Selected Choice - C++',\n",
       " 'Q18_Part_6': 'What programming languages do you use on a regular basis? (Select all that apply) - Selected Choice - Java',\n",
       " 'Q18_Part_7': 'What programming languages do you use on a regular basis? (Select all that apply) - Selected Choice - Javascript',\n",
       " 'Q18_Part_8': 'What programming languages do you use on a regular basis? (Select all that apply) - Selected Choice - TypeScript',\n",
       " 'Q18_Part_9': 'What programming languages do you use on a regular basis? (Select all that apply) - Selected Choice - Bash',\n",
       " 'Q18_Part_10': 'What programming languages do you use on a regular basis? (Select all that apply) - Selected Choice - MATLAB',\n",
       " 'Q18_Part_11': 'What programming languages do you use on a regular basis? (Select all that apply) - Selected Choice - None',\n",
       " 'Q18_Part_12': 'What programming languages do you use on a regular basis? (Select all that apply) - Selected Choice - Other',\n",
       " 'Q18_OTHER_TEXT': 'What programming languages do you use on a regular basis? (Select all that apply) - Other - Text',\n",
       " 'Q19': 'What programming language would you recommend an aspiring data scientist to learn first? - Selected Choice',\n",
       " 'Q19_OTHER_TEXT': 'What programming language would you recommend an aspiring data scientist to learn first? - Other - Text',\n",
       " 'Q20_Part_1': 'What data visualization libraries or tools do you use on a regular basis?  (Select all that apply) - Selected Choice -  Ggplot / ggplot2 ',\n",
       " 'Q20_Part_2': 'What data visualization libraries or tools do you use on a regular basis?  (Select all that apply) - Selected Choice -  Matplotlib ',\n",
       " 'Q20_Part_3': 'What data visualization libraries or tools do you use on a regular basis?  (Select all that apply) - Selected Choice -  Altair ',\n",
       " 'Q20_Part_4': 'What data visualization libraries or tools do you use on a regular basis?  (Select all that apply) - Selected Choice -  Shiny ',\n",
       " 'Q20_Part_5': 'What data visualization libraries or tools do you use on a regular basis?  (Select all that apply) - Selected Choice -  D3.js ',\n",
       " 'Q20_Part_6': 'What data visualization libraries or tools do you use on a regular basis?  (Select all that apply) - Selected Choice -  Plotly / Plotly Express ',\n",
       " 'Q20_Part_7': 'What data visualization libraries or tools do you use on a regular basis?  (Select all that apply) - Selected Choice -  Bokeh ',\n",
       " 'Q20_Part_8': 'What data visualization libraries or tools do you use on a regular basis?  (Select all that apply) - Selected Choice -  Seaborn ',\n",
       " 'Q20_Part_9': 'What data visualization libraries or tools do you use on a regular basis?  (Select all that apply) - Selected Choice -  Geoplotlib ',\n",
       " 'Q20_Part_10': 'What data visualization libraries or tools do you use on a regular basis?  (Select all that apply) - Selected Choice -  Leaflet / Folium ',\n",
       " 'Q20_Part_11': 'What data visualization libraries or tools do you use on a regular basis?  (Select all that apply) - Selected Choice - None',\n",
       " 'Q20_Part_12': 'What data visualization libraries or tools do you use on a regular basis?  (Select all that apply) - Selected Choice - Other',\n",
       " 'Q20_OTHER_TEXT': 'What data visualization libraries or tools do you use on a regular basis?  (Select all that apply) - Other - Text',\n",
       " 'Q21_Part_1': 'Which types of specialized hardware do you use on a regular basis?  (Select all that apply) - Selected Choice - CPUs',\n",
       " 'Q21_Part_2': 'Which types of specialized hardware do you use on a regular basis?  (Select all that apply) - Selected Choice - GPUs',\n",
       " 'Q21_Part_3': 'Which types of specialized hardware do you use on a regular basis?  (Select all that apply) - Selected Choice - TPUs',\n",
       " 'Q21_Part_4': 'Which types of specialized hardware do you use on a regular basis?  (Select all that apply) - Selected Choice - None / I do not know',\n",
       " 'Q21_Part_5': 'Which types of specialized hardware do you use on a regular basis?  (Select all that apply) - Selected Choice - Other',\n",
       " 'Q21_OTHER_TEXT': 'Which types of specialized hardware do you use on a regular basis?  (Select all that apply) - Other - Text',\n",
       " 'Q22': 'Have you ever used a TPU (tensor processing unit)?',\n",
       " 'Q23': 'For how many years have you used machine learning methods?',\n",
       " 'Q24_Part_1': 'Which of the following ML algorithms do you use on a regular basis? (Select all that apply): - Selected Choice - Linear or Logistic Regression',\n",
       " 'Q24_Part_2': 'Which of the following ML algorithms do you use on a regular basis? (Select all that apply): - Selected Choice - Decision Trees or Random Forests',\n",
       " 'Q24_Part_3': 'Which of the following ML algorithms do you use on a regular basis? (Select all that apply): - Selected Choice - Gradient Boosting Machines (xgboost, lightgbm, etc)',\n",
       " 'Q24_Part_4': 'Which of the following ML algorithms do you use on a regular basis? (Select all that apply): - Selected Choice - Bayesian Approaches',\n",
       " 'Q24_Part_5': 'Which of the following ML algorithms do you use on a regular basis? (Select all that apply): - Selected Choice - Evolutionary Approaches',\n",
       " 'Q24_Part_6': 'Which of the following ML algorithms do you use on a regular basis? (Select all that apply): - Selected Choice - Dense Neural Networks (MLPs, etc)',\n",
       " 'Q24_Part_7': 'Which of the following ML algorithms do you use on a regular basis? (Select all that apply): - Selected Choice - Convolutional Neural Networks',\n",
       " 'Q24_Part_8': 'Which of the following ML algorithms do you use on a regular basis? (Select all that apply): - Selected Choice - Generative Adversarial Networks',\n",
       " 'Q24_Part_9': 'Which of the following ML algorithms do you use on a regular basis? (Select all that apply): - Selected Choice - Recurrent Neural Networks',\n",
       " 'Q24_Part_10': 'Which of the following ML algorithms do you use on a regular basis? (Select all that apply): - Selected Choice - Transformer Networks (BERT, gpt-2, etc)',\n",
       " 'Q24_Part_11': 'Which of the following ML algorithms do you use on a regular basis? (Select all that apply): - Selected Choice - None',\n",
       " 'Q24_Part_12': 'Which of the following ML algorithms do you use on a regular basis? (Select all that apply): - Selected Choice - Other',\n",
       " 'Q24_OTHER_TEXT': 'Which of the following ML algorithms do you use on a regular basis? (Select all that apply): - Other - Text',\n",
       " 'Q25_Part_1': 'Which categories of ML tools do you use on a regular basis?  (Select all that apply) - Selected Choice - Automated data augmentation (e.g. imgaug, albumentations)',\n",
       " 'Q25_Part_2': 'Which categories of ML tools do you use on a regular basis?  (Select all that apply) - Selected Choice - Automated feature engineering/selection (e.g. tpot, boruta_py)',\n",
       " 'Q25_Part_3': 'Which categories of ML tools do you use on a regular basis?  (Select all that apply) - Selected Choice - Automated model selection (e.g. auto-sklearn, xcessiv)',\n",
       " 'Q25_Part_4': 'Which categories of ML tools do you use on a regular basis?  (Select all that apply) - Selected Choice - Automated model architecture searches (e.g. darts, enas)',\n",
       " 'Q25_Part_5': 'Which categories of ML tools do you use on a regular basis?  (Select all that apply) - Selected Choice - Automated hyperparameter tuning (e.g. hyperopt, ray.tune)',\n",
       " 'Q25_Part_6': 'Which categories of ML tools do you use on a regular basis?  (Select all that apply) - Selected Choice - Automation of full ML pipelines (e.g. Google AutoML, H20 Driverless AI)',\n",
       " 'Q25_Part_7': 'Which categories of ML tools do you use on a regular basis?  (Select all that apply) - Selected Choice - None',\n",
       " 'Q25_Part_8': 'Which categories of ML tools do you use on a regular basis?  (Select all that apply) - Selected Choice - Other',\n",
       " 'Q25_OTHER_TEXT': 'Which categories of ML tools do you use on a regular basis?  (Select all that apply) - Other - Text',\n",
       " 'Q26_Part_1': 'Which categories of computer vision methods do you use on a regular basis?  (Select all that apply) - Selected Choice - General purpose image/video tools (PIL, cv2, skimage, etc)',\n",
       " 'Q26_Part_2': 'Which categories of computer vision methods do you use on a regular basis?  (Select all that apply) - Selected Choice - Image segmentation methods (U-Net, Mask R-CNN, etc)',\n",
       " 'Q26_Part_3': 'Which categories of computer vision methods do you use on a regular basis?  (Select all that apply) - Selected Choice - Object detection methods (YOLOv3, RetinaNet, etc)',\n",
       " 'Q26_Part_4': 'Which categories of computer vision methods do you use on a regular basis?  (Select all that apply) - Selected Choice - Image classification and other general purpose networks (VGG, Inception, ResNet, ResNeXt, NASNet, EfficientNet, etc)',\n",
       " 'Q26_Part_5': 'Which categories of computer vision methods do you use on a regular basis?  (Select all that apply) - Selected Choice - Generative Networks (GAN, VAE, etc)',\n",
       " 'Q26_Part_6': 'Which categories of computer vision methods do you use on a regular basis?  (Select all that apply) - Selected Choice - None',\n",
       " 'Q26_Part_7': 'Which categories of computer vision methods do you use on a regular basis?  (Select all that apply) - Selected Choice - Other',\n",
       " 'Q26_OTHER_TEXT': 'Which categories of computer vision methods do you use on a regular basis?  (Select all that apply) - Other - Text',\n",
       " 'Q27_Part_1': 'Which of the following natural language processing (NLP) methods do you use on a regular basis?  (Select all that apply) - Selected Choice - Word embeddings/vectors (GLoVe, fastText, word2vec)',\n",
       " 'Q27_Part_2': 'Which of the following natural language processing (NLP) methods do you use on a regular basis?  (Select all that apply) - Selected Choice - Encoder-decorder models (seq2seq, vanilla transformers)',\n",
       " 'Q27_Part_3': 'Which of the following natural language processing (NLP) methods do you use on a regular basis?  (Select all that apply) - Selected Choice - Contextualized embeddings (ELMo, CoVe)',\n",
       " 'Q27_Part_4': 'Which of the following natural language processing (NLP) methods do you use on a regular basis?  (Select all that apply) - Selected Choice - Transformer language models (GPT-2, BERT, XLnet, etc)',\n",
       " 'Q27_Part_5': 'Which of the following natural language processing (NLP) methods do you use on a regular basis?  (Select all that apply) - Selected Choice - None',\n",
       " 'Q27_Part_6': 'Which of the following natural language processing (NLP) methods do you use on a regular basis?  (Select all that apply) - Selected Choice - Other',\n",
       " 'Q27_OTHER_TEXT': 'Which of the following natural language processing (NLP) methods do you use on a regular basis?  (Select all that apply) - Other - Text',\n",
       " 'Q28_Part_1': 'Which of the following machine learning frameworks do you use on a regular basis? (Select all that apply) - Selected Choice -   Scikit-learn ',\n",
       " 'Q28_Part_2': 'Which of the following machine learning frameworks do you use on a regular basis? (Select all that apply) - Selected Choice -   TensorFlow ',\n",
       " 'Q28_Part_3': 'Which of the following machine learning frameworks do you use on a regular basis? (Select all that apply) - Selected Choice -  Keras ',\n",
       " 'Q28_Part_4': 'Which of the following machine learning frameworks do you use on a regular basis? (Select all that apply) - Selected Choice -  RandomForest',\n",
       " 'Q28_Part_5': 'Which of the following machine learning frameworks do you use on a regular basis? (Select all that apply) - Selected Choice -  Xgboost ',\n",
       " 'Q28_Part_6': 'Which of the following machine learning frameworks do you use on a regular basis? (Select all that apply) - Selected Choice -  PyTorch ',\n",
       " 'Q28_Part_7': 'Which of the following machine learning frameworks do you use on a regular basis? (Select all that apply) - Selected Choice -  Caret ',\n",
       " 'Q28_Part_8': 'Which of the following machine learning frameworks do you use on a regular basis? (Select all that apply) - Selected Choice -  LightGBM ',\n",
       " 'Q28_Part_9': 'Which of the following machine learning frameworks do you use on a regular basis? (Select all that apply) - Selected Choice -  Spark MLib ',\n",
       " 'Q28_Part_10': 'Which of the following machine learning frameworks do you use on a regular basis? (Select all that apply) - Selected Choice -  Fast.ai ',\n",
       " 'Q28_Part_11': 'Which of the following machine learning frameworks do you use on a regular basis? (Select all that apply) - Selected Choice - None',\n",
       " 'Q28_Part_12': 'Which of the following machine learning frameworks do you use on a regular basis? (Select all that apply) - Selected Choice - Other',\n",
       " 'Q28_OTHER_TEXT': 'Which of the following machine learning frameworks do you use on a regular basis? (Select all that apply) - Other - Text',\n",
       " 'Q29_Part_1': 'Which of the following cloud computing platforms do you use on a regular basis? (Select all that apply) - Selected Choice -  Google Cloud Platform (GCP) ',\n",
       " 'Q29_Part_2': 'Which of the following cloud computing platforms do you use on a regular basis? (Select all that apply) - Selected Choice -  Amazon Web Services (AWS) ',\n",
       " 'Q29_Part_3': 'Which of the following cloud computing platforms do you use on a regular basis? (Select all that apply) - Selected Choice -  Microsoft Azure ',\n",
       " 'Q29_Part_4': 'Which of the following cloud computing platforms do you use on a regular basis? (Select all that apply) - Selected Choice -  IBM Cloud ',\n",
       " 'Q29_Part_5': 'Which of the following cloud computing platforms do you use on a regular basis? (Select all that apply) - Selected Choice -  Alibaba Cloud ',\n",
       " 'Q29_Part_6': 'Which of the following cloud computing platforms do you use on a regular basis? (Select all that apply) - Selected Choice -  Salesforce Cloud ',\n",
       " 'Q29_Part_7': 'Which of the following cloud computing platforms do you use on a regular basis? (Select all that apply) - Selected Choice -  Oracle Cloud ',\n",
       " 'Q29_Part_8': 'Which of the following cloud computing platforms do you use on a regular basis? (Select all that apply) - Selected Choice -  SAP Cloud ',\n",
       " 'Q29_Part_9': 'Which of the following cloud computing platforms do you use on a regular basis? (Select all that apply) - Selected Choice -  VMware Cloud ',\n",
       " 'Q29_Part_10': 'Which of the following cloud computing platforms do you use on a regular basis? (Select all that apply) - Selected Choice -  Red Hat Cloud ',\n",
       " 'Q29_Part_11': 'Which of the following cloud computing platforms do you use on a regular basis? (Select all that apply) - Selected Choice - None',\n",
       " 'Q29_Part_12': 'Which of the following cloud computing platforms do you use on a regular basis? (Select all that apply) - Selected Choice - Other',\n",
       " 'Q29_OTHER_TEXT': 'Which of the following cloud computing platforms do you use on a regular basis? (Select all that apply) - Other - Text',\n",
       " 'Q30_Part_1': 'Which specific cloud computing products do you use on a regular basis? (Select all that apply) - Selected Choice - AWS Elastic Compute Cloud (EC2)',\n",
       " 'Q30_Part_2': 'Which specific cloud computing products do you use on a regular basis? (Select all that apply) - Selected Choice - Google Compute Engine (GCE)',\n",
       " 'Q30_Part_3': 'Which specific cloud computing products do you use on a regular basis? (Select all that apply) - Selected Choice - AWS Lambda',\n",
       " 'Q30_Part_4': 'Which specific cloud computing products do you use on a regular basis? (Select all that apply) - Selected Choice - Azure Virtual Machines',\n",
       " 'Q30_Part_5': 'Which specific cloud computing products do you use on a regular basis? (Select all that apply) - Selected Choice - Google App Engine',\n",
       " 'Q30_Part_6': 'Which specific cloud computing products do you use on a regular basis? (Select all that apply) - Selected Choice - Google Cloud Functions',\n",
       " 'Q30_Part_7': 'Which specific cloud computing products do you use on a regular basis? (Select all that apply) - Selected Choice - AWS Elastic Beanstalk',\n",
       " 'Q30_Part_8': 'Which specific cloud computing products do you use on a regular basis? (Select all that apply) - Selected Choice - Google Kubernetes Engine',\n",
       " 'Q30_Part_9': 'Which specific cloud computing products do you use on a regular basis? (Select all that apply) - Selected Choice - AWS Batch',\n",
       " 'Q30_Part_10': 'Which specific cloud computing products do you use on a regular basis? (Select all that apply) - Selected Choice - Azure Container Service',\n",
       " 'Q30_Part_11': 'Which specific cloud computing products do you use on a regular basis? (Select all that apply) - Selected Choice - None',\n",
       " 'Q30_Part_12': 'Which specific cloud computing products do you use on a regular basis? (Select all that apply) - Selected Choice - Other',\n",
       " 'Q30_OTHER_TEXT': 'Which specific cloud computing products do you use on a regular basis? (Select all that apply) - Other - Text',\n",
       " 'Q31_Part_1': 'Which specific big data / analytics products do you use on a regular basis? (Select all that apply) - Selected Choice - Google BigQuery',\n",
       " 'Q31_Part_2': 'Which specific big data / analytics products do you use on a regular basis? (Select all that apply) - Selected Choice - AWS Redshift',\n",
       " 'Q31_Part_3': 'Which specific big data / analytics products do you use on a regular basis? (Select all that apply) - Selected Choice - Databricks',\n",
       " 'Q31_Part_4': 'Which specific big data / analytics products do you use on a regular basis? (Select all that apply) - Selected Choice - AWS Elastic MapReduce',\n",
       " 'Q31_Part_5': 'Which specific big data / analytics products do you use on a regular basis? (Select all that apply) - Selected Choice - Teradata',\n",
       " 'Q31_Part_6': 'Which specific big data / analytics products do you use on a regular basis? (Select all that apply) - Selected Choice - Microsoft Analysis Services',\n",
       " 'Q31_Part_7': 'Which specific big data / analytics products do you use on a regular basis? (Select all that apply) - Selected Choice - Google Cloud Dataflow',\n",
       " 'Q31_Part_8': 'Which specific big data / analytics products do you use on a regular basis? (Select all that apply) - Selected Choice - AWS Athena',\n",
       " 'Q31_Part_9': 'Which specific big data / analytics products do you use on a regular basis? (Select all that apply) - Selected Choice - AWS Kinesis',\n",
       " 'Q31_Part_10': 'Which specific big data / analytics products do you use on a regular basis? (Select all that apply) - Selected Choice - Google Cloud Pub/Sub',\n",
       " 'Q31_Part_11': 'Which specific big data / analytics products do you use on a regular basis? (Select all that apply) - Selected Choice - None',\n",
       " 'Q31_Part_12': 'Which specific big data / analytics products do you use on a regular basis? (Select all that apply) - Selected Choice - Other',\n",
       " 'Q31_OTHER_TEXT': 'Which specific big data / analytics products do you use on a regular basis? (Select all that apply) - Other - Text',\n",
       " 'Q32_Part_1': 'Which of the following machine learning products do you use on a regular basis? (Select all that apply) - Selected Choice - SAS',\n",
       " 'Q32_Part_2': 'Which of the following machine learning products do you use on a regular basis? (Select all that apply) - Selected Choice - Cloudera',\n",
       " 'Q32_Part_3': 'Which of the following machine learning products do you use on a regular basis? (Select all that apply) - Selected Choice - Azure Machine Learning Studio',\n",
       " 'Q32_Part_4': 'Which of the following machine learning products do you use on a regular basis? (Select all that apply) - Selected Choice - Google Cloud Machine Learning Engine',\n",
       " 'Q32_Part_5': 'Which of the following machine learning products do you use on a regular basis? (Select all that apply) - Selected Choice - Google Cloud Vision',\n",
       " 'Q32_Part_6': 'Which of the following machine learning products do you use on a regular basis? (Select all that apply) - Selected Choice - Google Cloud Speech-to-Text',\n",
       " 'Q32_Part_7': 'Which of the following machine learning products do you use on a regular basis? (Select all that apply) - Selected Choice - Google Cloud Natural Language',\n",
       " 'Q32_Part_8': 'Which of the following machine learning products do you use on a regular basis? (Select all that apply) - Selected Choice - RapidMiner',\n",
       " 'Q32_Part_9': 'Which of the following machine learning products do you use on a regular basis? (Select all that apply) - Selected Choice - Google Cloud Translation',\n",
       " 'Q32_Part_10': 'Which of the following machine learning products do you use on a regular basis? (Select all that apply) - Selected Choice - Amazon SageMaker',\n",
       " 'Q32_Part_11': 'Which of the following machine learning products do you use on a regular basis? (Select all that apply) - Selected Choice - None',\n",
       " 'Q32_Part_12': 'Which of the following machine learning products do you use on a regular basis? (Select all that apply) - Selected Choice - Other',\n",
       " 'Q32_OTHER_TEXT': 'Which of the following machine learning products do you use on a regular basis? (Select all that apply) - Other - Text',\n",
       " 'Q33_Part_1': 'Which automated machine learning tools (or partial AutoML tools) do you use on a regular basis?  (Select all that apply) - Selected Choice -  Google AutoML ',\n",
       " 'Q33_Part_2': 'Which automated machine learning tools (or partial AutoML tools) do you use on a regular basis?  (Select all that apply) - Selected Choice -  H20 Driverless AI  ',\n",
       " 'Q33_Part_3': 'Which automated machine learning tools (or partial AutoML tools) do you use on a regular basis?  (Select all that apply) - Selected Choice -  Databricks AutoML ',\n",
       " 'Q33_Part_4': 'Which automated machine learning tools (or partial AutoML tools) do you use on a regular basis?  (Select all that apply) - Selected Choice -  DataRobot AutoML ',\n",
       " 'Q33_Part_5': 'Which automated machine learning tools (or partial AutoML tools) do you use on a regular basis?  (Select all that apply) - Selected Choice -   Tpot ',\n",
       " 'Q33_Part_6': 'Which automated machine learning tools (or partial AutoML tools) do you use on a regular basis?  (Select all that apply) - Selected Choice -   Auto-Keras ',\n",
       " 'Q33_Part_7': 'Which automated machine learning tools (or partial AutoML tools) do you use on a regular basis?  (Select all that apply) - Selected Choice -   Auto-Sklearn ',\n",
       " 'Q33_Part_8': 'Which automated machine learning tools (or partial AutoML tools) do you use on a regular basis?  (Select all that apply) - Selected Choice -   Auto_ml ',\n",
       " 'Q33_Part_9': 'Which automated machine learning tools (or partial AutoML tools) do you use on a regular basis?  (Select all that apply) - Selected Choice -   Xcessiv ',\n",
       " 'Q33_Part_10': 'Which automated machine learning tools (or partial AutoML tools) do you use on a regular basis?  (Select all that apply) - Selected Choice -   MLbox ',\n",
       " 'Q33_Part_11': 'Which automated machine learning tools (or partial AutoML tools) do you use on a regular basis?  (Select all that apply) - Selected Choice - None',\n",
       " 'Q33_Part_12': 'Which automated machine learning tools (or partial AutoML tools) do you use on a regular basis?  (Select all that apply) - Selected Choice - Other',\n",
       " 'Q33_OTHER_TEXT': 'Which automated machine learning tools (or partial AutoML tools) do you use on a regular basis?  (Select all that apply) - Other - Text',\n",
       " 'Q34_Part_1': 'Which of the following relational database products do you use on a regular basis? (Select all that apply) - Selected Choice - MySQL',\n",
       " 'Q34_Part_2': 'Which of the following relational database products do you use on a regular basis? (Select all that apply) - Selected Choice - PostgresSQL',\n",
       " 'Q34_Part_3': 'Which of the following relational database products do you use on a regular basis? (Select all that apply) - Selected Choice - SQLite',\n",
       " 'Q34_Part_4': 'Which of the following relational database products do you use on a regular basis? (Select all that apply) - Selected Choice - Microsoft SQL Server',\n",
       " 'Q34_Part_5': 'Which of the following relational database products do you use on a regular basis? (Select all that apply) - Selected Choice - Oracle Database',\n",
       " 'Q34_Part_6': 'Which of the following relational database products do you use on a regular basis? (Select all that apply) - Selected Choice - Microsoft Access',\n",
       " 'Q34_Part_7': 'Which of the following relational database products do you use on a regular basis? (Select all that apply) - Selected Choice - AWS Relational Database Service',\n",
       " 'Q34_Part_8': 'Which of the following relational database products do you use on a regular basis? (Select all that apply) - Selected Choice - AWS DynamoDB',\n",
       " 'Q34_Part_9': 'Which of the following relational database products do you use on a regular basis? (Select all that apply) - Selected Choice - Azure SQL Database',\n",
       " 'Q34_Part_10': 'Which of the following relational database products do you use on a regular basis? (Select all that apply) - Selected Choice - Google Cloud SQL',\n",
       " 'Q34_Part_11': 'Which of the following relational database products do you use on a regular basis? (Select all that apply) - Selected Choice - None',\n",
       " 'Q34_Part_12': 'Which of the following relational database products do you use on a regular basis? (Select all that apply) - Selected Choice - Other',\n",
       " 'Q34_OTHER_TEXT': 'Which of the following relational database products do you use on a regular basis? (Select all that apply) - Other - Text'}"
      ]
     },
     "execution_count": 8,
     "metadata": {},
     "output_type": "execute_result"
    }
   ],
   "source": [
    "{k: v for k,v in df.columns}"
   ]
  },
  {
   "cell_type": "code",
   "execution_count": 9,
   "id": "217863f0",
   "metadata": {},
   "outputs": [
    {
     "data": {
      "text/plain": [
       "{'Time from Start to Finish (seconds)': 'Duration (in seconds)',\n",
       " 'Q1': 'What is your age (# years)?',\n",
       " 'Q2': 'What is your gender? - Selected Choice',\n",
       " 'Q2_OTHER_TEXT': 'What is your gender? - Prefer to self-describe - Text',\n",
       " 'Q3': 'In which country do you currently reside?',\n",
       " 'Q4': 'What is the highest level of formal education that you have attained or plan to attain within the next 2 years?',\n",
       " 'Q5': 'Select the title most similar to your current role (or most recent title if retired): - Selected Choice',\n",
       " 'Q5_OTHER_TEXT': 'Select the title most similar to your current role (or most recent title if retired): - Other - Text',\n",
       " 'Q6': 'What is the size of the company where you are employed?',\n",
       " 'Q7': 'Approximately how many individuals are responsible for data science workloads at your place of business?',\n",
       " 'Q8': 'Does your current employer incorporate machine learning methods into their business?',\n",
       " 'Q9_Part_1': 'Select any activities that make up an important part of your role at work: (Select all that apply) - Selected Choice - Analyze and understand data to influence product or business decisions',\n",
       " 'Q9_Part_2': 'Select any activities that make up an important part of your role at work: (Select all that apply) - Selected Choice - Build and/or run the data infrastructure that my business uses for storing, analyzing, and operationalizing data',\n",
       " 'Q9_Part_3': 'Select any activities that make up an important part of your role at work: (Select all that apply) - Selected Choice - Build prototypes to explore applying machine learning to new areas',\n",
       " 'Q9_Part_4': 'Select any activities that make up an important part of your role at work: (Select all that apply) - Selected Choice - Build and/or run a machine learning service that operationally improves my product or workflows',\n",
       " 'Q9_Part_5': 'Select any activities that make up an important part of your role at work: (Select all that apply) - Selected Choice - Experimentation and iteration to improve existing ML models',\n",
       " 'Q9_Part_6': 'Select any activities that make up an important part of your role at work: (Select all that apply) - Selected Choice - Do research that advances the state of the art of machine learning',\n",
       " 'Q9_Part_7': 'Select any activities that make up an important part of your role at work: (Select all that apply) - Selected Choice - None of these activities are an important part of my role at work',\n",
       " 'Q9_Part_8': 'Select any activities that make up an important part of your role at work: (Select all that apply) - Selected Choice - Other',\n",
       " 'Q9_OTHER_TEXT': 'Select any activities that make up an important part of your role at work: (Select all that apply) - Other - Text',\n",
       " 'Q10': 'What is your current yearly compensation (approximate $USD)?',\n",
       " 'Q11': 'Approximately how much money have you spent on machine learning and/or cloud computing products at your work in the past 5 years?',\n",
       " 'Q12_Part_1': 'Who/what are your favorite media sources that report on data science topics? (Select all that apply) - Selected Choice - Twitter (data science influencers)',\n",
       " 'Q12_Part_2': 'Who/what are your favorite media sources that report on data science topics? (Select all that apply) - Selected Choice - Hacker News (https://news.ycombinator.com/)',\n",
       " 'Q12_Part_3': 'Who/what are your favorite media sources that report on data science topics? (Select all that apply) - Selected Choice - Reddit (r/machinelearning, r/datascience, etc)',\n",
       " 'Q12_Part_4': 'Who/what are your favorite media sources that report on data science topics? (Select all that apply) - Selected Choice - Kaggle (forums, blog, social media, etc)',\n",
       " 'Q12_Part_5': 'Who/what are your favorite media sources that report on data science topics? (Select all that apply) - Selected Choice - Course Forums (forums.fast.ai, etc)',\n",
       " 'Q12_Part_6': 'Who/what are your favorite media sources that report on data science topics? (Select all that apply) - Selected Choice - YouTube (Cloud AI Adventures, Siraj Raval, etc)',\n",
       " 'Q12_Part_7': 'Who/what are your favorite media sources that report on data science topics? (Select all that apply) - Selected Choice - Podcasts (Chai Time Data Science, Linear Digressions, etc)',\n",
       " 'Q12_Part_8': 'Who/what are your favorite media sources that report on data science topics? (Select all that apply) - Selected Choice - Blogs (Towards Data Science, Medium, Analytics Vidhya, KDnuggets etc)',\n",
       " 'Q12_Part_9': 'Who/what are your favorite media sources that report on data science topics? (Select all that apply) - Selected Choice - Journal Publications (traditional publications, preprint journals, etc)',\n",
       " 'Q12_Part_10': 'Who/what are your favorite media sources that report on data science topics? (Select all that apply) - Selected Choice - Slack Communities (ods.ai, kagglenoobs, etc)',\n",
       " 'Q12_Part_11': 'Who/what are your favorite media sources that report on data science topics? (Select all that apply) - Selected Choice - None',\n",
       " 'Q12_Part_12': 'Who/what are your favorite media sources that report on data science topics? (Select all that apply) - Selected Choice - Other',\n",
       " 'Q12_OTHER_TEXT': 'Who/what are your favorite media sources that report on data science topics? (Select all that apply) - Other - Text',\n",
       " 'Q13_Part_1': 'On which platforms have you begun or completed data science courses? (Select all that apply) - Selected Choice - Udacity',\n",
       " 'Q13_Part_2': 'On which platforms have you begun or completed data science courses? (Select all that apply) - Selected Choice - Coursera',\n",
       " 'Q13_Part_3': 'On which platforms have you begun or completed data science courses? (Select all that apply) - Selected Choice - edX',\n",
       " 'Q13_Part_4': 'On which platforms have you begun or completed data science courses? (Select all that apply) - Selected Choice - DataCamp',\n",
       " 'Q13_Part_5': 'On which platforms have you begun or completed data science courses? (Select all that apply) - Selected Choice - DataQuest',\n",
       " 'Q13_Part_6': 'On which platforms have you begun or completed data science courses? (Select all that apply) - Selected Choice - Kaggle Courses (i.e. Kaggle Learn)',\n",
       " 'Q13_Part_7': 'On which platforms have you begun or completed data science courses? (Select all that apply) - Selected Choice - Fast.ai',\n",
       " 'Q13_Part_8': 'On which platforms have you begun or completed data science courses? (Select all that apply) - Selected Choice - Udemy',\n",
       " 'Q13_Part_9': 'On which platforms have you begun or completed data science courses? (Select all that apply) - Selected Choice - LinkedIn Learning',\n",
       " 'Q13_Part_10': 'On which platforms have you begun or completed data science courses? (Select all that apply) - Selected Choice - University Courses (resulting in a university degree)',\n",
       " 'Q13_Part_11': 'On which platforms have you begun or completed data science courses? (Select all that apply) - Selected Choice - None',\n",
       " 'Q13_Part_12': 'On which platforms have you begun or completed data science courses? (Select all that apply) - Selected Choice - Other',\n",
       " 'Q13_OTHER_TEXT': 'On which platforms have you begun or completed data science courses? (Select all that apply) - Other - Text',\n",
       " 'Q14': 'What is the primary tool that you use at work or school to analyze data? (Include text response) - Selected Choice',\n",
       " 'Q14_Part_1_TEXT': 'What is the primary tool that you use at work or school to analyze data? (Include text response) - Basic statistical software (Microsoft Excel, Google Sheets, etc.) - Text',\n",
       " 'Q14_Part_2_TEXT': 'What is the primary tool that you use at work or school to analyze data? (Include text response) - Advanced statistical software (SPSS, SAS, etc.) - Text',\n",
       " 'Q14_Part_3_TEXT': 'What is the primary tool that you use at work or school to analyze data? (Include text response) - Business intelligence software (Salesforce, Tableau, Spotfire, etc.) - Text',\n",
       " 'Q14_Part_4_TEXT': 'What is the primary tool that you use at work or school to analyze data? (Include text response) - Local development environments (RStudio, JupyterLab, etc.) - Text',\n",
       " 'Q14_Part_5_TEXT': 'What is the primary tool that you use at work or school to analyze data? (Include text response) - Cloud-based data software & APIs (AWS, GCP, Azure, etc.) - Text',\n",
       " 'Q14_OTHER_TEXT': 'What is the primary tool that you use at work or school to analyze data? (Include text response) - Other - Text',\n",
       " 'Q15': 'How long have you been writing code to analyze data (at work or at school)?',\n",
       " 'Q16_Part_1': \"Which of the following integrated development environments (IDE's) do you use on a regular basis?  (Select all that apply) - Selected Choice - Jupyter (JupyterLab, Jupyter Notebooks, etc) \",\n",
       " 'Q16_Part_2': \"Which of the following integrated development environments (IDE's) do you use on a regular basis?  (Select all that apply) - Selected Choice -  RStudio \",\n",
       " 'Q16_Part_3': \"Which of the following integrated development environments (IDE's) do you use on a regular basis?  (Select all that apply) - Selected Choice -  PyCharm \",\n",
       " 'Q16_Part_4': \"Which of the following integrated development environments (IDE's) do you use on a regular basis?  (Select all that apply) - Selected Choice -  Atom \",\n",
       " 'Q16_Part_5': \"Which of the following integrated development environments (IDE's) do you use on a regular basis?  (Select all that apply) - Selected Choice -  MATLAB \",\n",
       " 'Q16_Part_6': \"Which of the following integrated development environments (IDE's) do you use on a regular basis?  (Select all that apply) - Selected Choice -  Visual Studio / Visual Studio Code \",\n",
       " 'Q16_Part_7': \"Which of the following integrated development environments (IDE's) do you use on a regular basis?  (Select all that apply) - Selected Choice -   Spyder  \",\n",
       " 'Q16_Part_8': \"Which of the following integrated development environments (IDE's) do you use on a regular basis?  (Select all that apply) - Selected Choice -   Vim / Emacs  \",\n",
       " 'Q16_Part_9': \"Which of the following integrated development environments (IDE's) do you use on a regular basis?  (Select all that apply) - Selected Choice -   Notepad++  \",\n",
       " 'Q16_Part_10': \"Which of the following integrated development environments (IDE's) do you use on a regular basis?  (Select all that apply) - Selected Choice -   Sublime Text  \",\n",
       " 'Q16_Part_11': \"Which of the following integrated development environments (IDE's) do you use on a regular basis?  (Select all that apply) - Selected Choice - None\",\n",
       " 'Q16_Part_12': \"Which of the following integrated development environments (IDE's) do you use on a regular basis?  (Select all that apply) - Selected Choice - Other\",\n",
       " 'Q16_OTHER_TEXT': \"Which of the following integrated development environments (IDE's) do you use on a regular basis?  (Select all that apply) - Other - Text\",\n",
       " 'Q17_Part_1': 'Which of the following hosted notebook products do you use on a regular basis?  (Select all that apply) - Selected Choice -  Kaggle Notebooks (Kernels) ',\n",
       " 'Q17_Part_2': 'Which of the following hosted notebook products do you use on a regular basis?  (Select all that apply) - Selected Choice -  Google Colab ',\n",
       " 'Q17_Part_3': 'Which of the following hosted notebook products do you use on a regular basis?  (Select all that apply) - Selected Choice -  Microsoft Azure Notebooks ',\n",
       " 'Q17_Part_4': 'Which of the following hosted notebook products do you use on a regular basis?  (Select all that apply) - Selected Choice -  Google Cloud Notebook Products (AI Platform, Datalab, etc) ',\n",
       " 'Q17_Part_5': 'Which of the following hosted notebook products do you use on a regular basis?  (Select all that apply) - Selected Choice -  Paperspace / Gradient ',\n",
       " 'Q17_Part_6': 'Which of the following hosted notebook products do you use on a regular basis?  (Select all that apply) - Selected Choice -  FloydHub ',\n",
       " 'Q17_Part_7': 'Which of the following hosted notebook products do you use on a regular basis?  (Select all that apply) - Selected Choice -  Binder / JupyterHub ',\n",
       " 'Q17_Part_8': 'Which of the following hosted notebook products do you use on a regular basis?  (Select all that apply) - Selected Choice -  IBM Watson Studio ',\n",
       " 'Q17_Part_9': 'Which of the following hosted notebook products do you use on a regular basis?  (Select all that apply) - Selected Choice - Code Ocean ',\n",
       " 'Q17_Part_10': 'Which of the following hosted notebook products do you use on a regular basis?  (Select all that apply) - Selected Choice - AWS Notebook Products (EMR Notebooks, Sagemaker Notebooks, etc) ',\n",
       " 'Q17_Part_11': 'Which of the following hosted notebook products do you use on a regular basis?  (Select all that apply) - Selected Choice - None',\n",
       " 'Q17_Part_12': 'Which of the following hosted notebook products do you use on a regular basis?  (Select all that apply) - Selected Choice - Other',\n",
       " 'Q17_OTHER_TEXT': 'Which of the following hosted notebook products do you use on a regular basis?  (Select all that apply) - Other - Text',\n",
       " 'Q18_Part_1': 'What programming languages do you use on a regular basis? (Select all that apply) - Selected Choice - Python',\n",
       " 'Q18_Part_2': 'What programming languages do you use on a regular basis? (Select all that apply) - Selected Choice - R',\n",
       " 'Q18_Part_3': 'What programming languages do you use on a regular basis? (Select all that apply) - Selected Choice - SQL',\n",
       " 'Q18_Part_4': 'What programming languages do you use on a regular basis? (Select all that apply) - Selected Choice - C',\n",
       " 'Q18_Part_5': 'What programming languages do you use on a regular basis? (Select all that apply) - Selected Choice - C++',\n",
       " 'Q18_Part_6': 'What programming languages do you use on a regular basis? (Select all that apply) - Selected Choice - Java',\n",
       " 'Q18_Part_7': 'What programming languages do you use on a regular basis? (Select all that apply) - Selected Choice - Javascript',\n",
       " 'Q18_Part_8': 'What programming languages do you use on a regular basis? (Select all that apply) - Selected Choice - TypeScript',\n",
       " 'Q18_Part_9': 'What programming languages do you use on a regular basis? (Select all that apply) - Selected Choice - Bash',\n",
       " 'Q18_Part_10': 'What programming languages do you use on a regular basis? (Select all that apply) - Selected Choice - MATLAB',\n",
       " 'Q18_Part_11': 'What programming languages do you use on a regular basis? (Select all that apply) - Selected Choice - None',\n",
       " 'Q18_Part_12': 'What programming languages do you use on a regular basis? (Select all that apply) - Selected Choice - Other',\n",
       " 'Q18_OTHER_TEXT': 'What programming languages do you use on a regular basis? (Select all that apply) - Other - Text',\n",
       " 'Q19': 'What programming language would you recommend an aspiring data scientist to learn first? - Selected Choice',\n",
       " 'Q19_OTHER_TEXT': 'What programming language would you recommend an aspiring data scientist to learn first? - Other - Text',\n",
       " 'Q20_Part_1': 'What data visualization libraries or tools do you use on a regular basis?  (Select all that apply) - Selected Choice -  Ggplot / ggplot2 ',\n",
       " 'Q20_Part_2': 'What data visualization libraries or tools do you use on a regular basis?  (Select all that apply) - Selected Choice -  Matplotlib ',\n",
       " 'Q20_Part_3': 'What data visualization libraries or tools do you use on a regular basis?  (Select all that apply) - Selected Choice -  Altair ',\n",
       " 'Q20_Part_4': 'What data visualization libraries or tools do you use on a regular basis?  (Select all that apply) - Selected Choice -  Shiny ',\n",
       " 'Q20_Part_5': 'What data visualization libraries or tools do you use on a regular basis?  (Select all that apply) - Selected Choice -  D3.js ',\n",
       " 'Q20_Part_6': 'What data visualization libraries or tools do you use on a regular basis?  (Select all that apply) - Selected Choice -  Plotly / Plotly Express ',\n",
       " 'Q20_Part_7': 'What data visualization libraries or tools do you use on a regular basis?  (Select all that apply) - Selected Choice -  Bokeh ',\n",
       " 'Q20_Part_8': 'What data visualization libraries or tools do you use on a regular basis?  (Select all that apply) - Selected Choice -  Seaborn ',\n",
       " 'Q20_Part_9': 'What data visualization libraries or tools do you use on a regular basis?  (Select all that apply) - Selected Choice -  Geoplotlib ',\n",
       " 'Q20_Part_10': 'What data visualization libraries or tools do you use on a regular basis?  (Select all that apply) - Selected Choice -  Leaflet / Folium ',\n",
       " 'Q20_Part_11': 'What data visualization libraries or tools do you use on a regular basis?  (Select all that apply) - Selected Choice - None',\n",
       " 'Q20_Part_12': 'What data visualization libraries or tools do you use on a regular basis?  (Select all that apply) - Selected Choice - Other',\n",
       " 'Q20_OTHER_TEXT': 'What data visualization libraries or tools do you use on a regular basis?  (Select all that apply) - Other - Text',\n",
       " 'Q21_Part_1': 'Which types of specialized hardware do you use on a regular basis?  (Select all that apply) - Selected Choice - CPUs',\n",
       " 'Q21_Part_2': 'Which types of specialized hardware do you use on a regular basis?  (Select all that apply) - Selected Choice - GPUs',\n",
       " 'Q21_Part_3': 'Which types of specialized hardware do you use on a regular basis?  (Select all that apply) - Selected Choice - TPUs',\n",
       " 'Q21_Part_4': 'Which types of specialized hardware do you use on a regular basis?  (Select all that apply) - Selected Choice - None / I do not know',\n",
       " 'Q21_Part_5': 'Which types of specialized hardware do you use on a regular basis?  (Select all that apply) - Selected Choice - Other',\n",
       " 'Q21_OTHER_TEXT': 'Which types of specialized hardware do you use on a regular basis?  (Select all that apply) - Other - Text',\n",
       " 'Q22': 'Have you ever used a TPU (tensor processing unit)?',\n",
       " 'Q23': 'For how many years have you used machine learning methods?',\n",
       " 'Q24_Part_1': 'Which of the following ML algorithms do you use on a regular basis? (Select all that apply): - Selected Choice - Linear or Logistic Regression',\n",
       " 'Q24_Part_2': 'Which of the following ML algorithms do you use on a regular basis? (Select all that apply): - Selected Choice - Decision Trees or Random Forests',\n",
       " 'Q24_Part_3': 'Which of the following ML algorithms do you use on a regular basis? (Select all that apply): - Selected Choice - Gradient Boosting Machines (xgboost, lightgbm, etc)',\n",
       " 'Q24_Part_4': 'Which of the following ML algorithms do you use on a regular basis? (Select all that apply): - Selected Choice - Bayesian Approaches',\n",
       " 'Q24_Part_5': 'Which of the following ML algorithms do you use on a regular basis? (Select all that apply): - Selected Choice - Evolutionary Approaches',\n",
       " 'Q24_Part_6': 'Which of the following ML algorithms do you use on a regular basis? (Select all that apply): - Selected Choice - Dense Neural Networks (MLPs, etc)',\n",
       " 'Q24_Part_7': 'Which of the following ML algorithms do you use on a regular basis? (Select all that apply): - Selected Choice - Convolutional Neural Networks',\n",
       " 'Q24_Part_8': 'Which of the following ML algorithms do you use on a regular basis? (Select all that apply): - Selected Choice - Generative Adversarial Networks',\n",
       " 'Q24_Part_9': 'Which of the following ML algorithms do you use on a regular basis? (Select all that apply): - Selected Choice - Recurrent Neural Networks',\n",
       " 'Q24_Part_10': 'Which of the following ML algorithms do you use on a regular basis? (Select all that apply): - Selected Choice - Transformer Networks (BERT, gpt-2, etc)',\n",
       " 'Q24_Part_11': 'Which of the following ML algorithms do you use on a regular basis? (Select all that apply): - Selected Choice - None',\n",
       " 'Q24_Part_12': 'Which of the following ML algorithms do you use on a regular basis? (Select all that apply): - Selected Choice - Other',\n",
       " 'Q24_OTHER_TEXT': 'Which of the following ML algorithms do you use on a regular basis? (Select all that apply): - Other - Text',\n",
       " 'Q25_Part_1': 'Which categories of ML tools do you use on a regular basis?  (Select all that apply) - Selected Choice - Automated data augmentation (e.g. imgaug, albumentations)',\n",
       " 'Q25_Part_2': 'Which categories of ML tools do you use on a regular basis?  (Select all that apply) - Selected Choice - Automated feature engineering/selection (e.g. tpot, boruta_py)',\n",
       " 'Q25_Part_3': 'Which categories of ML tools do you use on a regular basis?  (Select all that apply) - Selected Choice - Automated model selection (e.g. auto-sklearn, xcessiv)',\n",
       " 'Q25_Part_4': 'Which categories of ML tools do you use on a regular basis?  (Select all that apply) - Selected Choice - Automated model architecture searches (e.g. darts, enas)',\n",
       " 'Q25_Part_5': 'Which categories of ML tools do you use on a regular basis?  (Select all that apply) - Selected Choice - Automated hyperparameter tuning (e.g. hyperopt, ray.tune)',\n",
       " 'Q25_Part_6': 'Which categories of ML tools do you use on a regular basis?  (Select all that apply) - Selected Choice - Automation of full ML pipelines (e.g. Google AutoML, H20 Driverless AI)',\n",
       " 'Q25_Part_7': 'Which categories of ML tools do you use on a regular basis?  (Select all that apply) - Selected Choice - None',\n",
       " 'Q25_Part_8': 'Which categories of ML tools do you use on a regular basis?  (Select all that apply) - Selected Choice - Other',\n",
       " 'Q25_OTHER_TEXT': 'Which categories of ML tools do you use on a regular basis?  (Select all that apply) - Other - Text',\n",
       " 'Q26_Part_1': 'Which categories of computer vision methods do you use on a regular basis?  (Select all that apply) - Selected Choice - General purpose image/video tools (PIL, cv2, skimage, etc)',\n",
       " 'Q26_Part_2': 'Which categories of computer vision methods do you use on a regular basis?  (Select all that apply) - Selected Choice - Image segmentation methods (U-Net, Mask R-CNN, etc)',\n",
       " 'Q26_Part_3': 'Which categories of computer vision methods do you use on a regular basis?  (Select all that apply) - Selected Choice - Object detection methods (YOLOv3, RetinaNet, etc)',\n",
       " 'Q26_Part_4': 'Which categories of computer vision methods do you use on a regular basis?  (Select all that apply) - Selected Choice - Image classification and other general purpose networks (VGG, Inception, ResNet, ResNeXt, NASNet, EfficientNet, etc)',\n",
       " 'Q26_Part_5': 'Which categories of computer vision methods do you use on a regular basis?  (Select all that apply) - Selected Choice - Generative Networks (GAN, VAE, etc)',\n",
       " 'Q26_Part_6': 'Which categories of computer vision methods do you use on a regular basis?  (Select all that apply) - Selected Choice - None',\n",
       " 'Q26_Part_7': 'Which categories of computer vision methods do you use on a regular basis?  (Select all that apply) - Selected Choice - Other',\n",
       " 'Q26_OTHER_TEXT': 'Which categories of computer vision methods do you use on a regular basis?  (Select all that apply) - Other - Text',\n",
       " 'Q27_Part_1': 'Which of the following natural language processing (NLP) methods do you use on a regular basis?  (Select all that apply) - Selected Choice - Word embeddings/vectors (GLoVe, fastText, word2vec)',\n",
       " 'Q27_Part_2': 'Which of the following natural language processing (NLP) methods do you use on a regular basis?  (Select all that apply) - Selected Choice - Encoder-decorder models (seq2seq, vanilla transformers)',\n",
       " 'Q27_Part_3': 'Which of the following natural language processing (NLP) methods do you use on a regular basis?  (Select all that apply) - Selected Choice - Contextualized embeddings (ELMo, CoVe)',\n",
       " 'Q27_Part_4': 'Which of the following natural language processing (NLP) methods do you use on a regular basis?  (Select all that apply) - Selected Choice - Transformer language models (GPT-2, BERT, XLnet, etc)',\n",
       " 'Q27_Part_5': 'Which of the following natural language processing (NLP) methods do you use on a regular basis?  (Select all that apply) - Selected Choice - None',\n",
       " 'Q27_Part_6': 'Which of the following natural language processing (NLP) methods do you use on a regular basis?  (Select all that apply) - Selected Choice - Other',\n",
       " 'Q27_OTHER_TEXT': 'Which of the following natural language processing (NLP) methods do you use on a regular basis?  (Select all that apply) - Other - Text',\n",
       " 'Q28_Part_1': 'Which of the following machine learning frameworks do you use on a regular basis? (Select all that apply) - Selected Choice -   Scikit-learn ',\n",
       " 'Q28_Part_2': 'Which of the following machine learning frameworks do you use on a regular basis? (Select all that apply) - Selected Choice -   TensorFlow ',\n",
       " 'Q28_Part_3': 'Which of the following machine learning frameworks do you use on a regular basis? (Select all that apply) - Selected Choice -  Keras ',\n",
       " 'Q28_Part_4': 'Which of the following machine learning frameworks do you use on a regular basis? (Select all that apply) - Selected Choice -  RandomForest',\n",
       " 'Q28_Part_5': 'Which of the following machine learning frameworks do you use on a regular basis? (Select all that apply) - Selected Choice -  Xgboost ',\n",
       " 'Q28_Part_6': 'Which of the following machine learning frameworks do you use on a regular basis? (Select all that apply) - Selected Choice -  PyTorch ',\n",
       " 'Q28_Part_7': 'Which of the following machine learning frameworks do you use on a regular basis? (Select all that apply) - Selected Choice -  Caret ',\n",
       " 'Q28_Part_8': 'Which of the following machine learning frameworks do you use on a regular basis? (Select all that apply) - Selected Choice -  LightGBM ',\n",
       " 'Q28_Part_9': 'Which of the following machine learning frameworks do you use on a regular basis? (Select all that apply) - Selected Choice -  Spark MLib ',\n",
       " 'Q28_Part_10': 'Which of the following machine learning frameworks do you use on a regular basis? (Select all that apply) - Selected Choice -  Fast.ai ',\n",
       " 'Q28_Part_11': 'Which of the following machine learning frameworks do you use on a regular basis? (Select all that apply) - Selected Choice - None',\n",
       " 'Q28_Part_12': 'Which of the following machine learning frameworks do you use on a regular basis? (Select all that apply) - Selected Choice - Other',\n",
       " 'Q28_OTHER_TEXT': 'Which of the following machine learning frameworks do you use on a regular basis? (Select all that apply) - Other - Text',\n",
       " 'Q29_Part_1': 'Which of the following cloud computing platforms do you use on a regular basis? (Select all that apply) - Selected Choice -  Google Cloud Platform (GCP) ',\n",
       " 'Q29_Part_2': 'Which of the following cloud computing platforms do you use on a regular basis? (Select all that apply) - Selected Choice -  Amazon Web Services (AWS) ',\n",
       " 'Q29_Part_3': 'Which of the following cloud computing platforms do you use on a regular basis? (Select all that apply) - Selected Choice -  Microsoft Azure ',\n",
       " 'Q29_Part_4': 'Which of the following cloud computing platforms do you use on a regular basis? (Select all that apply) - Selected Choice -  IBM Cloud ',\n",
       " 'Q29_Part_5': 'Which of the following cloud computing platforms do you use on a regular basis? (Select all that apply) - Selected Choice -  Alibaba Cloud ',\n",
       " 'Q29_Part_6': 'Which of the following cloud computing platforms do you use on a regular basis? (Select all that apply) - Selected Choice -  Salesforce Cloud ',\n",
       " 'Q29_Part_7': 'Which of the following cloud computing platforms do you use on a regular basis? (Select all that apply) - Selected Choice -  Oracle Cloud ',\n",
       " 'Q29_Part_8': 'Which of the following cloud computing platforms do you use on a regular basis? (Select all that apply) - Selected Choice -  SAP Cloud ',\n",
       " 'Q29_Part_9': 'Which of the following cloud computing platforms do you use on a regular basis? (Select all that apply) - Selected Choice -  VMware Cloud ',\n",
       " 'Q29_Part_10': 'Which of the following cloud computing platforms do you use on a regular basis? (Select all that apply) - Selected Choice -  Red Hat Cloud ',\n",
       " 'Q29_Part_11': 'Which of the following cloud computing platforms do you use on a regular basis? (Select all that apply) - Selected Choice - None',\n",
       " 'Q29_Part_12': 'Which of the following cloud computing platforms do you use on a regular basis? (Select all that apply) - Selected Choice - Other',\n",
       " 'Q29_OTHER_TEXT': 'Which of the following cloud computing platforms do you use on a regular basis? (Select all that apply) - Other - Text',\n",
       " 'Q30_Part_1': 'Which specific cloud computing products do you use on a regular basis? (Select all that apply) - Selected Choice - AWS Elastic Compute Cloud (EC2)',\n",
       " 'Q30_Part_2': 'Which specific cloud computing products do you use on a regular basis? (Select all that apply) - Selected Choice - Google Compute Engine (GCE)',\n",
       " 'Q30_Part_3': 'Which specific cloud computing products do you use on a regular basis? (Select all that apply) - Selected Choice - AWS Lambda',\n",
       " 'Q30_Part_4': 'Which specific cloud computing products do you use on a regular basis? (Select all that apply) - Selected Choice - Azure Virtual Machines',\n",
       " 'Q30_Part_5': 'Which specific cloud computing products do you use on a regular basis? (Select all that apply) - Selected Choice - Google App Engine',\n",
       " 'Q30_Part_6': 'Which specific cloud computing products do you use on a regular basis? (Select all that apply) - Selected Choice - Google Cloud Functions',\n",
       " 'Q30_Part_7': 'Which specific cloud computing products do you use on a regular basis? (Select all that apply) - Selected Choice - AWS Elastic Beanstalk',\n",
       " 'Q30_Part_8': 'Which specific cloud computing products do you use on a regular basis? (Select all that apply) - Selected Choice - Google Kubernetes Engine',\n",
       " 'Q30_Part_9': 'Which specific cloud computing products do you use on a regular basis? (Select all that apply) - Selected Choice - AWS Batch',\n",
       " 'Q30_Part_10': 'Which specific cloud computing products do you use on a regular basis? (Select all that apply) - Selected Choice - Azure Container Service',\n",
       " 'Q30_Part_11': 'Which specific cloud computing products do you use on a regular basis? (Select all that apply) - Selected Choice - None',\n",
       " 'Q30_Part_12': 'Which specific cloud computing products do you use on a regular basis? (Select all that apply) - Selected Choice - Other',\n",
       " 'Q30_OTHER_TEXT': 'Which specific cloud computing products do you use on a regular basis? (Select all that apply) - Other - Text',\n",
       " 'Q31_Part_1': 'Which specific big data / analytics products do you use on a regular basis? (Select all that apply) - Selected Choice - Google BigQuery',\n",
       " 'Q31_Part_2': 'Which specific big data / analytics products do you use on a regular basis? (Select all that apply) - Selected Choice - AWS Redshift',\n",
       " 'Q31_Part_3': 'Which specific big data / analytics products do you use on a regular basis? (Select all that apply) - Selected Choice - Databricks',\n",
       " 'Q31_Part_4': 'Which specific big data / analytics products do you use on a regular basis? (Select all that apply) - Selected Choice - AWS Elastic MapReduce',\n",
       " 'Q31_Part_5': 'Which specific big data / analytics products do you use on a regular basis? (Select all that apply) - Selected Choice - Teradata',\n",
       " 'Q31_Part_6': 'Which specific big data / analytics products do you use on a regular basis? (Select all that apply) - Selected Choice - Microsoft Analysis Services',\n",
       " 'Q31_Part_7': 'Which specific big data / analytics products do you use on a regular basis? (Select all that apply) - Selected Choice - Google Cloud Dataflow',\n",
       " 'Q31_Part_8': 'Which specific big data / analytics products do you use on a regular basis? (Select all that apply) - Selected Choice - AWS Athena',\n",
       " 'Q31_Part_9': 'Which specific big data / analytics products do you use on a regular basis? (Select all that apply) - Selected Choice - AWS Kinesis',\n",
       " 'Q31_Part_10': 'Which specific big data / analytics products do you use on a regular basis? (Select all that apply) - Selected Choice - Google Cloud Pub/Sub',\n",
       " 'Q31_Part_11': 'Which specific big data / analytics products do you use on a regular basis? (Select all that apply) - Selected Choice - None',\n",
       " 'Q31_Part_12': 'Which specific big data / analytics products do you use on a regular basis? (Select all that apply) - Selected Choice - Other',\n",
       " 'Q31_OTHER_TEXT': 'Which specific big data / analytics products do you use on a regular basis? (Select all that apply) - Other - Text',\n",
       " 'Q32_Part_1': 'Which of the following machine learning products do you use on a regular basis? (Select all that apply) - Selected Choice - SAS',\n",
       " 'Q32_Part_2': 'Which of the following machine learning products do you use on a regular basis? (Select all that apply) - Selected Choice - Cloudera',\n",
       " 'Q32_Part_3': 'Which of the following machine learning products do you use on a regular basis? (Select all that apply) - Selected Choice - Azure Machine Learning Studio',\n",
       " 'Q32_Part_4': 'Which of the following machine learning products do you use on a regular basis? (Select all that apply) - Selected Choice - Google Cloud Machine Learning Engine',\n",
       " 'Q32_Part_5': 'Which of the following machine learning products do you use on a regular basis? (Select all that apply) - Selected Choice - Google Cloud Vision',\n",
       " 'Q32_Part_6': 'Which of the following machine learning products do you use on a regular basis? (Select all that apply) - Selected Choice - Google Cloud Speech-to-Text',\n",
       " 'Q32_Part_7': 'Which of the following machine learning products do you use on a regular basis? (Select all that apply) - Selected Choice - Google Cloud Natural Language',\n",
       " 'Q32_Part_8': 'Which of the following machine learning products do you use on a regular basis? (Select all that apply) - Selected Choice - RapidMiner',\n",
       " 'Q32_Part_9': 'Which of the following machine learning products do you use on a regular basis? (Select all that apply) - Selected Choice - Google Cloud Translation',\n",
       " 'Q32_Part_10': 'Which of the following machine learning products do you use on a regular basis? (Select all that apply) - Selected Choice - Amazon SageMaker',\n",
       " 'Q32_Part_11': 'Which of the following machine learning products do you use on a regular basis? (Select all that apply) - Selected Choice - None',\n",
       " 'Q32_Part_12': 'Which of the following machine learning products do you use on a regular basis? (Select all that apply) - Selected Choice - Other',\n",
       " 'Q32_OTHER_TEXT': 'Which of the following machine learning products do you use on a regular basis? (Select all that apply) - Other - Text',\n",
       " 'Q33_Part_1': 'Which automated machine learning tools (or partial AutoML tools) do you use on a regular basis?  (Select all that apply) - Selected Choice -  Google AutoML ',\n",
       " 'Q33_Part_2': 'Which automated machine learning tools (or partial AutoML tools) do you use on a regular basis?  (Select all that apply) - Selected Choice -  H20 Driverless AI  ',\n",
       " 'Q33_Part_3': 'Which automated machine learning tools (or partial AutoML tools) do you use on a regular basis?  (Select all that apply) - Selected Choice -  Databricks AutoML ',\n",
       " 'Q33_Part_4': 'Which automated machine learning tools (or partial AutoML tools) do you use on a regular basis?  (Select all that apply) - Selected Choice -  DataRobot AutoML ',\n",
       " 'Q33_Part_5': 'Which automated machine learning tools (or partial AutoML tools) do you use on a regular basis?  (Select all that apply) - Selected Choice -   Tpot ',\n",
       " 'Q33_Part_6': 'Which automated machine learning tools (or partial AutoML tools) do you use on a regular basis?  (Select all that apply) - Selected Choice -   Auto-Keras ',\n",
       " 'Q33_Part_7': 'Which automated machine learning tools (or partial AutoML tools) do you use on a regular basis?  (Select all that apply) - Selected Choice -   Auto-Sklearn ',\n",
       " 'Q33_Part_8': 'Which automated machine learning tools (or partial AutoML tools) do you use on a regular basis?  (Select all that apply) - Selected Choice -   Auto_ml ',\n",
       " 'Q33_Part_9': 'Which automated machine learning tools (or partial AutoML tools) do you use on a regular basis?  (Select all that apply) - Selected Choice -   Xcessiv ',\n",
       " 'Q33_Part_10': 'Which automated machine learning tools (or partial AutoML tools) do you use on a regular basis?  (Select all that apply) - Selected Choice -   MLbox ',\n",
       " 'Q33_Part_11': 'Which automated machine learning tools (or partial AutoML tools) do you use on a regular basis?  (Select all that apply) - Selected Choice - None',\n",
       " 'Q33_Part_12': 'Which automated machine learning tools (or partial AutoML tools) do you use on a regular basis?  (Select all that apply) - Selected Choice - Other',\n",
       " 'Q33_OTHER_TEXT': 'Which automated machine learning tools (or partial AutoML tools) do you use on a regular basis?  (Select all that apply) - Other - Text',\n",
       " 'Q34_Part_1': 'Which of the following relational database products do you use on a regular basis? (Select all that apply) - Selected Choice - MySQL',\n",
       " 'Q34_Part_2': 'Which of the following relational database products do you use on a regular basis? (Select all that apply) - Selected Choice - PostgresSQL',\n",
       " 'Q34_Part_3': 'Which of the following relational database products do you use on a regular basis? (Select all that apply) - Selected Choice - SQLite',\n",
       " 'Q34_Part_4': 'Which of the following relational database products do you use on a regular basis? (Select all that apply) - Selected Choice - Microsoft SQL Server',\n",
       " 'Q34_Part_5': 'Which of the following relational database products do you use on a regular basis? (Select all that apply) - Selected Choice - Oracle Database',\n",
       " 'Q34_Part_6': 'Which of the following relational database products do you use on a regular basis? (Select all that apply) - Selected Choice - Microsoft Access',\n",
       " 'Q34_Part_7': 'Which of the following relational database products do you use on a regular basis? (Select all that apply) - Selected Choice - AWS Relational Database Service',\n",
       " 'Q34_Part_8': 'Which of the following relational database products do you use on a regular basis? (Select all that apply) - Selected Choice - AWS DynamoDB',\n",
       " 'Q34_Part_9': 'Which of the following relational database products do you use on a regular basis? (Select all that apply) - Selected Choice - Azure SQL Database',\n",
       " 'Q34_Part_10': 'Which of the following relational database products do you use on a regular basis? (Select all that apply) - Selected Choice - Google Cloud SQL',\n",
       " 'Q34_Part_11': 'Which of the following relational database products do you use on a regular basis? (Select all that apply) - Selected Choice - None',\n",
       " 'Q34_Part_12': 'Which of the following relational database products do you use on a regular basis? (Select all that apply) - Selected Choice - Other',\n",
       " 'Q34_OTHER_TEXT': 'Which of the following relational database products do you use on a regular basis? (Select all that apply) - Other - Text'}"
      ]
     },
     "execution_count": 9,
     "metadata": {},
     "output_type": "execute_result"
    }
   ],
   "source": [
    "#an easier way to get this\n",
    "dict(df.columns)"
   ]
  },
  {
   "cell_type": "markdown",
   "id": "9e36129c",
   "metadata": {},
   "source": [
    "Since now that we know which code corresponds to which level we can get rid of the second level columns"
   ]
  },
  {
   "cell_type": "code",
   "execution_count": 10,
   "id": "69d3e9dc",
   "metadata": {},
   "outputs": [],
   "source": [
    "question_codes=dict(df.columns)\n",
    "xdf=df.droplevel(1,axis=1)"
   ]
  },
  {
   "cell_type": "code",
   "execution_count": 11,
   "id": "756b033a",
   "metadata": {},
   "outputs": [
    {
     "data": {
      "text/html": [
       "<div>\n",
       "<style scoped>\n",
       "    .dataframe tbody tr th:only-of-type {\n",
       "        vertical-align: middle;\n",
       "    }\n",
       "\n",
       "    .dataframe tbody tr th {\n",
       "        vertical-align: top;\n",
       "    }\n",
       "\n",
       "    .dataframe thead th {\n",
       "        text-align: right;\n",
       "    }\n",
       "</style>\n",
       "<table border=\"1\" class=\"dataframe\">\n",
       "  <thead>\n",
       "    <tr style=\"text-align: right;\">\n",
       "      <th></th>\n",
       "      <th>Time from Start to Finish (seconds)</th>\n",
       "      <th>Q1</th>\n",
       "      <th>Q2</th>\n",
       "      <th>Q2_OTHER_TEXT</th>\n",
       "      <th>Q3</th>\n",
       "      <th>Q4</th>\n",
       "      <th>Q5</th>\n",
       "      <th>Q5_OTHER_TEXT</th>\n",
       "      <th>Q6</th>\n",
       "      <th>Q7</th>\n",
       "      <th>...</th>\n",
       "      <th>Q34_Part_4</th>\n",
       "      <th>Q34_Part_5</th>\n",
       "      <th>Q34_Part_6</th>\n",
       "      <th>Q34_Part_7</th>\n",
       "      <th>Q34_Part_8</th>\n",
       "      <th>Q34_Part_9</th>\n",
       "      <th>Q34_Part_10</th>\n",
       "      <th>Q34_Part_11</th>\n",
       "      <th>Q34_Part_12</th>\n",
       "      <th>Q34_OTHER_TEXT</th>\n",
       "    </tr>\n",
       "  </thead>\n",
       "  <tbody>\n",
       "    <tr>\n",
       "      <th>0</th>\n",
       "      <td>510</td>\n",
       "      <td>22-24</td>\n",
       "      <td>Male</td>\n",
       "      <td>-1</td>\n",
       "      <td>France</td>\n",
       "      <td>Master’s degree</td>\n",
       "      <td>Software Engineer</td>\n",
       "      <td>-1</td>\n",
       "      <td>1000-9,999 employees</td>\n",
       "      <td>0</td>\n",
       "      <td>...</td>\n",
       "      <td>NaN</td>\n",
       "      <td>NaN</td>\n",
       "      <td>NaN</td>\n",
       "      <td>NaN</td>\n",
       "      <td>NaN</td>\n",
       "      <td>NaN</td>\n",
       "      <td>NaN</td>\n",
       "      <td>NaN</td>\n",
       "      <td>NaN</td>\n",
       "      <td>-1</td>\n",
       "    </tr>\n",
       "    <tr>\n",
       "      <th>1</th>\n",
       "      <td>423</td>\n",
       "      <td>40-44</td>\n",
       "      <td>Male</td>\n",
       "      <td>-1</td>\n",
       "      <td>India</td>\n",
       "      <td>Professional degree</td>\n",
       "      <td>Software Engineer</td>\n",
       "      <td>-1</td>\n",
       "      <td>&gt; 10,000 employees</td>\n",
       "      <td>20+</td>\n",
       "      <td>...</td>\n",
       "      <td>NaN</td>\n",
       "      <td>NaN</td>\n",
       "      <td>NaN</td>\n",
       "      <td>NaN</td>\n",
       "      <td>NaN</td>\n",
       "      <td>NaN</td>\n",
       "      <td>NaN</td>\n",
       "      <td>NaN</td>\n",
       "      <td>NaN</td>\n",
       "      <td>-1</td>\n",
       "    </tr>\n",
       "    <tr>\n",
       "      <th>2</th>\n",
       "      <td>83</td>\n",
       "      <td>55-59</td>\n",
       "      <td>Female</td>\n",
       "      <td>-1</td>\n",
       "      <td>Germany</td>\n",
       "      <td>Professional degree</td>\n",
       "      <td>NaN</td>\n",
       "      <td>-1</td>\n",
       "      <td>NaN</td>\n",
       "      <td>NaN</td>\n",
       "      <td>...</td>\n",
       "      <td>NaN</td>\n",
       "      <td>NaN</td>\n",
       "      <td>NaN</td>\n",
       "      <td>NaN</td>\n",
       "      <td>NaN</td>\n",
       "      <td>NaN</td>\n",
       "      <td>NaN</td>\n",
       "      <td>NaN</td>\n",
       "      <td>NaN</td>\n",
       "      <td>-1</td>\n",
       "    </tr>\n",
       "    <tr>\n",
       "      <th>3</th>\n",
       "      <td>391</td>\n",
       "      <td>40-44</td>\n",
       "      <td>Male</td>\n",
       "      <td>-1</td>\n",
       "      <td>Australia</td>\n",
       "      <td>Master’s degree</td>\n",
       "      <td>Other</td>\n",
       "      <td>0</td>\n",
       "      <td>&gt; 10,000 employees</td>\n",
       "      <td>20+</td>\n",
       "      <td>...</td>\n",
       "      <td>NaN</td>\n",
       "      <td>NaN</td>\n",
       "      <td>NaN</td>\n",
       "      <td>NaN</td>\n",
       "      <td>NaN</td>\n",
       "      <td>Azure SQL Database</td>\n",
       "      <td>NaN</td>\n",
       "      <td>NaN</td>\n",
       "      <td>NaN</td>\n",
       "      <td>-1</td>\n",
       "    </tr>\n",
       "    <tr>\n",
       "      <th>4</th>\n",
       "      <td>392</td>\n",
       "      <td>22-24</td>\n",
       "      <td>Male</td>\n",
       "      <td>-1</td>\n",
       "      <td>India</td>\n",
       "      <td>Bachelor’s degree</td>\n",
       "      <td>Other</td>\n",
       "      <td>1</td>\n",
       "      <td>0-49 employees</td>\n",
       "      <td>0</td>\n",
       "      <td>...</td>\n",
       "      <td>NaN</td>\n",
       "      <td>NaN</td>\n",
       "      <td>NaN</td>\n",
       "      <td>NaN</td>\n",
       "      <td>NaN</td>\n",
       "      <td>NaN</td>\n",
       "      <td>NaN</td>\n",
       "      <td>NaN</td>\n",
       "      <td>NaN</td>\n",
       "      <td>-1</td>\n",
       "    </tr>\n",
       "  </tbody>\n",
       "</table>\n",
       "<p>5 rows × 246 columns</p>\n",
       "</div>"
      ],
      "text/plain": [
       "   Time from Start to Finish (seconds)     Q1      Q2  Q2_OTHER_TEXT  \\\n",
       "0                                  510  22-24    Male             -1   \n",
       "1                                  423  40-44    Male             -1   \n",
       "2                                   83  55-59  Female             -1   \n",
       "3                                  391  40-44    Male             -1   \n",
       "4                                  392  22-24    Male             -1   \n",
       "\n",
       "          Q3                   Q4                 Q5  Q5_OTHER_TEXT  \\\n",
       "0     France      Master’s degree  Software Engineer             -1   \n",
       "1      India  Professional degree  Software Engineer             -1   \n",
       "2    Germany  Professional degree                NaN             -1   \n",
       "3  Australia      Master’s degree              Other              0   \n",
       "4      India    Bachelor’s degree              Other              1   \n",
       "\n",
       "                     Q6   Q7  ... Q34_Part_4 Q34_Part_5 Q34_Part_6 Q34_Part_7  \\\n",
       "0  1000-9,999 employees    0  ...        NaN        NaN        NaN        NaN   \n",
       "1    > 10,000 employees  20+  ...        NaN        NaN        NaN        NaN   \n",
       "2                   NaN  NaN  ...        NaN        NaN        NaN        NaN   \n",
       "3    > 10,000 employees  20+  ...        NaN        NaN        NaN        NaN   \n",
       "4        0-49 employees    0  ...        NaN        NaN        NaN        NaN   \n",
       "\n",
       "  Q34_Part_8          Q34_Part_9 Q34_Part_10 Q34_Part_11 Q34_Part_12  \\\n",
       "0        NaN                 NaN         NaN         NaN         NaN   \n",
       "1        NaN                 NaN         NaN         NaN         NaN   \n",
       "2        NaN                 NaN         NaN         NaN         NaN   \n",
       "3        NaN  Azure SQL Database         NaN         NaN         NaN   \n",
       "4        NaN                 NaN         NaN         NaN         NaN   \n",
       "\n",
       "   Q34_OTHER_TEXT  \n",
       "0              -1  \n",
       "1              -1  \n",
       "2              -1  \n",
       "3              -1  \n",
       "4              -1  \n",
       "\n",
       "[5 rows x 246 columns]"
      ]
     },
     "execution_count": 11,
     "metadata": {},
     "output_type": "execute_result"
    }
   ],
   "source": [
    "xdf.head()"
   ]
  },
  {
   "cell_type": "markdown",
   "id": "590ed4a8",
   "metadata": {},
   "source": [
    "#### How to find what is the question based on the question number?"
   ]
  },
  {
   "cell_type": "code",
   "execution_count": 12,
   "id": "4df75c31",
   "metadata": {},
   "outputs": [
    {
     "data": {
      "text/plain": [
       "'What is your age (# years)?'"
      ]
     },
     "execution_count": 12,
     "metadata": {},
     "output_type": "execute_result"
    }
   ],
   "source": [
    "#What is question 1?\n",
    "question_codes['Q1']"
   ]
  },
  {
   "cell_type": "code",
   "execution_count": 13,
   "id": "5382e9ae",
   "metadata": {},
   "outputs": [
    {
     "data": {
      "text/plain": [
       "'What is your gender? - Selected Choice'"
      ]
     },
     "execution_count": 13,
     "metadata": {},
     "output_type": "execute_result"
    }
   ],
   "source": [
    "#what is question 2?\n",
    "question_codes['Q2']"
   ]
  },
  {
   "cell_type": "markdown",
   "id": "e30a5845",
   "metadata": {},
   "source": [
    "#### What is the gender ratio in this survey?"
   ]
  },
  {
   "cell_type": "code",
   "execution_count": 14,
   "id": "6dd4ff12",
   "metadata": {},
   "outputs": [
    {
     "name": "stdout",
     "output_type": "stream",
     "text": [
      "[array(['Male'], dtype=object), array(['Female'], dtype=object), array(['Prefer to self-describe'], dtype=object), array(['Prefer not to say'], dtype=object)]\n"
     ]
    }
   ],
   "source": [
    "genders=[]\n",
    "for gender in df['Q2'].values:\n",
    "    if gender in genders:\n",
    "        continue\n",
    "    else:\n",
    "        genders.append(gender)\n",
    "print(genders)"
   ]
  },
  {
   "cell_type": "code",
   "execution_count": 15,
   "id": "573609cc",
   "metadata": {},
   "outputs": [
    {
     "data": {
      "text/plain": [
       "array(['Male', 'Female', 'Prefer to self-describe', 'Prefer not to say'],\n",
       "      dtype=object)"
      ]
     },
     "execution_count": 15,
     "metadata": {},
     "output_type": "execute_result"
    }
   ],
   "source": [
    "# easy way to this is\n",
    "xdf['Q2'].unique()"
   ]
  },
  {
   "cell_type": "code",
   "execution_count": 16,
   "id": "edd8c711",
   "metadata": {},
   "outputs": [
    {
     "data": {
      "text/plain": [
       "4"
      ]
     },
     "execution_count": 16,
     "metadata": {},
     "output_type": "execute_result"
    }
   ],
   "source": [
    "#Getting number of the unique values\n",
    "xdf['Q2'].nunique()"
   ]
  },
  {
   "cell_type": "code",
   "execution_count": 17,
   "id": "f8033f3e",
   "metadata": {},
   "outputs": [
    {
     "name": "stdout",
     "output_type": "stream",
     "text": [
      "Gender Ratio for the given dataset is as follows: \n",
      "Male 81.8270765744889\n",
      "Female 16.36541531489778\n",
      "Prefer to self-describe 0.24718059632318862\n",
      "Prefer not to say 1.5603275142901283\n"
     ]
    }
   ],
   "source": [
    "print(\"Gender Ratio for the given dataset is as follows: \")\n",
    "counts={'Male':0, 'Female':0, 'Prefer to self-describe':0, 'Prefer not to say':0}\n",
    "N_rows=xdf.shape[0]\n",
    "for gender in xdf['Q2'].values:\n",
    "    count=counts[gender]\n",
    "    count+=1\n",
    "    counts[gender]=count\n",
    "for gender, count in counts.items():\n",
    "    print(gender, count/N_rows*100)"
   ]
  },
  {
   "cell_type": "code",
   "execution_count": 18,
   "id": "d21d9ff7",
   "metadata": {},
   "outputs": [
    {
     "data": {
      "text/plain": [
       "Male                       81.827077\n",
       "Female                     16.365415\n",
       "Prefer not to say           1.560328\n",
       "Prefer to self-describe     0.247181\n",
       "Name: Q2, dtype: float64"
      ]
     },
     "execution_count": 18,
     "metadata": {},
     "output_type": "execute_result"
    }
   ],
   "source": [
    "# Easier way to do this\n",
    "xdf['Q2'].value_counts()/N_rows*100"
   ]
  },
  {
   "cell_type": "code",
   "execution_count": 19,
   "id": "b03d8b39",
   "metadata": {},
   "outputs": [
    {
     "data": {
      "text/plain": [
       "<AxesSubplot:ylabel='Q2'>"
      ]
     },
     "execution_count": 19,
     "metadata": {},
     "output_type": "execute_result"
    },
    {
     "data": {
      "image/png": "[encoded data removed]",
      "text/plain": [
       "<Figure size 432x288 with 1 Axes>"
      ]
     },
     "metadata": {},
     "output_type": "display_data"
    }
   ],
   "source": [
    "#Plotting pie chart with help of the gender ratio data\n",
    "(xdf['Q2'].value_counts()/N_rows*100).plot(kind='pie')"
   ]
  },
  {
   "cell_type": "code",
   "execution_count": 20,
   "id": "b39a9966",
   "metadata": {},
   "outputs": [
    {
     "data": {
      "text/plain": [
       "count     19419\n",
       "unique        4\n",
       "top        Male\n",
       "freq      15890\n",
       "Name: Q2, dtype: object"
      ]
     },
     "execution_count": 20,
     "metadata": {},
     "output_type": "execute_result"
    }
   ],
   "source": [
    "xdf['Q2'].describe() #statistical measures of the categorical data"
   ]
  },
  {
   "cell_type": "code",
   "execution_count": 21,
   "id": "0b5707eb",
   "metadata": {},
   "outputs": [
    {
     "data": {
      "text/plain": [
       "count     19419.000000\n",
       "mean      14560.658788\n",
       "std       74711.729583\n",
       "min          60.000000\n",
       "25%         350.000000\n",
       "50%         547.000000\n",
       "75%         942.000000\n",
       "max      843612.000000\n",
       "Name: Time from Start to Finish (seconds), dtype: float64"
      ]
     },
     "execution_count": 21,
     "metadata": {},
     "output_type": "execute_result"
    }
   ],
   "source": [
    "xdf['Time from Start to Finish (seconds)'].describe() #statistical measures of the numeric data"
   ]
  },
  {
   "cell_type": "markdown",
   "id": "3b281564",
   "metadata": {},
   "source": [
    "#### Looking at the indian subset of the data"
   ]
  },
  {
   "cell_type": "code",
   "execution_count": 22,
   "id": "9b66907e",
   "metadata": {},
   "outputs": [
    {
     "data": {
      "text/plain": [
       "'In which country do you currently reside?'"
      ]
     },
     "execution_count": 22,
     "metadata": {},
     "output_type": "execute_result"
    }
   ],
   "source": [
    "question_codes['Q3']"
   ]
  },
  {
   "cell_type": "code",
   "execution_count": 23,
   "id": "ab3fb1a3",
   "metadata": {},
   "outputs": [
    {
     "data": {
      "text/html": [
       "<div>\n",
       "<style scoped>\n",
       "    .dataframe tbody tr th:only-of-type {\n",
       "        vertical-align: middle;\n",
       "    }\n",
       "\n",
       "    .dataframe tbody tr th {\n",
       "        vertical-align: top;\n",
       "    }\n",
       "\n",
       "    .dataframe thead th {\n",
       "        text-align: right;\n",
       "    }\n",
       "</style>\n",
       "<table border=\"1\" class=\"dataframe\">\n",
       "  <thead>\n",
       "    <tr style=\"text-align: right;\">\n",
       "      <th></th>\n",
       "      <th>Time from Start to Finish (seconds)</th>\n",
       "      <th>Q1</th>\n",
       "      <th>Q2</th>\n",
       "      <th>Q2_OTHER_TEXT</th>\n",
       "      <th>Q3</th>\n",
       "      <th>Q4</th>\n",
       "      <th>Q5</th>\n",
       "      <th>Q5_OTHER_TEXT</th>\n",
       "      <th>Q6</th>\n",
       "      <th>Q7</th>\n",
       "      <th>...</th>\n",
       "      <th>Q34_Part_4</th>\n",
       "      <th>Q34_Part_5</th>\n",
       "      <th>Q34_Part_6</th>\n",
       "      <th>Q34_Part_7</th>\n",
       "      <th>Q34_Part_8</th>\n",
       "      <th>Q34_Part_9</th>\n",
       "      <th>Q34_Part_10</th>\n",
       "      <th>Q34_Part_11</th>\n",
       "      <th>Q34_Part_12</th>\n",
       "      <th>Q34_OTHER_TEXT</th>\n",
       "    </tr>\n",
       "  </thead>\n",
       "  <tbody>\n",
       "    <tr>\n",
       "      <th>1</th>\n",
       "      <td>423</td>\n",
       "      <td>40-44</td>\n",
       "      <td>Male</td>\n",
       "      <td>-1</td>\n",
       "      <td>India</td>\n",
       "      <td>Professional degree</td>\n",
       "      <td>Software Engineer</td>\n",
       "      <td>-1</td>\n",
       "      <td>&gt; 10,000 employees</td>\n",
       "      <td>20+</td>\n",
       "      <td>...</td>\n",
       "      <td>NaN</td>\n",
       "      <td>NaN</td>\n",
       "      <td>NaN</td>\n",
       "      <td>NaN</td>\n",
       "      <td>NaN</td>\n",
       "      <td>NaN</td>\n",
       "      <td>NaN</td>\n",
       "      <td>NaN</td>\n",
       "      <td>NaN</td>\n",
       "      <td>-1</td>\n",
       "    </tr>\n",
       "    <tr>\n",
       "      <th>4</th>\n",
       "      <td>392</td>\n",
       "      <td>22-24</td>\n",
       "      <td>Male</td>\n",
       "      <td>-1</td>\n",
       "      <td>India</td>\n",
       "      <td>Bachelor’s degree</td>\n",
       "      <td>Other</td>\n",
       "      <td>1</td>\n",
       "      <td>0-49 employees</td>\n",
       "      <td>0</td>\n",
       "      <td>...</td>\n",
       "      <td>NaN</td>\n",
       "      <td>NaN</td>\n",
       "      <td>NaN</td>\n",
       "      <td>NaN</td>\n",
       "      <td>NaN</td>\n",
       "      <td>NaN</td>\n",
       "      <td>NaN</td>\n",
       "      <td>NaN</td>\n",
       "      <td>NaN</td>\n",
       "      <td>-1</td>\n",
       "    </tr>\n",
       "    <tr>\n",
       "      <th>6</th>\n",
       "      <td>529</td>\n",
       "      <td>22-24</td>\n",
       "      <td>Male</td>\n",
       "      <td>-1</td>\n",
       "      <td>India</td>\n",
       "      <td>Master’s degree</td>\n",
       "      <td>Data Scientist</td>\n",
       "      <td>-1</td>\n",
       "      <td>50-249 employees</td>\n",
       "      <td>20+</td>\n",
       "      <td>...</td>\n",
       "      <td>NaN</td>\n",
       "      <td>NaN</td>\n",
       "      <td>NaN</td>\n",
       "      <td>NaN</td>\n",
       "      <td>NaN</td>\n",
       "      <td>NaN</td>\n",
       "      <td>NaN</td>\n",
       "      <td>NaN</td>\n",
       "      <td>NaN</td>\n",
       "      <td>-1</td>\n",
       "    </tr>\n",
       "    <tr>\n",
       "      <th>10</th>\n",
       "      <td>290</td>\n",
       "      <td>18-21</td>\n",
       "      <td>Male</td>\n",
       "      <td>-1</td>\n",
       "      <td>India</td>\n",
       "      <td>Some college/university study without earning ...</td>\n",
       "      <td>Student</td>\n",
       "      <td>-1</td>\n",
       "      <td>NaN</td>\n",
       "      <td>NaN</td>\n",
       "      <td>...</td>\n",
       "      <td>NaN</td>\n",
       "      <td>NaN</td>\n",
       "      <td>NaN</td>\n",
       "      <td>NaN</td>\n",
       "      <td>NaN</td>\n",
       "      <td>NaN</td>\n",
       "      <td>NaN</td>\n",
       "      <td>NaN</td>\n",
       "      <td>NaN</td>\n",
       "      <td>-1</td>\n",
       "    </tr>\n",
       "    <tr>\n",
       "      <th>14</th>\n",
       "      <td>524</td>\n",
       "      <td>25-29</td>\n",
       "      <td>Male</td>\n",
       "      <td>-1</td>\n",
       "      <td>India</td>\n",
       "      <td>Bachelor’s degree</td>\n",
       "      <td>Other</td>\n",
       "      <td>3</td>\n",
       "      <td>1000-9,999 employees</td>\n",
       "      <td>NaN</td>\n",
       "      <td>...</td>\n",
       "      <td>NaN</td>\n",
       "      <td>NaN</td>\n",
       "      <td>NaN</td>\n",
       "      <td>NaN</td>\n",
       "      <td>NaN</td>\n",
       "      <td>NaN</td>\n",
       "      <td>NaN</td>\n",
       "      <td>NaN</td>\n",
       "      <td>NaN</td>\n",
       "      <td>-1</td>\n",
       "    </tr>\n",
       "  </tbody>\n",
       "</table>\n",
       "<p>5 rows × 246 columns</p>\n",
       "</div>"
      ],
      "text/plain": [
       "    Time from Start to Finish (seconds)     Q1    Q2  Q2_OTHER_TEXT     Q3  \\\n",
       "1                                   423  40-44  Male             -1  India   \n",
       "4                                   392  22-24  Male             -1  India   \n",
       "6                                   529  22-24  Male             -1  India   \n",
       "10                                  290  18-21  Male             -1  India   \n",
       "14                                  524  25-29  Male             -1  India   \n",
       "\n",
       "                                                   Q4                 Q5  \\\n",
       "1                                 Professional degree  Software Engineer   \n",
       "4                                   Bachelor’s degree              Other   \n",
       "6                                     Master’s degree     Data Scientist   \n",
       "10  Some college/university study without earning ...            Student   \n",
       "14                                  Bachelor’s degree              Other   \n",
       "\n",
       "    Q5_OTHER_TEXT                    Q6   Q7  ... Q34_Part_4 Q34_Part_5  \\\n",
       "1              -1    > 10,000 employees  20+  ...        NaN        NaN   \n",
       "4               1        0-49 employees    0  ...        NaN        NaN   \n",
       "6              -1      50-249 employees  20+  ...        NaN        NaN   \n",
       "10             -1                   NaN  NaN  ...        NaN        NaN   \n",
       "14              3  1000-9,999 employees  NaN  ...        NaN        NaN   \n",
       "\n",
       "   Q34_Part_6 Q34_Part_7 Q34_Part_8 Q34_Part_9 Q34_Part_10 Q34_Part_11  \\\n",
       "1         NaN        NaN        NaN        NaN         NaN         NaN   \n",
       "4         NaN        NaN        NaN        NaN         NaN         NaN   \n",
       "6         NaN        NaN        NaN        NaN         NaN         NaN   \n",
       "10        NaN        NaN        NaN        NaN         NaN         NaN   \n",
       "14        NaN        NaN        NaN        NaN         NaN         NaN   \n",
       "\n",
       "   Q34_Part_12  Q34_OTHER_TEXT  \n",
       "1          NaN              -1  \n",
       "4          NaN              -1  \n",
       "6          NaN              -1  \n",
       "10         NaN              -1  \n",
       "14         NaN              -1  \n",
       "\n",
       "[5 rows x 246 columns]"
      ]
     },
     "execution_count": 23,
     "metadata": {},
     "output_type": "execute_result"
    }
   ],
   "source": [
    "India=xdf[xdf['Q3']=='India']\n",
    "India.head()"
   ]
  },
  {
   "cell_type": "markdown",
   "id": "cfa11e63",
   "metadata": {},
   "source": [
    "#### Exploring salaries in India"
   ]
  },
  {
   "cell_type": "code",
   "execution_count": 24,
   "id": "df96cef5",
   "metadata": {},
   "outputs": [
    {
     "data": {
      "text/plain": [
       "'What is your current yearly compensation (approximate $USD)?'"
      ]
     },
     "execution_count": 24,
     "metadata": {},
     "output_type": "execute_result"
    }
   ],
   "source": [
    "question_codes['Q10']"
   ]
  },
  {
   "cell_type": "code",
   "execution_count": 25,
   "id": "27c8ca31",
   "metadata": {},
   "outputs": [
    {
     "data": {
      "text/plain": [
       "1       5,000-7,499\n",
       "4       4,000-4,999\n",
       "6     10,000-14,999\n",
       "10              NaN\n",
       "14              NaN\n",
       "Name: Q10, dtype: object"
      ]
     },
     "execution_count": 25,
     "metadata": {},
     "output_type": "execute_result"
    }
   ],
   "source": [
    "India['Q10'].head()"
   ]
  },
  {
   "cell_type": "code",
   "execution_count": 26,
   "id": "10c86aba",
   "metadata": {},
   "outputs": [
    {
     "data": {
      "text/plain": [
       "2252"
      ]
     },
     "execution_count": 26,
     "metadata": {},
     "output_type": "execute_result"
    }
   ],
   "source": [
    "#Counting the null values\n",
    "India['Q10'].isna().sum()"
   ]
  },
  {
   "cell_type": "code",
   "execution_count": 27,
   "id": "e8794f46",
   "metadata": {},
   "outputs": [
    {
     "data": {
      "text/plain": [
       "1         5,000-7,499\n",
       "4         4,000-4,999\n",
       "6       10,000-14,999\n",
       "22             $0-999\n",
       "26    100,000-124,999\n",
       "Name: Q10, dtype: object"
      ]
     },
     "execution_count": 27,
     "metadata": {},
     "output_type": "execute_result"
    }
   ],
   "source": [
    "#Dropping the null values\n",
    "India.dropna(subset=['Q10'],inplace=True)\n",
    "India['Q10'].head()"
   ]
  },
  {
   "cell_type": "code",
   "execution_count": 28,
   "id": "69420357",
   "metadata": {},
   "outputs": [
    {
     "data": {
      "text/plain": [
       "1         5,000-7,499\n",
       "4         4,000-4,999\n",
       "6       10,000-14,999\n",
       "22              0-999\n",
       "26    100,000-124,999\n",
       "Name: Q10, dtype: object"
      ]
     },
     "execution_count": 28,
     "metadata": {},
     "output_type": "execute_result"
    }
   ],
   "source": [
    "#How do we remove the dollar symbol?\n",
    "remove_dollar=lambda x: x.replace('$','')\n",
    "India['Q10']=India['Q10'].apply(remove_dollar)\n",
    "India['Q10'].head()"
   ]
  },
  {
   "cell_type": "markdown",
   "id": "e47ab671",
   "metadata": {},
   "source": [
    "Remove the commas with Pandas string function"
   ]
  },
  {
   "cell_type": "code",
   "execution_count": 29,
   "id": "7ff74900",
   "metadata": {},
   "outputs": [
    {
     "data": {
      "text/plain": [
       "1         5000-7499\n",
       "4         4000-4999\n",
       "6       10000-14999\n",
       "22            0-999\n",
       "26    100000-124999\n",
       "Name: Q10, dtype: object"
      ]
     },
     "execution_count": 29,
     "metadata": {},
     "output_type": "execute_result"
    }
   ],
   "source": [
    "#We need to remove commas in order to treat these entries as numeric\n",
    "India['Q10']=India['Q10'].str.replace(',','')\n",
    "India['Q10'].head()"
   ]
  },
  {
   "cell_type": "code",
   "execution_count": 30,
   "id": "58e30974",
   "metadata": {},
   "outputs": [
    {
     "data": {
      "text/plain": [
       "1         [5000, 7499]\n",
       "4         [4000, 4999]\n",
       "6       [10000, 14999]\n",
       "22            [0, 999]\n",
       "26    [100000, 124999]\n",
       "Name: Q10, dtype: object"
      ]
     },
     "execution_count": 30,
     "metadata": {},
     "output_type": "execute_result"
    }
   ],
   "source": [
    "#Getting min/max values from the salary range\n",
    "India['Q10'].str.split('-').head()"
   ]
  },
  {
   "cell_type": "code",
   "execution_count": 31,
   "id": "a19f6bff",
   "metadata": {},
   "outputs": [
    {
     "data": {
      "text/html": [
       "<div>\n",
       "<style scoped>\n",
       "    .dataframe tbody tr th:only-of-type {\n",
       "        vertical-align: middle;\n",
       "    }\n",
       "\n",
       "    .dataframe tbody tr th {\n",
       "        vertical-align: top;\n",
       "    }\n",
       "\n",
       "    .dataframe thead th {\n",
       "        text-align: right;\n",
       "    }\n",
       "</style>\n",
       "<table border=\"1\" class=\"dataframe\">\n",
       "  <thead>\n",
       "    <tr style=\"text-align: right;\">\n",
       "      <th></th>\n",
       "      <th>Time from Start to Finish (seconds)</th>\n",
       "      <th>Q1</th>\n",
       "      <th>Q2</th>\n",
       "      <th>Q2_OTHER_TEXT</th>\n",
       "      <th>Q3</th>\n",
       "      <th>Q4</th>\n",
       "      <th>Q5</th>\n",
       "      <th>Q5_OTHER_TEXT</th>\n",
       "      <th>Q6</th>\n",
       "      <th>Q7</th>\n",
       "      <th>...</th>\n",
       "      <th>Q34_Part_5</th>\n",
       "      <th>Q34_Part_6</th>\n",
       "      <th>Q34_Part_7</th>\n",
       "      <th>Q34_Part_8</th>\n",
       "      <th>Q34_Part_9</th>\n",
       "      <th>Q34_Part_10</th>\n",
       "      <th>Q34_Part_11</th>\n",
       "      <th>Q34_Part_12</th>\n",
       "      <th>Q34_OTHER_TEXT</th>\n",
       "      <th>salary_range</th>\n",
       "    </tr>\n",
       "  </thead>\n",
       "  <tbody>\n",
       "    <tr>\n",
       "      <th>1</th>\n",
       "      <td>423</td>\n",
       "      <td>40-44</td>\n",
       "      <td>Male</td>\n",
       "      <td>-1</td>\n",
       "      <td>India</td>\n",
       "      <td>Professional degree</td>\n",
       "      <td>Software Engineer</td>\n",
       "      <td>-1</td>\n",
       "      <td>&gt; 10,000 employees</td>\n",
       "      <td>20+</td>\n",
       "      <td>...</td>\n",
       "      <td>NaN</td>\n",
       "      <td>NaN</td>\n",
       "      <td>NaN</td>\n",
       "      <td>NaN</td>\n",
       "      <td>NaN</td>\n",
       "      <td>NaN</td>\n",
       "      <td>NaN</td>\n",
       "      <td>NaN</td>\n",
       "      <td>-1</td>\n",
       "      <td>[5000, 7499]</td>\n",
       "    </tr>\n",
       "    <tr>\n",
       "      <th>4</th>\n",
       "      <td>392</td>\n",
       "      <td>22-24</td>\n",
       "      <td>Male</td>\n",
       "      <td>-1</td>\n",
       "      <td>India</td>\n",
       "      <td>Bachelor’s degree</td>\n",
       "      <td>Other</td>\n",
       "      <td>1</td>\n",
       "      <td>0-49 employees</td>\n",
       "      <td>0</td>\n",
       "      <td>...</td>\n",
       "      <td>NaN</td>\n",
       "      <td>NaN</td>\n",
       "      <td>NaN</td>\n",
       "      <td>NaN</td>\n",
       "      <td>NaN</td>\n",
       "      <td>NaN</td>\n",
       "      <td>NaN</td>\n",
       "      <td>NaN</td>\n",
       "      <td>-1</td>\n",
       "      <td>[4000, 4999]</td>\n",
       "    </tr>\n",
       "    <tr>\n",
       "      <th>6</th>\n",
       "      <td>529</td>\n",
       "      <td>22-24</td>\n",
       "      <td>Male</td>\n",
       "      <td>-1</td>\n",
       "      <td>India</td>\n",
       "      <td>Master’s degree</td>\n",
       "      <td>Data Scientist</td>\n",
       "      <td>-1</td>\n",
       "      <td>50-249 employees</td>\n",
       "      <td>20+</td>\n",
       "      <td>...</td>\n",
       "      <td>NaN</td>\n",
       "      <td>NaN</td>\n",
       "      <td>NaN</td>\n",
       "      <td>NaN</td>\n",
       "      <td>NaN</td>\n",
       "      <td>NaN</td>\n",
       "      <td>NaN</td>\n",
       "      <td>NaN</td>\n",
       "      <td>-1</td>\n",
       "      <td>[10000, 14999]</td>\n",
       "    </tr>\n",
       "    <tr>\n",
       "      <th>22</th>\n",
       "      <td>691</td>\n",
       "      <td>25-29</td>\n",
       "      <td>Male</td>\n",
       "      <td>-1</td>\n",
       "      <td>India</td>\n",
       "      <td>Master’s degree</td>\n",
       "      <td>Business Analyst</td>\n",
       "      <td>-1</td>\n",
       "      <td>&gt; 10,000 employees</td>\n",
       "      <td>0</td>\n",
       "      <td>...</td>\n",
       "      <td>NaN</td>\n",
       "      <td>NaN</td>\n",
       "      <td>NaN</td>\n",
       "      <td>NaN</td>\n",
       "      <td>NaN</td>\n",
       "      <td>NaN</td>\n",
       "      <td>NaN</td>\n",
       "      <td>NaN</td>\n",
       "      <td>-1</td>\n",
       "      <td>[0, 999]</td>\n",
       "    </tr>\n",
       "    <tr>\n",
       "      <th>26</th>\n",
       "      <td>353</td>\n",
       "      <td>35-39</td>\n",
       "      <td>Male</td>\n",
       "      <td>-1</td>\n",
       "      <td>India</td>\n",
       "      <td>Master’s degree</td>\n",
       "      <td>Software Engineer</td>\n",
       "      <td>-1</td>\n",
       "      <td>0-49 employees</td>\n",
       "      <td>1-2</td>\n",
       "      <td>...</td>\n",
       "      <td>NaN</td>\n",
       "      <td>NaN</td>\n",
       "      <td>NaN</td>\n",
       "      <td>NaN</td>\n",
       "      <td>NaN</td>\n",
       "      <td>NaN</td>\n",
       "      <td>NaN</td>\n",
       "      <td>NaN</td>\n",
       "      <td>-1</td>\n",
       "      <td>[100000, 124999]</td>\n",
       "    </tr>\n",
       "  </tbody>\n",
       "</table>\n",
       "<p>5 rows × 247 columns</p>\n",
       "</div>"
      ],
      "text/plain": [
       "    Time from Start to Finish (seconds)     Q1    Q2  Q2_OTHER_TEXT     Q3  \\\n",
       "1                                   423  40-44  Male             -1  India   \n",
       "4                                   392  22-24  Male             -1  India   \n",
       "6                                   529  22-24  Male             -1  India   \n",
       "22                                  691  25-29  Male             -1  India   \n",
       "26                                  353  35-39  Male             -1  India   \n",
       "\n",
       "                     Q4                 Q5  Q5_OTHER_TEXT                  Q6  \\\n",
       "1   Professional degree  Software Engineer             -1  > 10,000 employees   \n",
       "4     Bachelor’s degree              Other              1      0-49 employees   \n",
       "6       Master’s degree     Data Scientist             -1    50-249 employees   \n",
       "22      Master’s degree   Business Analyst             -1  > 10,000 employees   \n",
       "26      Master’s degree  Software Engineer             -1      0-49 employees   \n",
       "\n",
       "     Q7  ... Q34_Part_5 Q34_Part_6 Q34_Part_7 Q34_Part_8 Q34_Part_9  \\\n",
       "1   20+  ...        NaN        NaN        NaN        NaN        NaN   \n",
       "4     0  ...        NaN        NaN        NaN        NaN        NaN   \n",
       "6   20+  ...        NaN        NaN        NaN        NaN        NaN   \n",
       "22    0  ...        NaN        NaN        NaN        NaN        NaN   \n",
       "26  1-2  ...        NaN        NaN        NaN        NaN        NaN   \n",
       "\n",
       "   Q34_Part_10 Q34_Part_11 Q34_Part_12 Q34_OTHER_TEXT      salary_range  \n",
       "1          NaN         NaN         NaN             -1      [5000, 7499]  \n",
       "4          NaN         NaN         NaN             -1      [4000, 4999]  \n",
       "6          NaN         NaN         NaN             -1    [10000, 14999]  \n",
       "22         NaN         NaN         NaN             -1          [0, 999]  \n",
       "26         NaN         NaN         NaN             -1  [100000, 124999]  \n",
       "\n",
       "[5 rows x 247 columns]"
      ]
     },
     "execution_count": 31,
     "metadata": {},
     "output_type": "execute_result"
    }
   ],
   "source": [
    "#Creating new column as salary range\n",
    "India['salary_range']=India['Q10'].str.split('-')\n",
    "India.head()"
   ]
  },
  {
   "cell_type": "code",
   "execution_count": 32,
   "id": "111cc7bd",
   "metadata": {},
   "outputs": [],
   "source": [
    "# Getting min and max salaries form the range\n",
    "# India['s_min']=India['salary_range'].apply(lambda x: x[0])\n",
    "# India['s_max']=India['salary_range'].apply(lambda x: x[1])\n",
    "# The above code gives error since some of the lists have only one entry"
   ]
  },
  {
   "cell_type": "code",
   "execution_count": 33,
   "id": "bac627eb",
   "metadata": {},
   "outputs": [],
   "source": [
    "#Fiind the length of each element in the 'salary_range' column\n",
    "l=India['salary_range'].apply(len)"
   ]
  },
  {
   "cell_type": "code",
   "execution_count": 34,
   "id": "0b60aefb",
   "metadata": {},
   "outputs": [
    {
     "data": {
      "text/plain": [
       "1"
      ]
     },
     "execution_count": 34,
     "metadata": {},
     "output_type": "execute_result"
    }
   ],
   "source": [
    "l.min() #so there are lists containing only one element which is why we cant find x[0]"
   ]
  },
  {
   "cell_type": "code",
   "execution_count": 35,
   "id": "a1bac6a1",
   "metadata": {},
   "outputs": [],
   "source": [
    "#Modifying the lambda function while taking the lists with single entry into account\n",
    "India['s_min']=India['salary_range'].apply(lambda x: x[0])\n",
    "India['s_max']=India['salary_range'].apply(lambda x: x[1] if len(x)==2 else x[0])"
   ]
  },
  {
   "cell_type": "code",
   "execution_count": 36,
   "id": "81ceab0b",
   "metadata": {},
   "outputs": [
    {
     "data": {
      "text/plain": [
       "1          5000\n",
       "4          4000\n",
       "6         10000\n",
       "22            0\n",
       "26       100000\n",
       "          ...  \n",
       "19400         0\n",
       "19405         0\n",
       "19406      7500\n",
       "19415         0\n",
       "19417      1000\n",
       "Name: s_min, Length: 2477, dtype: object"
      ]
     },
     "execution_count": 36,
     "metadata": {},
     "output_type": "execute_result"
    }
   ],
   "source": [
    "India['s_min'] #minimums of the list"
   ]
  },
  {
   "cell_type": "code",
   "execution_count": 37,
   "id": "90944485",
   "metadata": {},
   "outputs": [
    {
     "data": {
      "text/plain": [
       "1          7499\n",
       "4          4999\n",
       "6         14999\n",
       "22          999\n",
       "26       124999\n",
       "          ...  \n",
       "19400       999\n",
       "19405       999\n",
       "19406      9999\n",
       "19415       999\n",
       "19417      1999\n",
       "Name: s_max, Length: 2477, dtype: object"
      ]
     },
     "execution_count": 37,
     "metadata": {},
     "output_type": "execute_result"
    }
   ],
   "source": [
    "India['s_max'] #maximum of the list"
   ]
  },
  {
   "cell_type": "code",
   "execution_count": 38,
   "id": "579c085f",
   "metadata": {},
   "outputs": [],
   "source": [
    "# replace the '> 500000' with'500000'\n",
    "India['s_min']=India['s_min'].str.replace('>','')"
   ]
  },
  {
   "cell_type": "code",
   "execution_count": 39,
   "id": "b5e63760",
   "metadata": {},
   "outputs": [
    {
     "data": {
      "text/html": [
       "<div>\n",
       "<style scoped>\n",
       "    .dataframe tbody tr th:only-of-type {\n",
       "        vertical-align: middle;\n",
       "    }\n",
       "\n",
       "    .dataframe tbody tr th {\n",
       "        vertical-align: top;\n",
       "    }\n",
       "\n",
       "    .dataframe thead th {\n",
       "        text-align: right;\n",
       "    }\n",
       "</style>\n",
       "<table border=\"1\" class=\"dataframe\">\n",
       "  <thead>\n",
       "    <tr style=\"text-align: right;\">\n",
       "      <th></th>\n",
       "      <th>salary_range</th>\n",
       "      <th>s_min</th>\n",
       "      <th>s_max</th>\n",
       "    </tr>\n",
       "  </thead>\n",
       "  <tbody>\n",
       "    <tr>\n",
       "      <th>19400</th>\n",
       "      <td>[0, 999]</td>\n",
       "      <td>0</td>\n",
       "      <td>999</td>\n",
       "    </tr>\n",
       "    <tr>\n",
       "      <th>19405</th>\n",
       "      <td>[0, 999]</td>\n",
       "      <td>0</td>\n",
       "      <td>999</td>\n",
       "    </tr>\n",
       "    <tr>\n",
       "      <th>19406</th>\n",
       "      <td>[7500, 9999]</td>\n",
       "      <td>7500</td>\n",
       "      <td>9999</td>\n",
       "    </tr>\n",
       "    <tr>\n",
       "      <th>19415</th>\n",
       "      <td>[0, 999]</td>\n",
       "      <td>0</td>\n",
       "      <td>999</td>\n",
       "    </tr>\n",
       "    <tr>\n",
       "      <th>19417</th>\n",
       "      <td>[1000, 1999]</td>\n",
       "      <td>1000</td>\n",
       "      <td>1999</td>\n",
       "    </tr>\n",
       "  </tbody>\n",
       "</table>\n",
       "</div>"
      ],
      "text/plain": [
       "       salary_range s_min s_max\n",
       "19400      [0, 999]     0   999\n",
       "19405      [0, 999]     0   999\n",
       "19406  [7500, 9999]  7500  9999\n",
       "19415      [0, 999]     0   999\n",
       "19417  [1000, 1999]  1000  1999"
      ]
     },
     "execution_count": 39,
     "metadata": {},
     "output_type": "execute_result"
    }
   ],
   "source": [
    "India[['salary_range','s_min','s_max']].tail()"
   ]
  },
  {
   "cell_type": "code",
   "execution_count": 40,
   "id": "8d680437",
   "metadata": {},
   "outputs": [
    {
     "data": {
      "text/html": [
       "<div>\n",
       "<style scoped>\n",
       "    .dataframe tbody tr th:only-of-type {\n",
       "        vertical-align: middle;\n",
       "    }\n",
       "\n",
       "    .dataframe tbody tr th {\n",
       "        vertical-align: top;\n",
       "    }\n",
       "\n",
       "    .dataframe thead th {\n",
       "        text-align: right;\n",
       "    }\n",
       "</style>\n",
       "<table border=\"1\" class=\"dataframe\">\n",
       "  <thead>\n",
       "    <tr style=\"text-align: right;\">\n",
       "      <th></th>\n",
       "      <th>s_min</th>\n",
       "      <th>s_max</th>\n",
       "    </tr>\n",
       "  </thead>\n",
       "  <tbody>\n",
       "    <tr>\n",
       "      <th>count</th>\n",
       "      <td>2477</td>\n",
       "      <td>2477</td>\n",
       "    </tr>\n",
       "    <tr>\n",
       "      <th>unique</th>\n",
       "      <td>25</td>\n",
       "      <td>25</td>\n",
       "    </tr>\n",
       "    <tr>\n",
       "      <th>top</th>\n",
       "      <td>0</td>\n",
       "      <td>999</td>\n",
       "    </tr>\n",
       "    <tr>\n",
       "      <th>freq</th>\n",
       "      <td>481</td>\n",
       "      <td>481</td>\n",
       "    </tr>\n",
       "  </tbody>\n",
       "</table>\n",
       "</div>"
      ],
      "text/plain": [
       "       s_min s_max\n",
       "count   2477  2477\n",
       "unique    25    25\n",
       "top        0   999\n",
       "freq     481   481"
      ]
     },
     "execution_count": 40,
     "metadata": {},
     "output_type": "execute_result"
    }
   ],
   "source": [
    "India[['s_min','s_max']].describe()"
   ]
  },
  {
   "cell_type": "code",
   "execution_count": 41,
   "id": "0d47f8d2",
   "metadata": {},
   "outputs": [
    {
     "data": {
      "text/plain": [
       "<AxesSubplot:>"
      ]
     },
     "execution_count": 41,
     "metadata": {},
     "output_type": "execute_result"
    },
    {
     "data": {
      "image/png": "[encoded data removed]",
      "text/plain": [
       "<Figure size 432x288 with 1 Axes>"
      ]
     },
     "metadata": {
      "needs_background": "light"
     },
     "output_type": "display_data"
    }
   ],
   "source": [
    "India['s_min'].astype(int).hist()"
   ]
  },
  {
   "cell_type": "code",
   "execution_count": 42,
   "id": "f1709009",
   "metadata": {},
   "outputs": [
    {
     "data": {
      "text/plain": [
       "<AxesSubplot:>"
      ]
     },
     "execution_count": 42,
     "metadata": {},
     "output_type": "execute_result"
    },
    {
     "data": {
      "image/png": "[encoded data removed]",
      "text/plain": [
       "<Figure size 432x288 with 1 Axes>"
      ]
     },
     "metadata": {
      "needs_background": "light"
     },
     "output_type": "display_data"
    }
   ],
   "source": [
    "India['s_max']=India['s_max'].str.replace('>','')\n",
    "India['s_max'].astype(int).hist()"
   ]
  },
  {
   "cell_type": "code",
   "execution_count": 43,
   "id": "fe72375f",
   "metadata": {},
   "outputs": [
    {
     "data": {
      "text/plain": [
       "(0.0, 100000.0)"
      ]
     },
     "execution_count": 43,
     "metadata": {},
     "output_type": "execute_result"
    },
    {
     "data": {
      "image/png": "[encoded data removed]",
      "text/plain": [
       "<Figure size 432x288 with 1 Axes>"
      ]
     },
     "metadata": {
      "needs_background": "light"
     },
     "output_type": "display_data"
    }
   ],
   "source": [
    "ax=India['s_min'].astype(int).hist(bins=50)\n",
    "ax.set_xlim(0,100000)"
   ]
  },
  {
   "cell_type": "code",
   "execution_count": 44,
   "id": "602e10bb",
   "metadata": {},
   "outputs": [
    {
     "data": {
      "text/plain": [
       "'Select the title most similar to your current role (or most recent title if retired): - Selected Choice'"
      ]
     },
     "execution_count": 44,
     "metadata": {},
     "output_type": "execute_result"
    }
   ],
   "source": [
    "question_codes['Q5']"
   ]
  },
  {
   "cell_type": "code",
   "execution_count": 45,
   "id": "63c4a63b",
   "metadata": {},
   "outputs": [
    {
     "data": {
      "text/plain": [
       "1     Software Engineer\n",
       "4                 Other\n",
       "6        Data Scientist\n",
       "22     Business Analyst\n",
       "26    Software Engineer\n",
       "Name: Q5, dtype: object"
      ]
     },
     "execution_count": 45,
     "metadata": {},
     "output_type": "execute_result"
    }
   ],
   "source": [
    "India['Q5'].head()"
   ]
  },
  {
   "cell_type": "code",
   "execution_count": 46,
   "id": "0a14d59e",
   "metadata": {},
   "outputs": [
    {
     "data": {
      "text/plain": [
       "Data Scientist             646\n",
       "Software Engineer          630\n",
       "Data Analyst               306\n",
       "Other                      299\n",
       "Business Analyst           174\n",
       "Product/Project Manager    134\n",
       "Research Scientist         127\n",
       "Data Engineer              102\n",
       "Statistician                32\n",
       "DBA/Database Engineer       27\n",
       "Name: Q5, dtype: int64"
      ]
     },
     "execution_count": 46,
     "metadata": {},
     "output_type": "execute_result"
    }
   ],
   "source": [
    "India['Q5'].value_counts()"
   ]
  },
  {
   "cell_type": "code",
   "execution_count": 47,
   "id": "84ded95d",
   "metadata": {},
   "outputs": [
    {
     "data": {
      "text/plain": [
       "<AxesSubplot:>"
      ]
     },
     "execution_count": 47,
     "metadata": {},
     "output_type": "execute_result"
    },
    {
     "data": {
      "image/png": "[encoded data removed]",
      "text/plain": [
       "<Figure size 432x288 with 1 Axes>"
      ]
     },
     "metadata": {
      "needs_background": "light"
     },
     "output_type": "display_data"
    }
   ],
   "source": [
    "#Plotting barchart of the job titles and number of people\n",
    "India['Q5'].value_counts().plot(kind='bar')"
   ]
  },
  {
   "cell_type": "code",
   "execution_count": 48,
   "id": "238505cf",
   "metadata": {},
   "outputs": [
    {
     "data": {
      "text/plain": [
       "<AxesSubplot:>"
      ]
     },
     "execution_count": 48,
     "metadata": {},
     "output_type": "execute_result"
    },
    {
     "data": {
      "image/png": "[encoded data removed]",
      "text/plain": [
       "<Figure size 432x288 with 1 Axes>"
      ]
     },
     "metadata": {
      "needs_background": "light"
     },
     "output_type": "display_data"
    }
   ],
   "source": [
    "#Plotting horizontal bar chart\n",
    "India['Q5'].value_counts().plot(kind='barh')\n",
    "#kaggle being the data science platform it is obvious that number of data scientists are maximum in this data"
   ]
  },
  {
   "cell_type": "markdown",
   "id": "cc49911b",
   "metadata": {},
   "source": [
    "#### Which job title has the highest average salary?"
   ]
  },
  {
   "cell_type": "code",
   "execution_count": 49,
   "id": "0aeea870",
   "metadata": {},
   "outputs": [
    {
     "data": {
      "text/html": [
       "<div>\n",
       "<style scoped>\n",
       "    .dataframe tbody tr th:only-of-type {\n",
       "        vertical-align: middle;\n",
       "    }\n",
       "\n",
       "    .dataframe tbody tr th {\n",
       "        vertical-align: top;\n",
       "    }\n",
       "\n",
       "    .dataframe thead th {\n",
       "        text-align: right;\n",
       "    }\n",
       "</style>\n",
       "<table border=\"1\" class=\"dataframe\">\n",
       "  <thead>\n",
       "    <tr style=\"text-align: right;\">\n",
       "      <th></th>\n",
       "      <th>s_min</th>\n",
       "      <th>Q5</th>\n",
       "    </tr>\n",
       "  </thead>\n",
       "  <tbody>\n",
       "    <tr>\n",
       "      <th>1</th>\n",
       "      <td>5000</td>\n",
       "      <td>Software Engineer</td>\n",
       "    </tr>\n",
       "    <tr>\n",
       "      <th>4</th>\n",
       "      <td>4000</td>\n",
       "      <td>Other</td>\n",
       "    </tr>\n",
       "    <tr>\n",
       "      <th>6</th>\n",
       "      <td>10000</td>\n",
       "      <td>Data Scientist</td>\n",
       "    </tr>\n",
       "    <tr>\n",
       "      <th>22</th>\n",
       "      <td>0</td>\n",
       "      <td>Business Analyst</td>\n",
       "    </tr>\n",
       "    <tr>\n",
       "      <th>26</th>\n",
       "      <td>100000</td>\n",
       "      <td>Software Engineer</td>\n",
       "    </tr>\n",
       "  </tbody>\n",
       "</table>\n",
       "</div>"
      ],
      "text/plain": [
       "     s_min                 Q5\n",
       "1     5000  Software Engineer\n",
       "4     4000              Other\n",
       "6    10000     Data Scientist\n",
       "22       0   Business Analyst\n",
       "26  100000  Software Engineer"
      ]
     },
     "execution_count": 49,
     "metadata": {},
     "output_type": "execute_result"
    }
   ],
   "source": [
    "India[['s_min','Q5']].head()"
   ]
  },
  {
   "cell_type": "code",
   "execution_count": 50,
   "id": "f8465f42",
   "metadata": {},
   "outputs": [
    {
     "data": {
      "text/plain": [
       "Data Scientist             646\n",
       "Software Engineer          630\n",
       "Data Analyst               306\n",
       "Other                      299\n",
       "Business Analyst           174\n",
       "Product/Project Manager    134\n",
       "Research Scientist         127\n",
       "Data Engineer              102\n",
       "Statistician                32\n",
       "DBA/Database Engineer       27\n",
       "Name: Q5, dtype: int64"
      ]
     },
     "execution_count": 50,
     "metadata": {},
     "output_type": "execute_result"
    }
   ],
   "source": [
    "job_title_counts=India['Q5'].value_counts()\n",
    "job_title_counts"
   ]
  },
  {
   "cell_type": "code",
   "execution_count": 51,
   "id": "65b0a0fb",
   "metadata": {},
   "outputs": [
    {
     "name": "stdout",
     "output_type": "stream",
     "text": [
      "{'Data Scientist': 23002.32198142415, 'Software Engineer': 13861.904761904761, 'Data Analyst': 13375.816993464052, 'Other': 15272.57525083612, 'Business Analyst': 18925.287356321838, 'Product/Project Manager': 34768.65671641791, 'Research Scientist': 20362.20472440945, 'Data Engineer': 14715.686274509804, 'Statistician': 18125.0, 'DBA/Database Engineer': 15740.74074074074}\n"
     ]
    }
   ],
   "source": [
    "SALARIES={}\n",
    "for job_title, counts in job_title_counts.iteritems():\n",
    "    small_df=India[India['Q5']==job_title]\n",
    "    salary=small_df['s_min'].astype(int)\n",
    "    avg_salary_for_title=salary.mean()\n",
    "    SALARIES[job_title]=avg_salary_for_title\n",
    "print(SALARIES)"
   ]
  },
  {
   "cell_type": "code",
   "execution_count": 52,
   "id": "12811a26",
   "metadata": {},
   "outputs": [
    {
     "data": {
      "text/plain": [
       "44         2000\n",
       "265      100000\n",
       "625        1000\n",
       "3932       2000\n",
       "4491      20000\n",
       "5373      20000\n",
       "5823       5000\n",
       "6169      30000\n",
       "6723       5000\n",
       "7394          0\n",
       "9154       5000\n",
       "9281      60000\n",
       "9671      20000\n",
       "9786       2000\n",
       "10606         0\n",
       "11412      5000\n",
       "11450      4000\n",
       "12095     15000\n",
       "13399      3000\n",
       "13752     10000\n",
       "15228      5000\n",
       "16036      3000\n",
       "16430      3000\n",
       "16654     20000\n",
       "17150     50000\n",
       "17247     30000\n",
       "17586      5000\n",
       "Name: s_min, dtype: int32"
      ]
     },
     "execution_count": 52,
     "metadata": {},
     "output_type": "execute_result"
    }
   ],
   "source": [
    "salary"
   ]
  },
  {
   "cell_type": "code",
   "execution_count": 53,
   "id": "61b4ddd7",
   "metadata": {},
   "outputs": [
    {
     "data": {
      "text/plain": [
       "<AxesSubplot:>"
      ]
     },
     "execution_count": 53,
     "metadata": {},
     "output_type": "execute_result"
    },
    {
     "data": {
      "image/png": "[encoded data removed]",
      "text/plain": [
       "<Figure size 432x288 with 1 Axes>"
      ]
     },
     "metadata": {
      "needs_background": "light"
     },
     "output_type": "display_data"
    }
   ],
   "source": [
    "pd.Series(SALARIES).sort_values(ascending=False).plot(kind='barh')"
   ]
  },
  {
   "cell_type": "markdown",
   "id": "d199a46c",
   "metadata": {},
   "source": [
    "#### Another way of getting average salaries of different job titles in India."
   ]
  },
  {
   "cell_type": "code",
   "execution_count": 54,
   "id": "d01c5a98",
   "metadata": {},
   "outputs": [
    {
     "data": {
      "text/plain": [
       "Q5\n",
       "Business Analyst           18925.287356\n",
       "DBA/Database Engineer      15740.740741\n",
       "Data Analyst               13375.816993\n",
       "Data Engineer              14715.686275\n",
       "Data Scientist             23002.321981\n",
       "Other                      15272.575251\n",
       "Product/Project Manager    34768.656716\n",
       "Research Scientist         20362.204724\n",
       "Software Engineer          13861.904762\n",
       "Statistician               18125.000000\n",
       "Name: s_min, dtype: float64"
      ]
     },
     "execution_count": 54,
     "metadata": {},
     "output_type": "execute_result"
    }
   ],
   "source": [
    "India['s_min']=India['s_min'].astype(int)\n",
    "Salaries=India.groupby('Q5')['s_min'].mean()\n",
    "Salaries"
   ]
  },
  {
   "cell_type": "code",
   "execution_count": 55,
   "id": "0c9c7636",
   "metadata": {},
   "outputs": [
    {
     "data": {
      "text/plain": [
       "<AxesSubplot:ylabel='Q5'>"
      ]
     },
     "execution_count": 55,
     "metadata": {},
     "output_type": "execute_result"
    },
    {
     "data": {
      "image/png": "[encoded data removed]",
      "text/plain": [
       "<Figure size 432x288 with 1 Axes>"
      ]
     },
     "metadata": {
      "needs_background": "light"
     },
     "output_type": "display_data"
    }
   ],
   "source": [
    "Salaries.sort_values(ascending=False).plot(kind='barh')"
   ]
  },
  {
   "cell_type": "markdown",
   "id": "019f03a3",
   "metadata": {},
   "source": [
    "**Conclusion:** Among all the job titles Product/Project Manager has the highest average salary."
   ]
  },
  {
   "cell_type": "markdown",
   "id": "f967b9b3",
   "metadata": {},
   "source": [
    "The End"
   ]
  }
 ],
 "metadata": {
  "kernelspec": {
   "display_name": "Python 3",
   "language": "python",
   "name": "python3"
  },
  "language_info": {
   "codemirror_mode": {
    "name": "ipython",
    "version": 3
   },
   "file_extension": ".py",
   "mimetype": "text/x-python",
   "name": "python",
   "nbconvert_exporter": "python",
   "pygments_lexer": "ipython3",
   "version": "3.8.8"
  }
 },
 "nbformat": 4,
 "nbformat_minor": 5
}
