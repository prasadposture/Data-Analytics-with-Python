{
 "cells": [
  {
   "cell_type": "markdown",
   "id": "e2beffe5",
   "metadata": {},
   "source": [
    "# Compound Data Types"
   ]
  },
  {
   "cell_type": "markdown",
   "id": "a81b409e",
   "metadata": {},
   "source": [
    "## 1.1 List\n",
    "* A list is an object that contains multiple data items.\n",
    "* Lists are mutable or dynamic, which means that their contents can be changed during the program's execution\n",
    "* Lists are dynamics structures, meaning that items may be added to them or removed from them.\n",
    "* Lists are heterogenous"
   ]
  },
  {
   "cell_type": "code",
   "execution_count": 1,
   "id": "6f04db24",
   "metadata": {},
   "outputs": [
    {
     "data": {
      "text/plain": [
       "['apples', 'oranges', 'cherries']"
      ]
     },
     "execution_count": 1,
     "metadata": {},
     "output_type": "execute_result"
    }
   ],
   "source": [
    "['apples','oranges','cherries']"
   ]
  },
  {
   "cell_type": "code",
   "execution_count": 2,
   "id": "f65ee1d7",
   "metadata": {},
   "outputs": [
    {
     "data": {
      "text/plain": [
       "['V475', 'F987', 'Q143', 'R688']"
      ]
     },
     "execution_count": 2,
     "metadata": {},
     "output_type": "execute_result"
    }
   ],
   "source": [
    "prod_nums=['V475','F987','Q143','R688']\n",
    "prod_nums"
   ]
  },
  {
   "cell_type": "code",
   "execution_count": 3,
   "id": "524eaca8",
   "metadata": {},
   "outputs": [
    {
     "data": {
      "text/plain": [
       "[250, 180, 360, 340]"
      ]
     },
     "execution_count": 3,
     "metadata": {},
     "output_type": "execute_result"
    }
   ],
   "source": [
    "sales_by_month=[250,180,360,340]\n",
    "sales_by_month"
   ]
  },
  {
   "cell_type": "code",
   "execution_count": 4,
   "id": "2bb0225e",
   "metadata": {},
   "outputs": [
    {
     "data": {
      "text/plain": [
       "[[250, 180, 360], [340, 450, 250], [180, 230, 320], [550, 360, 190]]"
      ]
     },
     "execution_count": 4,
     "metadata": {},
     "output_type": "execute_result"
    }
   ],
   "source": [
    "#nested lists\n",
    "sales_by_season=[[250,180,360],[340,450,250,],[180,230,320],[550,360,190]]\n",
    "sales_by_season"
   ]
  },
  {
   "cell_type": "markdown",
   "id": "4061c0e2",
   "metadata": {},
   "source": [
    "Exercise: Create a list to store your name, age and gender."
   ]
  },
  {
   "cell_type": "code",
   "execution_count": 5,
   "id": "77f46bc8",
   "metadata": {},
   "outputs": [
    {
     "data": {
      "text/plain": [
       "['Prasad', 21, 'Male']"
      ]
     },
     "execution_count": 5,
     "metadata": {},
     "output_type": "execute_result"
    }
   ],
   "source": [
    "my_details=['Prasad',21,'Male']\n",
    "my_details"
   ]
  },
  {
   "cell_type": "markdown",
   "id": "3d4675a1",
   "metadata": {},
   "source": [
    "### 1.1.1 Common Operations on Lists"
   ]
  },
  {
   "cell_type": "code",
   "execution_count": 6,
   "id": "20c41515",
   "metadata": {},
   "outputs": [
    {
     "data": {
      "text/plain": [
       "4"
      ]
     },
     "execution_count": 6,
     "metadata": {},
     "output_type": "execute_result"
    }
   ],
   "source": [
    "len(sales_by_month)"
   ]
  },
  {
   "cell_type": "code",
   "execution_count": 7,
   "id": "6df562de",
   "metadata": {},
   "outputs": [
    {
     "data": {
      "text/plain": [
       "[250, 230, 360, 340]"
      ]
     },
     "execution_count": 7,
     "metadata": {},
     "output_type": "execute_result"
    }
   ],
   "source": [
    "sales_by_month[1]=230 #changing the element at the index 1\n",
    "sales_by_month"
   ]
  },
  {
   "cell_type": "markdown",
   "id": "1b3cd0b8",
   "metadata": {},
   "source": [
    "List Slicing / Indexing"
   ]
  },
  {
   "cell_type": "code",
   "execution_count": 8,
   "id": "a5479593",
   "metadata": {},
   "outputs": [
    {
     "data": {
      "text/plain": [
       "[230, 360]"
      ]
     },
     "execution_count": 8,
     "metadata": {},
     "output_type": "execute_result"
    }
   ],
   "source": [
    "sales_by_month[1:3] #element from the index 1 to 2"
   ]
  },
  {
   "cell_type": "markdown",
   "id": "ac350856",
   "metadata": {},
   "source": [
    "Creating Lists"
   ]
  },
  {
   "cell_type": "code",
   "execution_count": 9,
   "id": "86541432",
   "metadata": {},
   "outputs": [
    {
     "data": {
      "text/plain": [
       "[2, 3, 4, 5, 6, 7, 8, 9, 10, 11, 12, 13, 14, 15, 16, 17, 18, 19]"
      ]
     },
     "execution_count": 9,
     "metadata": {},
     "output_type": "execute_result"
    }
   ],
   "source": [
    "#use list() and range() to create lists\n",
    "a=list(range(2,20)) #from 2 to 20\n",
    "a"
   ]
  },
  {
   "cell_type": "code",
   "execution_count": 10,
   "id": "23739d55",
   "metadata": {},
   "outputs": [
    {
     "data": {
      "text/plain": [
       "[2, 4, 6, 8, 10, 12, 14, 16, 18]"
      ]
     },
     "execution_count": 10,
     "metadata": {},
     "output_type": "execute_result"
    }
   ],
   "source": [
    "a=list(range(2,20,2)) #from 2 to 20 with steps=2\n",
    "a"
   ]
  },
  {
   "cell_type": "code",
   "execution_count": 11,
   "id": "c2954b55",
   "metadata": {},
   "outputs": [
    {
     "data": {
      "text/plain": [
       "[6, 8, 10, 12]"
      ]
     },
     "execution_count": 11,
     "metadata": {},
     "output_type": "execute_result"
    }
   ],
   "source": [
    "a[2:6] #stopping position is excluded"
   ]
  },
  {
   "cell_type": "code",
   "execution_count": 12,
   "id": "5521a1b9",
   "metadata": {},
   "outputs": [
    {
     "data": {
      "text/plain": [
       "[6, 10]"
      ]
     },
     "execution_count": 12,
     "metadata": {},
     "output_type": "execute_result"
    }
   ],
   "source": [
    "a[2:6:2] #skippinf every second element"
   ]
  },
  {
   "cell_type": "markdown",
   "id": "4145a683",
   "metadata": {},
   "source": [
    "Excercise: Create a list of the first twenty positive integers, slice it to find all even numbers."
   ]
  },
  {
   "cell_type": "code",
   "execution_count": 13,
   "id": "19c8b99d",
   "metadata": {},
   "outputs": [
    {
     "data": {
      "text/plain": [
       "[2, 4, 6, 8, 10, 12, 14, 16, 18, 20]"
      ]
     },
     "execution_count": 13,
     "metadata": {},
     "output_type": "execute_result"
    }
   ],
   "source": [
    "l=list(range(1,21))\n",
    "l[1:21:2]"
   ]
  },
  {
   "cell_type": "markdown",
   "id": "3755e45e",
   "metadata": {},
   "source": [
    "### 1.1.2 Other List Operations"
   ]
  },
  {
   "cell_type": "markdown",
   "id": "2e99da5f",
   "metadata": {},
   "source": [
    "Joing Lists"
   ]
  },
  {
   "cell_type": "code",
   "execution_count": 14,
   "id": "11a8bde0",
   "metadata": {},
   "outputs": [
    {
     "data": {
      "text/plain": [
       "[250, 180, 360, 340, 99, 100, 101, 102]"
      ]
     },
     "execution_count": 14,
     "metadata": {},
     "output_type": "execute_result"
    }
   ],
   "source": [
    "#Joing two lists\n",
    "sales_by_month=[250,180,360,340]\n",
    "sales_new=[99,100,101,102]\n",
    "sales_by_month+=sales_new\n",
    "sales_by_month"
   ]
  },
  {
   "cell_type": "code",
   "execution_count": 15,
   "id": "da149ec7",
   "metadata": {},
   "outputs": [
    {
     "name": "stdout",
     "output_type": "stream",
     "text": [
      "Enter a product number: X123\n",
      "Product is not found\n"
     ]
    }
   ],
   "source": [
    "#use function to find items in a list\n",
    "prod_nums=['V475','F987','Q143','R688']\n",
    "search=input('Enter a product number: ')\n",
    "if search in prod_nums:\n",
    "    print(\"We found the product\")\n",
    "else:\n",
    "    print(\"Product is not found\")"
   ]
  },
  {
   "cell_type": "code",
   "execution_count": 16,
   "id": "a50d3410",
   "metadata": {},
   "outputs": [
    {
     "data": {
      "text/plain": [
       "False"
      ]
     },
     "execution_count": 16,
     "metadata": {},
     "output_type": "execute_result"
    }
   ],
   "source": [
    "'X123' in prod_nums"
   ]
  },
  {
   "cell_type": "markdown",
   "id": "101194bb",
   "metadata": {},
   "source": [
    "Iterating on a list"
   ]
  },
  {
   "cell_type": "code",
   "execution_count": 17,
   "id": "f36d51e8",
   "metadata": {},
   "outputs": [
    {
     "name": "stdout",
     "output_type": "stream",
     "text": [
      "Month \t Sales\n",
      "1 \t 250\n",
      "2 \t 180\n",
      "3 \t 360\n",
      "4 \t 340\n",
      "5 \t 99\n",
      "6 \t 100\n",
      "7 \t 101\n",
      "8 \t 102\n"
     ]
    }
   ],
   "source": [
    "#for loop on a list\n",
    "print('Month \\t','Sales')\n",
    "i=1\n",
    "for x in sales_by_month:\n",
    "    print(i,'\\t', x)\n",
    "    i=i+1"
   ]
  },
  {
   "cell_type": "markdown",
   "id": "b8e56c3f",
   "metadata": {},
   "source": [
    "### 1.1.3 List Methods"
   ]
  },
  {
   "cell_type": "markdown",
   "id": "6fba8e2e",
   "metadata": {},
   "source": [
    "A method in python is similiar to a function, except it is associated with an object. Unlike a function, method are called on an object by `Object.method()`  \n",
    "1. Use tab key followed by `object.` to list all methods associated with the object.\n",
    "2. Use `Object.method?` method to show the key information about the method"
   ]
  },
  {
   "cell_type": "markdown",
   "id": "03bed48c",
   "metadata": {},
   "source": [
    "Use methods for lists"
   ]
  },
  {
   "cell_type": "code",
   "execution_count": 18,
   "id": "ebdfa66c",
   "metadata": {},
   "outputs": [
    {
     "data": {
      "text/plain": [
       "[1, 2, 3, 4, 5]"
      ]
     },
     "execution_count": 18,
     "metadata": {},
     "output_type": "execute_result"
    }
   ],
   "source": [
    "A=list(range(1,6))\n",
    "A"
   ]
  },
  {
   "cell_type": "code",
   "execution_count": 19,
   "id": "696d67f9",
   "metadata": {},
   "outputs": [
    {
     "data": {
      "text/plain": [
       "[1, 2, 3, 4, 5, 30]"
      ]
     },
     "execution_count": 19,
     "metadata": {},
     "output_type": "execute_result"
    }
   ],
   "source": [
    "#.append() method to add elements to the end\n",
    "A.append(30)\n",
    "A"
   ]
  },
  {
   "cell_type": "code",
   "execution_count": 20,
   "id": "73ccdf7a",
   "metadata": {},
   "outputs": [
    {
     "data": {
      "text/plain": [
       "[1, 2, 3, 4, 5]"
      ]
     },
     "execution_count": 20,
     "metadata": {},
     "output_type": "execute_result"
    }
   ],
   "source": [
    "#.pop() removes the last element\n",
    "A.pop()\n",
    "A"
   ]
  },
  {
   "cell_type": "code",
   "execution_count": 21,
   "id": "1d4ba96a",
   "metadata": {},
   "outputs": [
    {
     "data": {
      "text/plain": [
       "[1, 2, 3, 5]"
      ]
     },
     "execution_count": 21,
     "metadata": {},
     "output_type": "execute_result"
    }
   ],
   "source": [
    "A.pop(3)# removes element at index 3\n",
    "A"
   ]
  },
  {
   "cell_type": "code",
   "execution_count": 22,
   "id": "0d09a7f1",
   "metadata": {},
   "outputs": [
    {
     "data": {
      "text/plain": [
       "[1, 3, 5]"
      ]
     },
     "execution_count": 22,
     "metadata": {},
     "output_type": "execute_result"
    }
   ],
   "source": [
    "A.remove(2) #find the element 2 and remove it from the list\n",
    "A"
   ]
  },
  {
   "cell_type": "code",
   "execution_count": 23,
   "id": "7f53a490",
   "metadata": {},
   "outputs": [
    {
     "data": {
      "text/plain": [
       "[1, 3, 5, 20]"
      ]
     },
     "execution_count": 23,
     "metadata": {},
     "output_type": "execute_result"
    }
   ],
   "source": [
    "# .insert() adds an element to a specific position\n",
    "A.insert(3,20)\n",
    "A"
   ]
  },
  {
   "cell_type": "code",
   "execution_count": 24,
   "id": "cc1243e1",
   "metadata": {},
   "outputs": [
    {
     "data": {
      "text/plain": [
       "[1, 3, 5, 20]"
      ]
     },
     "execution_count": 24,
     "metadata": {},
     "output_type": "execute_result"
    }
   ],
   "source": [
    "# .sort() to sort the element in a list\n",
    "A.sort()\n",
    "A"
   ]
  },
  {
   "cell_type": "markdown",
   "id": "0ffda298",
   "metadata": {},
   "source": [
    "Copying Lists"
   ]
  },
  {
   "cell_type": "code",
   "execution_count": 25,
   "id": "0b33d7a2",
   "metadata": {},
   "outputs": [
    {
     "name": "stdout",
     "output_type": "stream",
     "text": [
      "[1, 2, 3, 4, 20]\n",
      "[1, 2, 3, 4, 5]\n"
     ]
    }
   ],
   "source": [
    "A=list(range(1,6))\n",
    "B=A\n",
    "C=A.copy()\n",
    "A[-1]=20 #changes the last element in A to 20\n",
    "print(B) #channges\n",
    "print(C) #remains the same"
   ]
  },
  {
   "cell_type": "markdown",
   "id": "5286a55d",
   "metadata": {},
   "source": [
    "Exercise:  \n",
    "    1. Create a list the first twenty postitive integers.  \n",
    "    2. Create another list containing their squares.  "
   ]
  },
  {
   "cell_type": "code",
   "execution_count": 26,
   "id": "f69c6e39",
   "metadata": {},
   "outputs": [
    {
     "data": {
      "text/plain": [
       "[1,\n",
       " 4,\n",
       " 9,\n",
       " 16,\n",
       " 25,\n",
       " 36,\n",
       " 49,\n",
       " 64,\n",
       " 81,\n",
       " 100,\n",
       " 121,\n",
       " 144,\n",
       " 169,\n",
       " 196,\n",
       " 225,\n",
       " 256,\n",
       " 289,\n",
       " 324,\n",
       " 361,\n",
       " 400]"
      ]
     },
     "execution_count": 26,
     "metadata": {},
     "output_type": "execute_result"
    }
   ],
   "source": [
    "#1\n",
    "N=list(range(1,21))\n",
    "SQUARES=[]\n",
    "for number in N:\n",
    "    square=number*number\n",
    "    SQUARES.append(square)\n",
    "SQUARES"
   ]
  },
  {
   "cell_type": "markdown",
   "id": "561f6c27",
   "metadata": {},
   "source": [
    "Exercise:    \n",
    "    1. Median is the middle value in sorted list of numbers.  \n",
    "    2. Hint: use `.sort()` and indexing.  "
   ]
  },
  {
   "cell_type": "code",
   "execution_count": 27,
   "id": "113fb779",
   "metadata": {},
   "outputs": [
    {
     "name": "stdout",
     "output_type": "stream",
     "text": [
      "6.5\n"
     ]
    }
   ],
   "source": [
    "L=[1,4,6,7,43,8,3,9]\n",
    "L.sort()\n",
    "if len(L)%2==0:\n",
    "    M=(L[int(len(L)/2)-1]+L[int((len(L)/2))])/2\n",
    "    print(M)\n",
    "else:\n",
    "    M=L[int(len(L)/2)]\n",
    "    print(float(M))"
   ]
  },
  {
   "cell_type": "code",
   "execution_count": 28,
   "id": "84aba5db",
   "metadata": {},
   "outputs": [
    {
     "data": {
      "text/plain": [
       "6.5"
      ]
     },
     "execution_count": 28,
     "metadata": {},
     "output_type": "execute_result"
    }
   ],
   "source": [
    "#checking the answer\n",
    "import numpy as np\n",
    "np.median(L)"
   ]
  },
  {
   "cell_type": "markdown",
   "id": "f6e814c2",
   "metadata": {},
   "source": [
    "## 1.2 Tuples\n",
    "A tuple a type of sequences that resembles a list, except that, unlike a list, a tuple is immutable (can't be changed). A tuple literal in Python is enclosed in paranthesis."
   ]
  },
  {
   "cell_type": "code",
   "execution_count": 29,
   "id": "2c95dcdc",
   "metadata": {},
   "outputs": [
    {
     "data": {
      "text/plain": [
       "('Mumbai', 'Delhi', 'Kolkata', 'Chennai')"
      ]
     },
     "execution_count": 29,
     "metadata": {},
     "output_type": "execute_result"
    }
   ],
   "source": [
    "werehouse=('Mumbai','Delhi','Kolkata','Chennai')\n",
    "werehouse"
   ]
  },
  {
   "cell_type": "code",
   "execution_count": 30,
   "id": "0644893a",
   "metadata": {},
   "outputs": [
    {
     "name": "stdout",
     "output_type": "stream",
     "text": [
      "Mumbai\n",
      "Delhi\n",
      "Kolkata\n",
      "Chennai\n"
     ]
    }
   ],
   "source": [
    "for w in werehouse:\n",
    "    print(w)"
   ]
  },
  {
   "cell_type": "markdown",
   "id": "7b85776f",
   "metadata": {},
   "source": [
    "# 1.3 Dictionary\n",
    "Dictionaries are Python's implementation of:\n",
    "1. an associative array\n",
    "2. a hash table\n",
    "3. a lookup\n",
    "A dictionary consists of a collection of key-value pairs (enters).  \n",
    "A dictionary Python is comma seperated list of key-value pairs in curly braces{}. A colon (:) seperate each key from its associated value:  \n",
    "d{key:value,.......,key:value}"
   ]
  },
  {
   "cell_type": "code",
   "execution_count": 31,
   "id": "0e1e65c0",
   "metadata": {},
   "outputs": [
    {
     "data": {
      "text/plain": [
       "{'Savansh': '476-3321', 'Nathaniel': '351-7743'}"
      ]
     },
     "execution_count": 31,
     "metadata": {},
     "output_type": "execute_result"
    }
   ],
   "source": [
    "tel={\"Savansh\":\"476-3321\",\"Nathaniel\":\"351-7743\"}\n",
    "tel"
   ]
  },
  {
   "cell_type": "code",
   "execution_count": 32,
   "id": "c2452441",
   "metadata": {},
   "outputs": [
    {
     "data": {
      "text/plain": [
       "{'name': 'Molly', 'Age': 23}"
      ]
     },
     "execution_count": 32,
     "metadata": {},
     "output_type": "execute_result"
    }
   ],
   "source": [
    "info={\"name\":\"Molly\",\"Age\":23}\n",
    "info"
   ]
  },
  {
   "cell_type": "markdown",
   "id": "56689e24",
   "metadata": {},
   "source": [
    "### 1.3.1 Common Dictionary Operations"
   ]
  },
  {
   "cell_type": "code",
   "execution_count": 33,
   "id": "c584fcc7",
   "metadata": {},
   "outputs": [
    {
     "data": {
      "text/plain": [
       "'Molly'"
      ]
     },
     "execution_count": 33,
     "metadata": {},
     "output_type": "execute_result"
    }
   ],
   "source": [
    "# Acessing a value by a key\n",
    "info['name']"
   ]
  },
  {
   "cell_type": "code",
   "execution_count": 34,
   "id": "85ecfed4",
   "metadata": {},
   "outputs": [
    {
     "data": {
      "text/plain": [
       "{'name': 'Sally', 'Age': 23}"
      ]
     },
     "execution_count": 34,
     "metadata": {},
     "output_type": "execute_result"
    }
   ],
   "source": [
    "# Updating an existing key, value pair\n",
    "info['name']='Sally'\n",
    "info"
   ]
  },
  {
   "cell_type": "code",
   "execution_count": 35,
   "id": "e18c335c",
   "metadata": {},
   "outputs": [
    {
     "data": {
      "text/plain": [
       "{'name': 'Sally', 'Age': 23, 'job': 'Analyst'}"
      ]
     },
     "execution_count": 35,
     "metadata": {},
     "output_type": "execute_result"
    }
   ],
   "source": [
    "# Adding a new key, value pair\n",
    "info['job']='Analyst'\n",
    "info"
   ]
  },
  {
   "cell_type": "code",
   "execution_count": 36,
   "id": "e5a8394a",
   "metadata": {},
   "outputs": [
    {
     "data": {
      "text/plain": [
       "{'Age': 23, 'job': 'Analyst'}"
      ]
     },
     "execution_count": 36,
     "metadata": {},
     "output_type": "execute_result"
    }
   ],
   "source": [
    "# Removing a key, pair\n",
    "info.pop('name')\n",
    "info"
   ]
  },
  {
   "cell_type": "code",
   "execution_count": 37,
   "id": "4defe684",
   "metadata": {},
   "outputs": [],
   "source": [
    "# One can use del as well\n",
    "del info['Age']"
   ]
  },
  {
   "cell_type": "code",
   "execution_count": 38,
   "id": "ba0d7ab1",
   "metadata": {},
   "outputs": [
    {
     "data": {
      "text/plain": [
       "{'job': 'Analyst'}"
      ]
     },
     "execution_count": 38,
     "metadata": {},
     "output_type": "execute_result"
    }
   ],
   "source": [
    "info"
   ]
  },
  {
   "cell_type": "code",
   "execution_count": 39,
   "id": "8c8ab7d1",
   "metadata": {},
   "outputs": [
    {
     "name": "stdout",
     "output_type": "stream",
     "text": [
      "name : Sally\n",
      "Age : 23\n",
      "job : Analyst\n"
     ]
    }
   ],
   "source": [
    "#iterate through a dictionary\n",
    "info={'name': 'Sally', 'Age': 23, 'job': 'Analyst'}\n",
    "for key in info:\n",
    "    print(key,':',info[key])"
   ]
  },
  {
   "cell_type": "markdown",
   "id": "82f36cdd",
   "metadata": {},
   "source": [
    "### 1.3.2 Other Dictionary Operations\n",
    "* `len(d)`: Returns the number of elements in d  \n",
    "* `d.get(key[, default])` : Returns the value if the key exists or returns the default, If the key doesn't exist. Raises an error, if the default is omitted and the key does not exist.\n",
    "* `list(d.keys())` : Returns; a list of the keys\n",
    "* `list(d.values())` : Returns; a list of the values\n",
    "* `d.clear` : Remove all entries from a dictionary"
   ]
  },
  {
   "cell_type": "code",
   "execution_count": 40,
   "id": "6debcee0",
   "metadata": {},
   "outputs": [
    {
     "data": {
      "text/plain": [
       "3"
      ]
     },
     "execution_count": 40,
     "metadata": {},
     "output_type": "execute_result"
    }
   ],
   "source": [
    "#length of the dict\n",
    "len(info)"
   ]
  },
  {
   "cell_type": "code",
   "execution_count": 41,
   "id": "52f3f6e0",
   "metadata": {},
   "outputs": [
    {
     "data": {
      "text/plain": [
       "['name', 'Age', 'job']"
      ]
     },
     "execution_count": 41,
     "metadata": {},
     "output_type": "execute_result"
    }
   ],
   "source": [
    "#list of keys in the dictionary\n",
    "list(info.keys())"
   ]
  },
  {
   "cell_type": "code",
   "execution_count": 42,
   "id": "9bae083d",
   "metadata": {},
   "outputs": [
    {
     "data": {
      "text/plain": [
       "['Sally', 23, 'Analyst']"
      ]
     },
     "execution_count": 42,
     "metadata": {},
     "output_type": "execute_result"
    }
   ],
   "source": [
    "#list of the valyes in the dictionary\n",
    "list(info.values())"
   ]
  },
  {
   "cell_type": "code",
   "execution_count": 43,
   "id": "3d846be8",
   "metadata": {},
   "outputs": [
    {
     "data": {
      "text/plain": [
       "{}"
      ]
     },
     "execution_count": 43,
     "metadata": {},
     "output_type": "execute_result"
    }
   ],
   "source": [
    "#Removing the contents of dict\n",
    "info.clear()\n",
    "info"
   ]
  },
  {
   "cell_type": "markdown",
   "id": "00d3e1b4",
   "metadata": {},
   "source": [
    "### 1.3.3 Dictionaries for representing data"
   ]
  },
  {
   "cell_type": "code",
   "execution_count": 44,
   "id": "ca477ac8",
   "metadata": {},
   "outputs": [
    {
     "data": {
      "text/html": [
       "<div>\n",
       "<style scoped>\n",
       "    .dataframe tbody tr th:only-of-type {\n",
       "        vertical-align: middle;\n",
       "    }\n",
       "\n",
       "    .dataframe tbody tr th {\n",
       "        vertical-align: top;\n",
       "    }\n",
       "\n",
       "    .dataframe thead th {\n",
       "        text-align: right;\n",
       "    }\n",
       "</style>\n",
       "<table border=\"1\" class=\"dataframe\">\n",
       "  <thead>\n",
       "    <tr style=\"text-align: right;\">\n",
       "      <th></th>\n",
       "      <th>Name</th>\n",
       "      <th>Industry</th>\n",
       "      <th>funding</th>\n",
       "    </tr>\n",
       "  </thead>\n",
       "  <tbody>\n",
       "    <tr>\n",
       "      <th>0</th>\n",
       "      <td>BYJU's</td>\n",
       "      <td>e-tech</td>\n",
       "      <td>200000000</td>\n",
       "    </tr>\n",
       "    <tr>\n",
       "      <th>1</th>\n",
       "      <td>Flipkart</td>\n",
       "      <td>e-commerce</td>\n",
       "      <td>2500000000</td>\n",
       "    </tr>\n",
       "    <tr>\n",
       "      <th>2</th>\n",
       "      <td>Shutt</td>\n",
       "      <td>transport</td>\n",
       "      <td>8648000000</td>\n",
       "    </tr>\n",
       "  </tbody>\n",
       "</table>\n",
       "</div>"
      ],
      "text/plain": [
       "       Name    Industry     funding\n",
       "0    BYJU's      e-tech   200000000\n",
       "1  Flipkart  e-commerce  2500000000\n",
       "2     Shutt   transport  8648000000"
      ]
     },
     "execution_count": 44,
     "metadata": {},
     "output_type": "execute_result"
    }
   ],
   "source": [
    "#Dictionaries with values as lists\n",
    "import pandas as pd\n",
    "data={\n",
    "    \"Name\":[\"BYJU's\",\"Flipkart\",\"Shutt\"],\n",
    "    \"Industry\":[\"e-tech\",\"e-commerce\",\"transport\"],\n",
    "    \"funding\":[200000000, 2500000000, 8648000000]\n",
    "}\n",
    "pd.DataFrame(data)"
   ]
  },
  {
   "cell_type": "code",
   "execution_count": 45,
   "id": "4e7a691c",
   "metadata": {},
   "outputs": [],
   "source": [
    "# List with dictionaries as elements\n",
    "data=[{\"Name\":\"BYJU's\",\"Industry\":\"e-tech\",\"funding\":200000000},\n",
    "      {\"Name\":\"Flipkart\",\"Industry\":\"e-commerce\",\"funding\":2500000000},\n",
    "      {\"Name\":\"Shutt\",\"Industry\":\"transport\",\"funding\":8648000000}]"
   ]
  },
  {
   "cell_type": "code",
   "execution_count": 46,
   "id": "9afdd3c8",
   "metadata": {},
   "outputs": [
    {
     "data": {
      "text/html": [
       "<div>\n",
       "<style scoped>\n",
       "    .dataframe tbody tr th:only-of-type {\n",
       "        vertical-align: middle;\n",
       "    }\n",
       "\n",
       "    .dataframe tbody tr th {\n",
       "        vertical-align: top;\n",
       "    }\n",
       "\n",
       "    .dataframe thead th {\n",
       "        text-align: right;\n",
       "    }\n",
       "</style>\n",
       "<table border=\"1\" class=\"dataframe\">\n",
       "  <thead>\n",
       "    <tr style=\"text-align: right;\">\n",
       "      <th></th>\n",
       "      <th>Name</th>\n",
       "      <th>Industry</th>\n",
       "      <th>funding</th>\n",
       "    </tr>\n",
       "  </thead>\n",
       "  <tbody>\n",
       "    <tr>\n",
       "      <th>0</th>\n",
       "      <td>BYJU's</td>\n",
       "      <td>e-tech</td>\n",
       "      <td>200000000</td>\n",
       "    </tr>\n",
       "    <tr>\n",
       "      <th>1</th>\n",
       "      <td>Flipkart</td>\n",
       "      <td>e-commerce</td>\n",
       "      <td>2500000000</td>\n",
       "    </tr>\n",
       "    <tr>\n",
       "      <th>2</th>\n",
       "      <td>Shutt</td>\n",
       "      <td>transport</td>\n",
       "      <td>8648000000</td>\n",
       "    </tr>\n",
       "  </tbody>\n",
       "</table>\n",
       "</div>"
      ],
      "text/plain": [
       "       Name    Industry     funding\n",
       "0    BYJU's      e-tech   200000000\n",
       "1  Flipkart  e-commerce  2500000000\n",
       "2     Shutt   transport  8648000000"
      ]
     },
     "execution_count": 46,
     "metadata": {},
     "output_type": "execute_result"
    }
   ],
   "source": [
    "pd.DataFrame(data)"
   ]
  },
  {
   "cell_type": "code",
   "execution_count": 47,
   "id": "846f350a",
   "metadata": {},
   "outputs": [
    {
     "data": {
      "text/html": [
       "<div>\n",
       "<style scoped>\n",
       "    .dataframe tbody tr th:only-of-type {\n",
       "        vertical-align: middle;\n",
       "    }\n",
       "\n",
       "    .dataframe tbody tr th {\n",
       "        vertical-align: top;\n",
       "    }\n",
       "\n",
       "    .dataframe thead th {\n",
       "        text-align: right;\n",
       "    }\n",
       "</style>\n",
       "<table border=\"1\" class=\"dataframe\">\n",
       "  <thead>\n",
       "    <tr style=\"text-align: right;\">\n",
       "      <th></th>\n",
       "      <th>Name</th>\n",
       "      <th>Industry</th>\n",
       "      <th>funding</th>\n",
       "    </tr>\n",
       "  </thead>\n",
       "  <tbody>\n",
       "    <tr>\n",
       "      <th>0</th>\n",
       "      <td>BYJU's</td>\n",
       "      <td>e-tech</td>\n",
       "      <td>200000000</td>\n",
       "    </tr>\n",
       "    <tr>\n",
       "      <th>1</th>\n",
       "      <td>Flipkart</td>\n",
       "      <td>e-commerce</td>\n",
       "      <td>2500000000</td>\n",
       "    </tr>\n",
       "    <tr>\n",
       "      <th>2</th>\n",
       "      <td>Shutt</td>\n",
       "      <td>transport</td>\n",
       "      <td>8648000000</td>\n",
       "    </tr>\n",
       "  </tbody>\n",
       "</table>\n",
       "</div>"
      ],
      "text/plain": [
       "       Name    Industry     funding\n",
       "0    BYJU's      e-tech   200000000\n",
       "1  Flipkart  e-commerce  2500000000\n",
       "2     Shutt   transport  8648000000"
      ]
     },
     "execution_count": 47,
     "metadata": {},
     "output_type": "execute_result"
    }
   ],
   "source": [
    "pd.DataFrame.from_records(data)"
   ]
  },
  {
   "cell_type": "markdown",
   "id": "97e4081a",
   "metadata": {},
   "source": [
    "Exercise:  \n",
    "1. Add a new row to the dataset\n",
    "2. Add a new columns to the dataset"
   ]
  },
  {
   "cell_type": "code",
   "execution_count": 48,
   "id": "5ee938a6",
   "metadata": {},
   "outputs": [
    {
     "data": {
      "text/html": [
       "<div>\n",
       "<style scoped>\n",
       "    .dataframe tbody tr th:only-of-type {\n",
       "        vertical-align: middle;\n",
       "    }\n",
       "\n",
       "    .dataframe tbody tr th {\n",
       "        vertical-align: top;\n",
       "    }\n",
       "\n",
       "    .dataframe thead th {\n",
       "        text-align: right;\n",
       "    }\n",
       "</style>\n",
       "<table border=\"1\" class=\"dataframe\">\n",
       "  <thead>\n",
       "    <tr style=\"text-align: right;\">\n",
       "      <th></th>\n",
       "      <th>Name</th>\n",
       "      <th>Industry</th>\n",
       "      <th>funding</th>\n",
       "    </tr>\n",
       "  </thead>\n",
       "  <tbody>\n",
       "    <tr>\n",
       "      <th>0</th>\n",
       "      <td>BYJU's</td>\n",
       "      <td>e-tech</td>\n",
       "      <td>200000000</td>\n",
       "    </tr>\n",
       "    <tr>\n",
       "      <th>1</th>\n",
       "      <td>Flipkart</td>\n",
       "      <td>e-commerce</td>\n",
       "      <td>2500000000</td>\n",
       "    </tr>\n",
       "    <tr>\n",
       "      <th>2</th>\n",
       "      <td>Shutt</td>\n",
       "      <td>transport</td>\n",
       "      <td>8648000000</td>\n",
       "    </tr>\n",
       "    <tr>\n",
       "      <th>3</th>\n",
       "      <td>PW</td>\n",
       "      <td>ed-tech</td>\n",
       "      <td>8008000000</td>\n",
       "    </tr>\n",
       "  </tbody>\n",
       "</table>\n",
       "</div>"
      ],
      "text/plain": [
       "       Name    Industry     funding\n",
       "0    BYJU's      e-tech   200000000\n",
       "1  Flipkart  e-commerce  2500000000\n",
       "2     Shutt   transport  8648000000\n",
       "3        PW     ed-tech  8008000000"
      ]
     },
     "execution_count": 48,
     "metadata": {},
     "output_type": "execute_result"
    }
   ],
   "source": [
    "#Easy to add new row using list of dictionaries\n",
    "data=[{\"Name\":\"BYJU's\",\"Industry\":\"e-tech\",\"funding\":200000000},\n",
    "      {\"Name\":\"Flipkart\",\"Industry\":\"e-commerce\",\"funding\":2500000000},\n",
    "      {\"Name\":\"Shutt\",\"Industry\":\"transport\",\"funding\":8648000000},\n",
    "     {\"Name\":\"PW\",\"Industry\":\"ed-tech\",\"funding\":8008000000}]\n",
    "pd.DataFrame(data)"
   ]
  },
  {
   "cell_type": "code",
   "execution_count": 49,
   "id": "6857f595",
   "metadata": {},
   "outputs": [
    {
     "data": {
      "text/html": [
       "<div>\n",
       "<style scoped>\n",
       "    .dataframe tbody tr th:only-of-type {\n",
       "        vertical-align: middle;\n",
       "    }\n",
       "\n",
       "    .dataframe tbody tr th {\n",
       "        vertical-align: top;\n",
       "    }\n",
       "\n",
       "    .dataframe thead th {\n",
       "        text-align: right;\n",
       "    }\n",
       "</style>\n",
       "<table border=\"1\" class=\"dataframe\">\n",
       "  <thead>\n",
       "    <tr style=\"text-align: right;\">\n",
       "      <th></th>\n",
       "      <th>Name</th>\n",
       "      <th>Industry</th>\n",
       "      <th>funding</th>\n",
       "      <th>Location</th>\n",
       "    </tr>\n",
       "  </thead>\n",
       "  <tbody>\n",
       "    <tr>\n",
       "      <th>0</th>\n",
       "      <td>BYJU's</td>\n",
       "      <td>e-tech</td>\n",
       "      <td>200000000</td>\n",
       "      <td>Mumbai</td>\n",
       "    </tr>\n",
       "    <tr>\n",
       "      <th>1</th>\n",
       "      <td>Flipkart</td>\n",
       "      <td>e-commerce</td>\n",
       "      <td>2500000000</td>\n",
       "      <td>Pune</td>\n",
       "    </tr>\n",
       "    <tr>\n",
       "      <th>2</th>\n",
       "      <td>Shutt</td>\n",
       "      <td>transport</td>\n",
       "      <td>8648000000</td>\n",
       "      <td>Banglore</td>\n",
       "    </tr>\n",
       "  </tbody>\n",
       "</table>\n",
       "</div>"
      ],
      "text/plain": [
       "       Name    Industry     funding  Location\n",
       "0    BYJU's      e-tech   200000000    Mumbai\n",
       "1  Flipkart  e-commerce  2500000000      Pune\n",
       "2     Shutt   transport  8648000000  Banglore"
      ]
     },
     "execution_count": 49,
     "metadata": {},
     "output_type": "execute_result"
    }
   ],
   "source": [
    "#Easy to add new columns using dictionary of lists as values\n",
    "data={\n",
    "    \"Name\":[\"BYJU's\",\"Flipkart\",\"Shutt\"],\n",
    "    \"Industry\":[\"e-tech\",\"e-commerce\",\"transport\"],\n",
    "    \"funding\":[200000000, 2500000000, 8648000000],\n",
    "    \"Location\":[\"Mumbai\",\"Pune\",\"Banglore\"]}\n",
    "pd.DataFrame(data)"
   ]
  },
  {
   "cell_type": "markdown",
   "id": "5bd9398a",
   "metadata": {},
   "source": [
    "Depending what kind of updation your job demands (adding rows / adding columns) we need to choose between dictionary of lists and list of dictionaries."
   ]
  },
  {
   "cell_type": "markdown",
   "id": "3fe80fd5",
   "metadata": {},
   "source": [
    "The End"
   ]
  }
 ],
 "metadata": {
  "kernelspec": {
   "display_name": "Python 3",
   "language": "python",
   "name": "python3"
  },
  "language_info": {
   "codemirror_mode": {
    "name": "ipython",
    "version": 3
   },
   "file_extension": ".py",
   "mimetype": "text/x-python",
   "name": "python",
   "nbconvert_exporter": "python",
   "pygments_lexer": "ipython3",
   "version": "3.8.8"
  }
 },
 "nbformat": 4,
 "nbformat_minor": 5
}
