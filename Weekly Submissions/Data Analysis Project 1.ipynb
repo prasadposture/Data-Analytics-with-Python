{
 "cells": [
  {
   "cell_type": "markdown",
   "id": "3f641685",
   "metadata": {},
   "source": [
    "# Prasad Rajesh Posture\n",
    "**Batch:** June 2022  \n",
    "Data Analytics with Python"
   ]
  },
  {
   "cell_type": "markdown",
   "id": "952bc641",
   "metadata": {},
   "source": [
    "**Task :** From the dataset you have created, list which vairables are explanatory and which ones are response variable."
   ]
  },
  {
   "cell_type": "markdown",
   "id": "390c1ab3",
   "metadata": {},
   "source": [
    "**Explanatory variables :**  \n",
    "1. **Lecture_Duration:** Duration of the daily lectures (in hours)\n",
    "2. **Self_Study:** Duration of time spent in self studying (in hours)\n",
    "3. **Device:** type of device used for attending lectures, since the screen size and easy access to various applications matters as far as concentration is concerned\n",
    "4. **Social_Media:** It is observed that many students use social media during live sessions, for chatting on the what’s app, scrolling through Instagram etc shows their focus during lectures which directly affects the score\n",
    "5. **Education:** People were to ask to rate the effectiveness of online education. The rating scale varies from 1 to 10.\n",
    "6. **Evaluation:** People were to ask to rate the effectiveness of evaluation (tests, debates, presentations, projects, etc) during online education. The rating scales varies from 1 to 10."
   ]
  },
  {
   "cell_type": "markdown",
   "id": "9828536e",
   "metadata": {},
   "source": [
    "**Response Variables :**  \n",
    "1. **Test_Score:** It has been seen that the test score depends on the variables discussed above, since good teaching skills, effective evaluation and good concentration are key factors for scoring good marks\n",
    "2. **Chosen_Mode:** This variable discusses the type of mode students prefer, from online, offline, hybrid. It was seen that many people though scored well in the online exams still chose offline education because of its effectiveness."
   ]
  },
  {
   "cell_type": "markdown",
   "id": "893e496e",
   "metadata": {},
   "source": [
    "[Link for the Questionnaire](https://docs.google.com/forms/d/e/1FAIpQLScqq_4_GX5uYpqzolVO0IvzqB1HM5AolsGsfOt-zs4VuDMEzg/viewform?usp=sf_link)"
   ]
  },
  {
   "cell_type": "markdown",
   "id": "c67b3d6b",
   "metadata": {},
   "source": [
    "[Link for the Dataset](https://drive.google.com/file/d/1jHFggJjWC3QmyxUjCfndOy8c6KCJegGk/view?usp=drivesdk)"
   ]
  },
  {
   "cell_type": "markdown",
   "id": "09810e28",
   "metadata": {},
   "source": [
    "The End"
   ]
  }
 ],
 "metadata": {
  "kernelspec": {
   "display_name": "Python 3",
   "language": "python",
   "name": "python3"
  },
  "language_info": {
   "codemirror_mode": {
    "name": "ipython",
    "version": 3
   },
   "file_extension": ".py",
   "mimetype": "text/x-python",
   "name": "python",
   "nbconvert_exporter": "python",
   "pygments_lexer": "ipython3",
   "version": "3.8.8"
  }
 },
 "nbformat": 4,
 "nbformat_minor": 5
}
