{
 "cells": [
  {
   "cell_type": "markdown",
   "id": "32096be2",
   "metadata": {},
   "source": [
    "# Prasad Rajesh Posture\n",
    "**Batch:** June 2022  \n",
    "Data Analytics with Python"
   ]
  },
  {
   "cell_type": "markdown",
   "id": "de6b293c",
   "metadata": {},
   "source": [
    "**Task :** Write a program to illustrate different set operations."
   ]
  },
  {
   "cell_type": "code",
   "execution_count": 1,
   "id": "6d23804f",
   "metadata": {},
   "outputs": [],
   "source": [
    "#initialiing the sets\n",
    "E={0,2,4,6,8}\n",
    "N={1,2,3,4,5}"
   ]
  },
  {
   "cell_type": "code",
   "execution_count": 2,
   "id": "77478562",
   "metadata": {},
   "outputs": [
    {
     "name": "stdout",
     "output_type": "stream",
     "text": [
      "Union of E and N is {0, 1, 2, 3, 4, 5, 6, 8}\n"
     ]
    }
   ],
   "source": [
    "#Union of E and N\n",
    "A=E.union(N)\n",
    "print(\"Union of E and N is\",A)"
   ]
  },
  {
   "cell_type": "code",
   "execution_count": 3,
   "id": "bf8bf10f",
   "metadata": {},
   "outputs": [
    {
     "name": "stdout",
     "output_type": "stream",
     "text": [
      "Intersection of E and N is {2, 4}\n"
     ]
    }
   ],
   "source": [
    "#Intersection of E and N\n",
    "B=E.intersection(N)\n",
    "print(\"Intersection of E and N is\", B)"
   ]
  },
  {
   "cell_type": "code",
   "execution_count": 4,
   "id": "6f359dc2",
   "metadata": {},
   "outputs": [
    {
     "name": "stdout",
     "output_type": "stream",
     "text": [
      "Difference of E and N is {0, 8, 6}\n"
     ]
    }
   ],
   "source": [
    "#Difference between E and N (E-N)\n",
    "C=E.difference(N)\n",
    "print(\"Difference of E and N is\", C)"
   ]
  },
  {
   "cell_type": "code",
   "execution_count": 5,
   "id": "9e95dca3",
   "metadata": {},
   "outputs": [
    {
     "name": "stdout",
     "output_type": "stream",
     "text": [
      "Symmetric difference of E and N is {0, 1, 3, 5, 6, 8}\n"
     ]
    }
   ],
   "source": [
    "#Symmetric Difference Between E and N ((E-N)U(N-E))\n",
    "D=E.symmetric_difference(N)\n",
    "print(\"Symmetric difference of E and N is\", D)"
   ]
  },
  {
   "cell_type": "markdown",
   "id": "bb7d76ad",
   "metadata": {},
   "source": [
    "The End"
   ]
  }
 ],
 "metadata": {
  "kernelspec": {
   "display_name": "Python 3",
   "language": "python",
   "name": "python3"
  },
  "language_info": {
   "codemirror_mode": {
    "name": "ipython",
    "version": 3
   },
   "file_extension": ".py",
   "mimetype": "text/x-python",
   "name": "python",
   "nbconvert_exporter": "python",
   "pygments_lexer": "ipython3",
   "version": "3.8.8"
  }
 },
 "nbformat": 4,
 "nbformat_minor": 5
}
