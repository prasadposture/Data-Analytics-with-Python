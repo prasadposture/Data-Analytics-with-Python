{
 "cells": [
  {
   "cell_type": "markdown",
   "id": "839aadb3",
   "metadata": {},
   "source": [
    "# Prasad Rajesh Posture\n",
    "**Batch:** June 2022  \n",
    "Data Analytics with Python"
   ]
  },
  {
   "cell_type": "markdown",
   "id": "6da7b550",
   "metadata": {},
   "source": [
    "**Task :** Note down the marks you have scored in all cycle tests in your previous year of college and visualize the data in a bar plot."
   ]
  },
  {
   "cell_type": "markdown",
   "id": "6fab0706",
   "metadata": {},
   "source": [
    "[Data Source](https://drive.google.com/file/d/1GpexhS_YQ64MKn0Mk8gfwF7hU4G-Runf/view?usp=sharing)"
   ]
  },
  {
   "cell_type": "code",
   "execution_count": 1,
   "id": "c958a7b6",
   "metadata": {},
   "outputs": [],
   "source": [
    "import pandas as pd\n",
    "import numpy as np\n",
    "import matplotlib.pyplot as plt\n",
    "%matplotlib inline"
   ]
  },
  {
   "cell_type": "code",
   "execution_count": 2,
   "id": "0a2d391b",
   "metadata": {},
   "outputs": [
    {
     "data": {
      "text/html": [
       "<div>\n",
       "<style scoped>\n",
       "    .dataframe tbody tr th:only-of-type {\n",
       "        vertical-align: middle;\n",
       "    }\n",
       "\n",
       "    .dataframe tbody tr th {\n",
       "        vertical-align: top;\n",
       "    }\n",
       "\n",
       "    .dataframe thead th {\n",
       "        text-align: right;\n",
       "    }\n",
       "</style>\n",
       "<table border=\"1\" class=\"dataframe\">\n",
       "  <thead>\n",
       "    <tr style=\"text-align: right;\">\n",
       "      <th></th>\n",
       "      <th>Semesters</th>\n",
       "      <th>Physics-1</th>\n",
       "      <th>Physics-2</th>\n",
       "      <th>Physics-3</th>\n",
       "      <th>Chemistry-1</th>\n",
       "      <th>Chemistry-2</th>\n",
       "      <th>Chemistry-3</th>\n",
       "      <th>Maths-1</th>\n",
       "      <th>Maths-2</th>\n",
       "      <th>Maths-3</th>\n",
       "    </tr>\n",
       "  </thead>\n",
       "  <tbody>\n",
       "    <tr>\n",
       "      <th>0</th>\n",
       "      <td>Sem-1</td>\n",
       "      <td>89</td>\n",
       "      <td>92</td>\n",
       "      <td>98</td>\n",
       "      <td>81</td>\n",
       "      <td>80</td>\n",
       "      <td>97</td>\n",
       "      <td>91</td>\n",
       "      <td>87</td>\n",
       "      <td>87</td>\n",
       "    </tr>\n",
       "    <tr>\n",
       "      <th>1</th>\n",
       "      <td>Sem-2</td>\n",
       "      <td>93</td>\n",
       "      <td>88</td>\n",
       "      <td>98</td>\n",
       "      <td>84</td>\n",
       "      <td>93</td>\n",
       "      <td>97</td>\n",
       "      <td>87</td>\n",
       "      <td>92</td>\n",
       "      <td>87</td>\n",
       "    </tr>\n",
       "    <tr>\n",
       "      <th>2</th>\n",
       "      <td>Sem-3</td>\n",
       "      <td>90</td>\n",
       "      <td>92</td>\n",
       "      <td>90</td>\n",
       "      <td>80</td>\n",
       "      <td>94</td>\n",
       "      <td>73</td>\n",
       "      <td>88</td>\n",
       "      <td>94</td>\n",
       "      <td>93</td>\n",
       "    </tr>\n",
       "    <tr>\n",
       "      <th>3</th>\n",
       "      <td>Sem-4</td>\n",
       "      <td>88</td>\n",
       "      <td>90</td>\n",
       "      <td>74</td>\n",
       "      <td>83</td>\n",
       "      <td>99</td>\n",
       "      <td>94</td>\n",
       "      <td>76</td>\n",
       "      <td>76</td>\n",
       "      <td>97</td>\n",
       "    </tr>\n",
       "    <tr>\n",
       "      <th>4</th>\n",
       "      <td>Sem-5</td>\n",
       "      <td>85</td>\n",
       "      <td>88</td>\n",
       "      <td>49</td>\n",
       "      <td>86</td>\n",
       "      <td>96</td>\n",
       "      <td>80</td>\n",
       "      <td>73</td>\n",
       "      <td>80</td>\n",
       "      <td>79</td>\n",
       "    </tr>\n",
       "    <tr>\n",
       "      <th>5</th>\n",
       "      <td>Sem-6</td>\n",
       "      <td>90</td>\n",
       "      <td>98</td>\n",
       "      <td>87</td>\n",
       "      <td>98</td>\n",
       "      <td>91</td>\n",
       "      <td>85</td>\n",
       "      <td>83</td>\n",
       "      <td>93</td>\n",
       "      <td>90</td>\n",
       "    </tr>\n",
       "  </tbody>\n",
       "</table>\n",
       "</div>"
      ],
      "text/plain": [
       "  Semesters  Physics-1  Physics-2  Physics-3  Chemistry-1  Chemistry-2  \\\n",
       "0     Sem-1         89         92         98           81           80   \n",
       "1     Sem-2         93         88         98           84           93   \n",
       "2     Sem-3         90         92         90           80           94   \n",
       "3     Sem-4         88         90         74           83           99   \n",
       "4     Sem-5         85         88         49           86           96   \n",
       "5     Sem-6         90         98         87           98           91   \n",
       "\n",
       "   Chemistry-3  Maths-1  Maths-2  Maths-3  \n",
       "0           97       91       87       87  \n",
       "1           97       87       92       87  \n",
       "2           73       88       94       93  \n",
       "3           94       76       76       97  \n",
       "4           80       73       80       79  \n",
       "5           85       83       93       90  "
      ]
     },
     "execution_count": 2,
     "metadata": {},
     "output_type": "execute_result"
    }
   ],
   "source": [
    "df=pd.read_csv(\"college_marksheet.csv\")\n",
    "df"
   ]
  },
  {
   "cell_type": "code",
   "execution_count": 3,
   "id": "4b38b204",
   "metadata": {},
   "outputs": [
    {
     "data": {
      "text/html": [
       "<div>\n",
       "<style scoped>\n",
       "    .dataframe tbody tr th:only-of-type {\n",
       "        vertical-align: middle;\n",
       "    }\n",
       "\n",
       "    .dataframe tbody tr th {\n",
       "        vertical-align: top;\n",
       "    }\n",
       "\n",
       "    .dataframe thead th {\n",
       "        text-align: right;\n",
       "    }\n",
       "</style>\n",
       "<table border=\"1\" class=\"dataframe\">\n",
       "  <thead>\n",
       "    <tr style=\"text-align: right;\">\n",
       "      <th></th>\n",
       "      <th>Physics-1</th>\n",
       "      <th>Physics-2</th>\n",
       "      <th>Physics-3</th>\n",
       "      <th>Chemistry-1</th>\n",
       "      <th>Chemistry-2</th>\n",
       "      <th>Chemistry-3</th>\n",
       "      <th>Maths-1</th>\n",
       "      <th>Maths-2</th>\n",
       "      <th>Maths-3</th>\n",
       "    </tr>\n",
       "  </thead>\n",
       "  <tbody>\n",
       "    <tr>\n",
       "      <th>count</th>\n",
       "      <td>6.000000</td>\n",
       "      <td>6.000000</td>\n",
       "      <td>6.000000</td>\n",
       "      <td>6.000000</td>\n",
       "      <td>6.000000</td>\n",
       "      <td>6.000000</td>\n",
       "      <td>6.000000</td>\n",
       "      <td>6.000000</td>\n",
       "      <td>6.000000</td>\n",
       "    </tr>\n",
       "    <tr>\n",
       "      <th>mean</th>\n",
       "      <td>89.166667</td>\n",
       "      <td>91.333333</td>\n",
       "      <td>82.666667</td>\n",
       "      <td>85.333333</td>\n",
       "      <td>92.166667</td>\n",
       "      <td>87.666667</td>\n",
       "      <td>83.000000</td>\n",
       "      <td>87.000000</td>\n",
       "      <td>88.833333</td>\n",
       "    </tr>\n",
       "    <tr>\n",
       "      <th>std</th>\n",
       "      <td>2.639444</td>\n",
       "      <td>3.723797</td>\n",
       "      <td>18.715413</td>\n",
       "      <td>6.562520</td>\n",
       "      <td>6.554896</td>\n",
       "      <td>9.953224</td>\n",
       "      <td>7.127412</td>\n",
       "      <td>7.483315</td>\n",
       "      <td>6.145459</td>\n",
       "    </tr>\n",
       "    <tr>\n",
       "      <th>min</th>\n",
       "      <td>85.000000</td>\n",
       "      <td>88.000000</td>\n",
       "      <td>49.000000</td>\n",
       "      <td>80.000000</td>\n",
       "      <td>80.000000</td>\n",
       "      <td>73.000000</td>\n",
       "      <td>73.000000</td>\n",
       "      <td>76.000000</td>\n",
       "      <td>79.000000</td>\n",
       "    </tr>\n",
       "    <tr>\n",
       "      <th>25%</th>\n",
       "      <td>88.250000</td>\n",
       "      <td>88.500000</td>\n",
       "      <td>77.250000</td>\n",
       "      <td>81.500000</td>\n",
       "      <td>91.500000</td>\n",
       "      <td>81.250000</td>\n",
       "      <td>77.750000</td>\n",
       "      <td>81.750000</td>\n",
       "      <td>87.000000</td>\n",
       "    </tr>\n",
       "    <tr>\n",
       "      <th>50%</th>\n",
       "      <td>89.500000</td>\n",
       "      <td>91.000000</td>\n",
       "      <td>88.500000</td>\n",
       "      <td>83.500000</td>\n",
       "      <td>93.500000</td>\n",
       "      <td>89.500000</td>\n",
       "      <td>85.000000</td>\n",
       "      <td>89.500000</td>\n",
       "      <td>88.500000</td>\n",
       "    </tr>\n",
       "    <tr>\n",
       "      <th>75%</th>\n",
       "      <td>90.000000</td>\n",
       "      <td>92.000000</td>\n",
       "      <td>96.000000</td>\n",
       "      <td>85.500000</td>\n",
       "      <td>95.500000</td>\n",
       "      <td>96.250000</td>\n",
       "      <td>87.750000</td>\n",
       "      <td>92.750000</td>\n",
       "      <td>92.250000</td>\n",
       "    </tr>\n",
       "    <tr>\n",
       "      <th>max</th>\n",
       "      <td>93.000000</td>\n",
       "      <td>98.000000</td>\n",
       "      <td>98.000000</td>\n",
       "      <td>98.000000</td>\n",
       "      <td>99.000000</td>\n",
       "      <td>97.000000</td>\n",
       "      <td>91.000000</td>\n",
       "      <td>94.000000</td>\n",
       "      <td>97.000000</td>\n",
       "    </tr>\n",
       "  </tbody>\n",
       "</table>\n",
       "</div>"
      ],
      "text/plain": [
       "       Physics-1  Physics-2  Physics-3  Chemistry-1  Chemistry-2  Chemistry-3  \\\n",
       "count   6.000000   6.000000   6.000000     6.000000     6.000000     6.000000   \n",
       "mean   89.166667  91.333333  82.666667    85.333333    92.166667    87.666667   \n",
       "std     2.639444   3.723797  18.715413     6.562520     6.554896     9.953224   \n",
       "min    85.000000  88.000000  49.000000    80.000000    80.000000    73.000000   \n",
       "25%    88.250000  88.500000  77.250000    81.500000    91.500000    81.250000   \n",
       "50%    89.500000  91.000000  88.500000    83.500000    93.500000    89.500000   \n",
       "75%    90.000000  92.000000  96.000000    85.500000    95.500000    96.250000   \n",
       "max    93.000000  98.000000  98.000000    98.000000    99.000000    97.000000   \n",
       "\n",
       "         Maths-1    Maths-2    Maths-3  \n",
       "count   6.000000   6.000000   6.000000  \n",
       "mean   83.000000  87.000000  88.833333  \n",
       "std     7.127412   7.483315   6.145459  \n",
       "min    73.000000  76.000000  79.000000  \n",
       "25%    77.750000  81.750000  87.000000  \n",
       "50%    85.000000  89.500000  88.500000  \n",
       "75%    87.750000  92.750000  92.250000  \n",
       "max    91.000000  94.000000  97.000000  "
      ]
     },
     "execution_count": 3,
     "metadata": {},
     "output_type": "execute_result"
    }
   ],
   "source": [
    "df2=df.describe()\n",
    "df2"
   ]
  },
  {
   "cell_type": "markdown",
   "id": "46b1c4c1",
   "metadata": {},
   "source": [
    "Barplot of marks obtained in physics in different semesters"
   ]
  },
  {
   "cell_type": "code",
   "execution_count": 4,
   "id": "d99d1332",
   "metadata": {},
   "outputs": [
    {
     "data": {
      "image/png": "[encoded data removed]",
      "text/plain": [
       "<Figure size 432x288 with 1 Axes>"
      ]
     },
     "metadata": {
      "needs_background": "light"
     },
     "output_type": "display_data"
    }
   ],
   "source": [
    "width=0.2\n",
    "x_axis=np.arange(len(df['Semesters']))\n",
    "plt.bar(x_axis+0.2,height=df['Physics-1'],width=width,label='Physics-1')\n",
    "plt.bar(x_axis+0.4,height=df['Physics-2'],width=width,label='Physics-2')\n",
    "plt.bar(x_axis+0.6,height=df['Physics-3'],width=width,label='Physics-3')\n",
    "plt.xticks(x_axis,df['Semesters'])\n",
    "plt.title(\"Physics v/s Semesters\",fontsize=20)\n",
    "plt.xlabel('Semester No.',fontsize=12)\n",
    "plt.ylabel('Marks',fontsize=12)\n",
    "plt.legend(loc='lower right')\n",
    "plt.show()"
   ]
  },
  {
   "cell_type": "markdown",
   "id": "db9d22f1",
   "metadata": {},
   "source": [
    "Barplot of marks obtained in chemistry in different semesters"
   ]
  },
  {
   "cell_type": "code",
   "execution_count": 5,
   "id": "c223bbf8",
   "metadata": {},
   "outputs": [
    {
     "data": {
      "image/png": "[encoded data removed]",
      "text/plain": [
       "<Figure size 432x288 with 1 Axes>"
      ]
     },
     "metadata": {
      "needs_background": "light"
     },
     "output_type": "display_data"
    }
   ],
   "source": [
    "width=0.2\n",
    "x_axis=np.arange(len(df['Semesters']))\n",
    "plt.bar(x_axis+0.2,height=df['Chemistry-1'],width=width,label='Chemistry-1')\n",
    "plt.bar(x_axis+0.4,height=df['Chemistry-2'],width=width,label='Chemistry-2')\n",
    "plt.bar(x_axis+0.6,height=df['Chemistry-3'],width=width,label='Chemistry-3')\n",
    "plt.xticks(x_axis,df['Semesters'])\n",
    "plt.title(\"Chemistry v/s Semesters\",fontsize=20)\n",
    "plt.xlabel('Semester No.',fontsize=12)\n",
    "plt.ylabel('Marks',fontsize=12)\n",
    "plt.legend(loc='lower right')\n",
    "plt.show()"
   ]
  },
  {
   "cell_type": "markdown",
   "id": "15c29e12",
   "metadata": {},
   "source": [
    "Barplot of marks obtained in maths in different semesters"
   ]
  },
  {
   "cell_type": "code",
   "execution_count": 7,
   "id": "5fed575b",
   "metadata": {},
   "outputs": [
    {
     "data": {
      "image/png": "[encoded data removed]",
      "text/plain": [
       "<Figure size 432x288 with 1 Axes>"
      ]
     },
     "metadata": {
      "needs_background": "light"
     },
     "output_type": "display_data"
    }
   ],
   "source": [
    "width=0.2\n",
    "x_axis=np.arange(len(df['Semesters']))\n",
    "plt.bar(x_axis+0.2,height=df['Maths-1'],width=width,label='Maths-1')\n",
    "plt.bar(x_axis+0.4,height=df['Maths-2'],width=width,label='Maths-2')\n",
    "plt.bar(x_axis+0.6,height=df['Maths-3'],width=width,label='Maths-3')\n",
    "plt.xticks(x_axis,df['Semesters'])\n",
    "plt.title(\"Maths v/s Semesters\",fontsize=20)\n",
    "plt.xlabel('Semester No.',fontsize=12)\n",
    "plt.ylabel('Marks',fontsize=12)\n",
    "plt.legend(loc='lower right')\n",
    "plt.show()"
   ]
  },
  {
   "cell_type": "code",
   "execution_count": 8,
   "id": "a340c829",
   "metadata": {},
   "outputs": [],
   "source": [
    "df['Physics']=(df['Physics-1']+df['Physics-2']+df['Physics-3'])/3\n",
    "df['Chemistry']=(df['Chemistry-1']+df['Chemistry-2']+df['Chemistry-3'])/3\n",
    "df['Maths']=(df['Maths-1']+df['Maths-2']+df['Maths-3'])/3"
   ]
  },
  {
   "cell_type": "markdown",
   "id": "a05680d6",
   "metadata": {},
   "source": [
    "Barplot of averge marks in Physic, Maths and Chemistry in each semester"
   ]
  },
  {
   "cell_type": "code",
   "execution_count": 9,
   "id": "53effd35",
   "metadata": {},
   "outputs": [
    {
     "data": {
      "image/png": "[encoded data removed]",
      "text/plain": [
       "<Figure size 432x288 with 1 Axes>"
      ]
     },
     "metadata": {
      "needs_background": "light"
     },
     "output_type": "display_data"
    }
   ],
   "source": [
    "width=0.2\n",
    "x_axis=np.arange(len(df['Semesters']))\n",
    "plt.bar(x_axis+0.2,height=df['Physics'],width=width,label='Physics')\n",
    "plt.bar(x_axis+0.4,height=df['Chemistry'],width=width,label='Chemistry')\n",
    "plt.bar(x_axis+0.6,height=df['Maths'],width=width,label='Maths')\n",
    "plt.xticks(x_axis,df['Semesters'])\n",
    "plt.title(\"Subjects v/s Semesters\",fontsize=20)\n",
    "plt.xlabel('Semester No.',fontsize=12)\n",
    "plt.ylabel('Marks',fontsize=12)\n",
    "plt.legend(loc='lower right')\n",
    "plt.show()"
   ]
  },
  {
   "cell_type": "markdown",
   "id": "d85b3c02",
   "metadata": {},
   "source": [
    "Barplot of marks obtained in each subject throughout the years"
   ]
  },
  {
   "cell_type": "code",
   "execution_count": 12,
   "id": "0e87d9d1",
   "metadata": {},
   "outputs": [
    {
     "data": {
      "image/png": "[encoded data removed]",
      "text/plain": [
       "<Figure size 432x288 with 1 Axes>"
      ]
     },
     "metadata": {
      "needs_background": "light"
     },
     "output_type": "display_data"
    }
   ],
   "source": [
    "Subjects=list(df2.columns)\n",
    "Subjects=np.array(Subjects)\n",
    "Marks=np.array([89.166667,91.333333,82.666667,85.333333,92.166667,87.666667,83.000000,87.000000,88.833333])\n",
    "plt.bar(Subjects,Marks,color='r')\n",
    "plt.xticks(rotation=45)\n",
    "plt.xlabel(\"Subjects\",fontsize=12)\n",
    "plt.ylabel(\"Marks\",fontsize=12)\n",
    "plt.title(\"Marks v/s Subjects\",fontsize=20)\n",
    "plt.show()"
   ]
  },
  {
   "cell_type": "markdown",
   "id": "388fc6e2",
   "metadata": {},
   "source": [
    "The End"
   ]
  }
 ],
 "metadata": {
  "kernelspec": {
   "display_name": "Python 3",
   "language": "python",
   "name": "python3"
  },
  "language_info": {
   "codemirror_mode": {
    "name": "ipython",
    "version": 3
   },
   "file_extension": ".py",
   "mimetype": "text/x-python",
   "name": "python",
   "nbconvert_exporter": "python",
   "pygments_lexer": "ipython3",
   "version": "3.8.8"
  }
 },
 "nbformat": 4,
 "nbformat_minor": 5
}
