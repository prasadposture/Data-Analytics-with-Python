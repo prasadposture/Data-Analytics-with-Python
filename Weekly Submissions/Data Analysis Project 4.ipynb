{
 "cells": [
  {
   "cell_type": "markdown",
   "id": "e59657f0",
   "metadata": {},
   "source": [
    "# Prasad Rajesh Posture\n",
    "**Batch:** June 2022  \n",
    "Data Analytics with Python"
   ]
  },
  {
   "cell_type": "markdown",
   "id": "79823f83",
   "metadata": {},
   "source": [
    "**Task :** Record your productivity level (1-5) 5 being the most productive and 1 being the least productive and time of the day. Perform a bivariate analysis by plotting a bar graph and observe which time of the day affects your productivity most,"
   ]
  },
  {
   "cell_type": "markdown",
   "id": "1be41b21",
   "metadata": {},
   "source": [
    "[Data Source](https://docs.google.com/spreadsheets/d/1RJ14-H3zwS9L6yLPeKAMx04xbAZOEBMY/edit?usp=sharing&ouid=112452469875117132224&rtpof=true&sd=true)"
   ]
  },
  {
   "cell_type": "code",
   "execution_count": 1,
   "id": "9bb877ed",
   "metadata": {},
   "outputs": [],
   "source": [
    "import pandas as pd"
   ]
  },
  {
   "cell_type": "code",
   "execution_count": 2,
   "id": "49398a58",
   "metadata": {},
   "outputs": [],
   "source": [
    "import numpy as np"
   ]
  },
  {
   "cell_type": "code",
   "execution_count": 3,
   "id": "e900297b",
   "metadata": {},
   "outputs": [],
   "source": [
    "import matplotlib.pyplot as plt"
   ]
  },
  {
   "cell_type": "code",
   "execution_count": 4,
   "id": "b122fb7f",
   "metadata": {},
   "outputs": [],
   "source": [
    "df=pd.read_excel(\"Productivity.xlsx\")"
   ]
  },
  {
   "cell_type": "code",
   "execution_count": 5,
   "id": "16361d2f",
   "metadata": {},
   "outputs": [
    {
     "data": {
      "text/html": [
       "<div>\n",
       "<style scoped>\n",
       "    .dataframe tbody tr th:only-of-type {\n",
       "        vertical-align: middle;\n",
       "    }\n",
       "\n",
       "    .dataframe tbody tr th {\n",
       "        vertical-align: top;\n",
       "    }\n",
       "\n",
       "    .dataframe thead th {\n",
       "        text-align: right;\n",
       "    }\n",
       "</style>\n",
       "<table border=\"1\" class=\"dataframe\">\n",
       "  <thead>\n",
       "    <tr style=\"text-align: right;\">\n",
       "      <th></th>\n",
       "      <th>Period</th>\n",
       "      <th>Productivity</th>\n",
       "    </tr>\n",
       "  </thead>\n",
       "  <tbody>\n",
       "    <tr>\n",
       "      <th>0</th>\n",
       "      <td>0-1</td>\n",
       "      <td>1</td>\n",
       "    </tr>\n",
       "    <tr>\n",
       "      <th>1</th>\n",
       "      <td>1-2</td>\n",
       "      <td>0</td>\n",
       "    </tr>\n",
       "    <tr>\n",
       "      <th>2</th>\n",
       "      <td>2-3</td>\n",
       "      <td>0</td>\n",
       "    </tr>\n",
       "    <tr>\n",
       "      <th>3</th>\n",
       "      <td>3-4</td>\n",
       "      <td>0</td>\n",
       "    </tr>\n",
       "    <tr>\n",
       "      <th>4</th>\n",
       "      <td>4-5</td>\n",
       "      <td>0</td>\n",
       "    </tr>\n",
       "  </tbody>\n",
       "</table>\n",
       "</div>"
      ],
      "text/plain": [
       "  Period  Productivity\n",
       "0    0-1             1\n",
       "1    1-2             0\n",
       "2    2-3             0\n",
       "3    3-4             0\n",
       "4    4-5             0"
      ]
     },
     "execution_count": 5,
     "metadata": {},
     "output_type": "execute_result"
    }
   ],
   "source": [
    "df.head()"
   ]
  },
  {
   "cell_type": "code",
   "execution_count": 6,
   "id": "503bae67",
   "metadata": {},
   "outputs": [
    {
     "data": {
      "text/html": [
       "<div>\n",
       "<style scoped>\n",
       "    .dataframe tbody tr th:only-of-type {\n",
       "        vertical-align: middle;\n",
       "    }\n",
       "\n",
       "    .dataframe tbody tr th {\n",
       "        vertical-align: top;\n",
       "    }\n",
       "\n",
       "    .dataframe thead th {\n",
       "        text-align: right;\n",
       "    }\n",
       "</style>\n",
       "<table border=\"1\" class=\"dataframe\">\n",
       "  <thead>\n",
       "    <tr style=\"text-align: right;\">\n",
       "      <th></th>\n",
       "      <th>Period</th>\n",
       "      <th>Productivity</th>\n",
       "    </tr>\n",
       "  </thead>\n",
       "  <tbody>\n",
       "    <tr>\n",
       "      <th>19</th>\n",
       "      <td>19-20</td>\n",
       "      <td>4</td>\n",
       "    </tr>\n",
       "    <tr>\n",
       "      <th>20</th>\n",
       "      <td>20-21</td>\n",
       "      <td>3</td>\n",
       "    </tr>\n",
       "    <tr>\n",
       "      <th>21</th>\n",
       "      <td>21-22</td>\n",
       "      <td>2</td>\n",
       "    </tr>\n",
       "    <tr>\n",
       "      <th>22</th>\n",
       "      <td>22-23</td>\n",
       "      <td>2</td>\n",
       "    </tr>\n",
       "    <tr>\n",
       "      <th>23</th>\n",
       "      <td>23-00</td>\n",
       "      <td>1</td>\n",
       "    </tr>\n",
       "  </tbody>\n",
       "</table>\n",
       "</div>"
      ],
      "text/plain": [
       "   Period  Productivity\n",
       "19  19-20             4\n",
       "20  20-21             3\n",
       "21  21-22             2\n",
       "22  22-23             2\n",
       "23  23-00             1"
      ]
     },
     "execution_count": 6,
     "metadata": {},
     "output_type": "execute_result"
    }
   ],
   "source": [
    "df.tail()"
   ]
  },
  {
   "cell_type": "code",
   "execution_count": 7,
   "id": "c43ef7fe",
   "metadata": {},
   "outputs": [
    {
     "data": {
      "image/png": "[encoded data removed]",
      "text/plain": [
       "<Figure size 432x288 with 1 Axes>"
      ]
     },
     "metadata": {
      "needs_background": "light"
     },
     "output_type": "display_data"
    }
   ],
   "source": [
    "plt.bar(df['Period'],df['Productivity'],color='r')\n",
    "plt.xticks(rotation=75)\n",
    "plt.xlabel(\"Period\",fontsize=12)\n",
    "plt.ylabel(\"Productivity\",fontsize=12)\n",
    "plt.title(\"Productivity vs Period\",fontsize=20)\n",
    "plt.show()"
   ]
  },
  {
   "cell_type": "markdown",
   "id": "3740313b",
   "metadata": {},
   "source": [
    "Conclusion: From the above chart one can conclude that, i am more productive during morning and early afternoon period, productivity decreases as we move towards late afternoon, and again increases (after the coffee break i take at 16:00 hrs). I spend much of my late evenings scrolling instagram and watching you tube videos that's reason, the productivity is less there. Thereafter i do exercise and attend online lectures on MyCaptain and Practice the codes. I read novels before going to bed or sometimes chat with my friends on what's app that's why the productivity is average during that period. The Zero Productivity region is when i am asleep."
   ]
  },
  {
   "cell_type": "markdown",
   "id": "88f44c14",
   "metadata": {},
   "source": [
    "The End"
   ]
  }
 ],
 "metadata": {
  "kernelspec": {
   "display_name": "Python 3",
   "language": "python",
   "name": "python3"
  },
  "language_info": {
   "codemirror_mode": {
    "name": "ipython",
    "version": 3
   },
   "file_extension": ".py",
   "mimetype": "text/x-python",
   "name": "python",
   "nbconvert_exporter": "python",
   "pygments_lexer": "ipython3",
   "version": "3.8.8"
  }
 },
 "nbformat": 4,
 "nbformat_minor": 5
}
